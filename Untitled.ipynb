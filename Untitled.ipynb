{
 "cells": [
  {
   "cell_type": "code",
   "execution_count": null,
   "id": "dbb8e414",
   "metadata": {},
   "outputs": [],
   "source": [
    "%load_ext autoreload\n",
    "%autoreload 2"
   ]
  },
  {
   "cell_type": "code",
   "execution_count": null,
   "id": "39aaf456",
   "metadata": {},
   "outputs": [],
   "source": [
    "from tradeit.backtester import BacktestWrapper\n",
    "from tradeit.strategies import Bouncing"
   ]
  },
  {
   "cell_type": "code",
   "execution_count": null,
   "id": "72da266d",
   "metadata": {},
   "outputs": [],
   "source": [
    "path = r\"C:\\Users\\abdel\\Desktop\\archive\\Stocks\\a.us.txt\""
   ]
  },
  {
   "cell_type": "code",
   "execution_count": null,
   "id": "1603ab38",
   "metadata": {},
   "outputs": [],
   "source": [
    "btw = BacktestWrapper(strategy=Bouncing, analysis_type=\"MICRO\")"
   ]
  },
  {
   "cell_type": "code",
   "execution_count": null,
   "id": "2ba124fc",
   "metadata": {},
   "outputs": [],
   "source": [
    "btr = btw.run(path, plot=True)"
   ]
  },
  {
   "cell_type": "code",
   "execution_count": null,
   "id": "89e0321a",
   "metadata": {},
   "outputs": [],
   "source": [
    "import pandas as pd\n",
    "from tradeit.constants import SYMBOL"
   ]
  },
  {
   "cell_type": "code",
   "execution_count": null,
   "id": "d0b2c78d",
   "metadata": {},
   "outputs": [],
   "source": [
    "df = pd.read_csv(\"logs/bouncing_results.csv\")"
   ]
  },
  {
   "cell_type": "code",
   "execution_count": null,
   "id": "6871e784",
   "metadata": {},
   "outputs": [],
   "source": [
    "df.rename(columns={\"Unnamed: 0\": SYMBOL}, inplace=True)"
   ]
  },
  {
   "cell_type": "code",
   "execution_count": null,
   "id": "1c71d775",
   "metadata": {},
   "outputs": [],
   "source": [
    "df"
   ]
  },
  {
   "cell_type": "code",
   "execution_count": null,
   "id": "e51f84ad",
   "metadata": {},
   "outputs": [],
   "source": [
    "from tradeit.optimization.analysis import Analyzer"
   ]
  },
  {
   "cell_type": "code",
   "execution_count": null,
   "id": "6a7a8722",
   "metadata": {},
   "outputs": [],
   "source": [
    "analyzer = Analyzer(df)"
   ]
  },
  {
   "cell_type": "code",
   "execution_count": null,
   "id": "57a44a0e",
   "metadata": {},
   "outputs": [],
   "source": [
    "analyzer.win_rate()"
   ]
  },
  {
   "cell_type": "code",
   "execution_count": null,
   "id": "f665c6ab",
   "metadata": {},
   "outputs": [],
   "source": [
    "analyzer.stats()"
   ]
  },
  {
   "cell_type": "code",
   "execution_count": 151,
   "id": "e7799bcc",
   "metadata": {},
   "outputs": [],
   "source": [
    "from tradeit.optimization import ML, Dataset, DatasetBuilder"
   ]
  },
  {
   "cell_type": "code",
   "execution_count": 152,
   "id": "02a1e971",
   "metadata": {},
   "outputs": [],
   "source": [
    "def ema18(stock: pd.DataFrame) -> pd.Series:\n",
    "    return stock[\"Close\"].ewm(span=18, adjust=False).mean()\n",
    "\n",
    "def ema50(stock: pd.DataFrame) -> pd.Series:\n",
    "    return stock[\"Close\"].ewm(span=50, adjust=False).mean()\n",
    "\n",
    "def ema100(stock: pd.DataFrame) -> pd.Series:\n",
    "    return stock[\"Close\"].ewm(span=100, adjust=False).mean()"
   ]
  },
  {
   "cell_type": "code",
   "execution_count": 153,
   "id": "d0a27f50",
   "metadata": {},
   "outputs": [],
   "source": [
    "indicators = {\"ema18\": ema18, \"ema50\": ema50, \"ema100\": ema100}"
   ]
  },
  {
   "cell_type": "code",
   "execution_count": 154,
   "id": "08a14feb",
   "metadata": {},
   "outputs": [],
   "source": [
    "path_to_ur_stocks = r\"C:\\Users\\abdel\\Desktop\\archive\\Stocks\""
   ]
  },
  {
   "cell_type": "code",
   "execution_count": 155,
   "id": "09fd2f9b",
   "metadata": {},
   "outputs": [],
   "source": [
    "dataset_builder = DatasetBuilder(df, path_to_ur_stocks, indicators)"
   ]
  },
  {
   "cell_type": "code",
   "execution_count": 156,
   "id": "1b20c19c",
   "metadata": {},
   "outputs": [
    {
     "name": "stderr",
     "output_type": "stream",
     "text": [
      "100%|████████████████████████████████████████████████████████████████████████████████████| 1/1 [00:00<00:00, 15.61it/s]\n"
     ]
    }
   ],
   "source": [
    "dataset = dataset_builder.build()"
   ]
  },
  {
   "cell_type": "code",
   "execution_count": 162,
   "id": "f074e867-722f-45ce-932a-15296c45bcfc",
   "metadata": {},
   "outputs": [],
   "source": [
    "from tradeit.optimization import ML"
   ]
  },
  {
   "cell_type": "code",
   "execution_count": 163,
   "id": "1b7a9cd0-6ee4-44f3-88dd-c43e454ab19d",
   "metadata": {},
   "outputs": [],
   "source": [
    "# optimizing \n",
    "ml = ML(dataset)\n",
    "ml.fit()"
   ]
  },
  {
   "cell_type": "code",
   "execution_count": 164,
   "id": "09d05b7d-2e3a-45d7-82fd-770fa8b67467",
   "metadata": {},
   "outputs": [
    {
     "data": {
      "text/plain": [
       "[0.0, 0.0, 0.0, 0.0]"
      ]
     },
     "execution_count": 164,
     "metadata": {},
     "output_type": "execute_result"
    }
   ],
   "source": [
    "ml.evaluate()"
   ]
  },
  {
   "cell_type": "code",
   "execution_count": null,
   "id": "609dfa06-cf4c-4a89-900f-ccbd634ff232",
   "metadata": {},
   "outputs": [],
   "source": []
  },
  {
   "cell_type": "code",
   "execution_count": null,
   "id": "923e2fb1-7c7e-4e16-91b0-28e5828a6363",
   "metadata": {},
   "outputs": [],
   "source": []
  }
 ],
 "metadata": {
  "kernelspec": {
   "display_name": "Python 3 (ipykernel)",
   "language": "python",
   "name": "python3"
  },
  "language_info": {
   "codemirror_mode": {
    "name": "ipython",
    "version": 3
   },
   "file_extension": ".py",
   "mimetype": "text/x-python",
   "name": "python",
   "nbconvert_exporter": "python",
   "pygments_lexer": "ipython3",
   "version": "3.9.7"
  }
 },
 "nbformat": 4,
 "nbformat_minor": 5
}
