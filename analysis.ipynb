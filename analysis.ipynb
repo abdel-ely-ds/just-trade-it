{
 "cells": [
  {
   "cell_type": "code",
   "execution_count": 45,
   "id": "f148e27a-c986-4cab-9dd2-e6ab3a68a053",
   "metadata": {},
   "outputs": [
    {
     "name": "stdout",
     "output_type": "stream",
     "text": [
      "The autoreload extension is already loaded. To reload it, use:\n",
      "  %reload_ext autoreload\n"
     ]
    }
   ],
   "source": [
    "%load_ext autoreload\n",
    "%autoreload 2\n",
    "\n",
    "from t_nachine.optimization import Analyzer\n",
    "import pandas as pd\n",
    "from tqdm import tqdm"
   ]
  },
  {
   "cell_type": "code",
   "execution_count": 13,
   "id": "3274e421-28fa-4c64-b655-8f2049da09dd",
   "metadata": {},
   "outputs": [],
   "source": [
    "path = \"logs/bounce.csv\"\n",
    "df = pd.read_csv(path)"
   ]
  },
  {
   "cell_type": "code",
   "execution_count": 29,
   "id": "449b7bb6-cdde-4fc1-bd19-67d68718b5f6",
   "metadata": {},
   "outputs": [],
   "source": [
    "analyzer = Analyzer(df)"
   ]
  },
  {
   "cell_type": "code",
   "execution_count": 30,
   "id": "fe6abb44-6caa-42bd-8475-b59c3b6e8ada",
   "metadata": {},
   "outputs": [
    {
     "data": {
      "text/plain": [
       "0.38353008926000576"
      ]
     },
     "execution_count": 30,
     "metadata": {},
     "output_type": "execute_result"
    }
   ],
   "source": [
    "analyzer.win_rate"
   ]
  },
  {
   "cell_type": "code",
   "execution_count": 41,
   "id": "c929d861-12eb-44c5-9acc-011903e519c0",
   "metadata": {},
   "outputs": [
    {
     "data": {
      "text/plain": [
       "0.144"
      ]
     },
     "execution_count": 41,
     "metadata": {},
     "output_type": "execute_result"
    }
   ],
   "source": [
    "analyzer.losing_streak_probability(n=4)"
   ]
  },
  {
   "cell_type": "code",
   "execution_count": 38,
   "id": "e6b47fe1-cbe2-40af-8fce-b6d6d85ed2bb",
   "metadata": {},
   "outputs": [
    {
     "data": {
      "text/plain": [
       "0.147"
      ]
     },
     "execution_count": 38,
     "metadata": {},
     "output_type": "execute_result"
    }
   ],
   "source": [
    "analyzer.winning_streak_probability(n=2)"
   ]
  },
  {
   "cell_type": "code",
   "execution_count": 77,
   "id": "31edfc44-9f35-4eea-92d7-baff2ee1638a",
   "metadata": {},
   "outputs": [
    {
     "data": {
      "text/html": [
       "<div>\n",
       "<style scoped>\n",
       "    .dataframe tbody tr th:only-of-type {\n",
       "        vertical-align: middle;\n",
       "    }\n",
       "\n",
       "    .dataframe tbody tr th {\n",
       "        vertical-align: top;\n",
       "    }\n",
       "\n",
       "    .dataframe thead tr th {\n",
       "        text-align: left;\n",
       "    }\n",
       "\n",
       "    .dataframe thead tr:last-of-type th {\n",
       "        text-align: right;\n",
       "    }\n",
       "</style>\n",
       "<table border=\"1\" class=\"dataframe\">\n",
       "  <thead>\n",
       "    <tr>\n",
       "      <th></th>\n",
       "      <th colspan=\"5\" halign=\"left\">Duration</th>\n",
       "      <th colspan=\"5\" halign=\"left\">RiskToReward</th>\n",
       "    </tr>\n",
       "    <tr>\n",
       "      <th></th>\n",
       "      <th>mean</th>\n",
       "      <th>median</th>\n",
       "      <th>min</th>\n",
       "      <th>max</th>\n",
       "      <th>std</th>\n",
       "      <th>mean</th>\n",
       "      <th>median</th>\n",
       "      <th>min</th>\n",
       "      <th>max</th>\n",
       "      <th>std</th>\n",
       "    </tr>\n",
       "    <tr>\n",
       "      <th>WinningTrade</th>\n",
       "      <th></th>\n",
       "      <th></th>\n",
       "      <th></th>\n",
       "      <th></th>\n",
       "      <th></th>\n",
       "      <th></th>\n",
       "      <th></th>\n",
       "      <th></th>\n",
       "      <th></th>\n",
       "      <th></th>\n",
       "    </tr>\n",
       "  </thead>\n",
       "  <tbody>\n",
       "    <tr>\n",
       "      <th>False</th>\n",
       "      <td>13.736</td>\n",
       "      <td>7.000</td>\n",
       "      <td>0</td>\n",
       "      <td>1854</td>\n",
       "      <td>24.308</td>\n",
       "      <td>-1.045</td>\n",
       "      <td>-1.000</td>\n",
       "      <td>-16.429</td>\n",
       "      <td>-0.000</td>\n",
       "      <td>0.303</td>\n",
       "    </tr>\n",
       "    <tr>\n",
       "      <th>True</th>\n",
       "      <td>23.185</td>\n",
       "      <td>15.000</td>\n",
       "      <td>0</td>\n",
       "      <td>1068</td>\n",
       "      <td>31.244</td>\n",
       "      <td>2.039</td>\n",
       "      <td>2.000</td>\n",
       "      <td>0.010</td>\n",
       "      <td>17.378</td>\n",
       "      <td>0.365</td>\n",
       "    </tr>\n",
       "  </tbody>\n",
       "</table>\n",
       "</div>"
      ],
      "text/plain": [
       "             Duration                         RiskToReward                 \\\n",
       "                 mean median min   max    std         mean median     min   \n",
       "WinningTrade                                                                \n",
       "False          13.736  7.000   0  1854 24.308       -1.045 -1.000 -16.429   \n",
       "True           23.185 15.000   0  1068 31.244        2.039  2.000   0.010   \n",
       "\n",
       "                           \n",
       "                max   std  \n",
       "WinningTrade               \n",
       "False        -0.000 0.303  \n",
       "True         17.378 0.365  "
      ]
     },
     "execution_count": 77,
     "metadata": {},
     "output_type": "execute_result"
    }
   ],
   "source": [
    "analyzer.stats"
   ]
  },
  {
   "cell_type": "code",
   "execution_count": 83,
   "id": "cf41c1e5-f670-4f59-ae68-00161d559fbf",
   "metadata": {},
   "outputs": [
    {
     "data": {
      "image/png": "[encoded data removed]",
      "text/plain": [
       "<Figure size 576x288 with 1 Axes>"
      ]
     },
     "metadata": {
      "needs_background": "light"
     },
     "output_type": "display_data"
    }
   ],
   "source": [
    "analyzer.plot_equity_curve()"
   ]
  },
  {
   "cell_type": "code",
   "execution_count": 84,
   "id": "f54b9a14-19ad-4355-9f25-7748a9e37047",
   "metadata": {},
   "outputs": [],
   "source": [
    "def compute_cohots(price: float) -> int:\n",
    "    \n",
    "    if price <= 5:\n",
    "        return 1\n",
    "    \n",
    "    if price <= 10:\n",
    "        return 2\n",
    "    \n",
    "    if price <= 50:\n",
    "        return 3\n",
    "    \n",
    "    if price <= 100:\n",
    "        return 4\n",
    "    \n",
    "    if price <= 500:\n",
    "        return 5\n",
    "    \n",
    "    if price <= 1000:\n",
    "        return 6\n",
    "\n",
    "    return 7"
   ]
  },
  {
   "cell_type": "code",
   "execution_count": 85,
   "id": "09cfe61c-0706-463a-b780-e0dd0bcd3270",
   "metadata": {},
   "outputs": [],
   "source": [
    "results = analyzer.backtest_results"
   ]
  },
  {
   "cell_type": "code",
   "execution_count": 86,
   "id": "18bcd444-d2c4-49da-9a97-e150824500ed",
   "metadata": {},
   "outputs": [],
   "source": [
    "results['cohorts'] = results.EntryPrice.apply(compute_cohots)"
   ]
  },
  {
   "cell_type": "code",
   "execution_count": 87,
   "id": "682299fa-3dfd-450b-a6c9-60a776637475",
   "metadata": {},
   "outputs": [
    {
     "data": {
      "text/plain": [
       "cohorts\n",
       "1     3425\n",
       "2     7355\n",
       "3    38122\n",
       "4     7458\n",
       "5     2370\n",
       "6      152\n",
       "7      159\n",
       "dtype: int64"
      ]
     },
     "execution_count": 87,
     "metadata": {},
     "output_type": "execute_result"
    }
   ],
   "source": [
    "results.groupby('cohorts').size()"
   ]
  },
  {
   "cell_type": "code",
   "execution_count": 88,
   "id": "12c18608-5079-4358-9690-2f4820f6717c",
   "metadata": {},
   "outputs": [
    {
     "data": {
      "text/plain": [
       "cohorts\n",
       "1   0.439\n",
       "2   0.408\n",
       "3   0.377\n",
       "4   0.376\n",
       "5   0.359\n",
       "6   0.395\n",
       "7   0.390\n",
       "Name: WinningTrade, dtype: float64"
      ]
     },
     "execution_count": 88,
     "metadata": {},
     "output_type": "execute_result"
    }
   ],
   "source": [
    "results.groupby('cohorts').WinningTrade.mean()"
   ]
  },
  {
   "cell_type": "code",
   "execution_count": 89,
   "id": "1ae37fd8-06af-4022-b2ef-48a77425ea36",
   "metadata": {},
   "outputs": [
    {
     "data": {
      "text/plain": [
       "cohorts\n",
       "1   19.868\n",
       "2   19.813\n",
       "3   17.231\n",
       "4   15.325\n",
       "5   15.093\n",
       "6   15.289\n",
       "7   12.031\n",
       "Name: Duration, dtype: float64"
      ]
     },
     "execution_count": 89,
     "metadata": {},
     "output_type": "execute_result"
    }
   ],
   "source": [
    "results.groupby('cohorts').Duration.mean()"
   ]
  },
  {
   "cell_type": "code",
   "execution_count": 64,
   "id": "447a58b9-422a-4426-b8cd-9159881201f4",
   "metadata": {},
   "outputs": [
    {
     "name": "stderr",
     "output_type": "stream",
     "text": [
      "100%|█████████████████████████████████████████| 100/100 [01:37<00:00,  1.03it/s]\n"
     ]
    },
    {
     "data": {
      "image/png": "[encoded data removed]",
      "text/plain": [
       "<Figure size 576x288 with 1 Axes>"
      ]
     },
     "metadata": {
      "needs_background": "light"
     },
     "output_type": "display_data"
    }
   ],
   "source": [
    "analyzer.plot_simulated_equity_curve(capital=10_000,\n",
    "                                     nb_simulations=100)"
   ]
  },
  {
   "cell_type": "code",
   "execution_count": 74,
   "id": "295404ff-06b0-4848-8cd5-c1191d70a7a0",
   "metadata": {},
   "outputs": [
    {
     "name": "stderr",
     "output_type": "stream",
     "text": [
      "100%|█████████████████████████████████████████| 200/200 [03:26<00:00,  1.03s/it]\n"
     ]
    },
    {
     "data": {
      "text/plain": [
       "0.754"
      ]
     },
     "execution_count": 74,
     "metadata": {},
     "output_type": "execute_result"
    }
   ],
   "source": [
    "analyzer.ruin_probability(nb_simulations=200, ruin_level=1.00)"
   ]
  },
  {
   "cell_type": "code",
   "execution_count": null,
   "id": "bdda7720-8e8c-4b42-b3a4-4ac7a98f7db7",
   "metadata": {},
   "outputs": [],
   "source": []
  }
 ],
 "metadata": {
  "kernelspec": {
   "display_name": "Python 3 (ipykernel)",
   "language": "python",
   "name": "python3"
  },
  "language_info": {
   "codemirror_mode": {
    "name": "ipython",
    "version": 3
   },
   "file_extension": ".py",
   "mimetype": "text/x-python",
   "name": "python",
   "nbconvert_exporter": "python",
   "pygments_lexer": "ipython3",
   "version": "3.8.10"
  }
 },
 "nbformat": 4,
 "nbformat_minor": 5
}
