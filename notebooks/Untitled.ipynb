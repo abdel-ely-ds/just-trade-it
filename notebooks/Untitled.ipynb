{
 "cells": [
  {
   "cell_type": "code",
   "execution_count": 1,
   "id": "d04080b8-b765-46ce-9030-2043662d57ec",
   "metadata": {},
   "outputs": [],
   "source": [
    "from yahoofinancials import YahooFinancials\n",
    "\n",
    "ticker = 'AAPL'\n",
    "yahoo_financials = YahooFinancials(ticker)"
   ]
  },
  {
   "cell_type": "code",
   "execution_count": 2,
   "id": "2923b995-ff94-4c5e-9847-fe3f81834b8a",
   "metadata": {},
   "outputs": [
    {
     "data": {
      "text/plain": [
       "<yahoofinancials.YahooFinancials at 0x7efe243966a0>"
      ]
     },
     "execution_count": 2,
     "metadata": {},
     "output_type": "execute_result"
    }
   ],
   "source": [
    "yahoo_financials"
   ]
  },
  {
   "cell_type": "code",
   "execution_count": 3,
   "id": "c6b4235c-d352-4ba7-b0d9-7b745d25bcd4",
   "metadata": {},
   "outputs": [],
   "source": [
    "balance_sheet_data_qt = yahoo_financials.get_financial_stmts('quarterly', 'balance')"
   ]
  },
  {
   "cell_type": "code",
   "execution_count": 4,
   "id": "1b9104c7-2679-4eb5-b43e-46c7e520541e",
   "metadata": {},
   "outputs": [
    {
     "data": {
      "text/plain": [
       "{'balanceSheetHistoryQuarterly': {'AAPL': [{'2021-09-25': {'totalLiab': 287912000000,\n",
       "     'totalStockholderEquity': 63090000000,\n",
       "     'otherCurrentLiab': 53577000000,\n",
       "     'totalAssets': 351002000000,\n",
       "     'commonStock': 57365000000,\n",
       "     'otherCurrentAssets': 14111000000,\n",
       "     'retainedEarnings': 5562000000,\n",
       "     'otherLiab': 43050000000,\n",
       "     'treasuryStock': 163000000,\n",
       "     'otherAssets': 38762000000,\n",
       "     'cash': 34940000000,\n",
       "     'totalCurrentLiabilities': 125481000000,\n",
       "     'shortLongTermDebt': 9613000000,\n",
       "     'otherStockholderEquity': 163000000,\n",
       "     'propertyPlantEquipment': 49527000000,\n",
       "     'totalCurrentAssets': 134836000000,\n",
       "     'longTermInvestments': 127877000000,\n",
       "     'netTangibleAssets': 63090000000,\n",
       "     'shortTermInvestments': 27699000000,\n",
       "     'netReceivables': 51506000000,\n",
       "     'longTermDebt': 109106000000,\n",
       "     'inventory': 6580000000,\n",
       "     'accountsPayable': 54763000000}},\n",
       "   {'2021-06-26': {'totalLiab': 265560000000,\n",
       "     'totalStockholderEquity': 64280000000,\n",
       "     'otherCurrentLiab': 51306000000,\n",
       "     'totalAssets': 329840000000,\n",
       "     'commonStock': 54989000000,\n",
       "     'otherCurrentAssets': 13641000000,\n",
       "     'retainedEarnings': 9233000000,\n",
       "     'otherLiab': 38354000000,\n",
       "     'treasuryStock': 58000000,\n",
       "     'otherAssets': 44854000000,\n",
       "     'cash': 34050000000,\n",
       "     'totalCurrentLiabilities': 107754000000,\n",
       "     'shortLongTermDebt': 8039000000,\n",
       "     'otherStockholderEquity': 58000000,\n",
       "     'propertyPlantEquipment': 38615000000,\n",
       "     'totalCurrentAssets': 114423000000,\n",
       "     'longTermInvestments': 131948000000,\n",
       "     'netTangibleAssets': 64280000000,\n",
       "     'shortTermInvestments': 27646000000,\n",
       "     'netReceivables': 33908000000,\n",
       "     'longTermDebt': 105752000000,\n",
       "     'inventory': 5178000000,\n",
       "     'accountsPayable': 40409000000}},\n",
       "   {'2021-03-27': {'totalLiab': 267980000000,\n",
       "     'totalStockholderEquity': 69178000000,\n",
       "     'otherCurrentLiab': 53255000000,\n",
       "     'totalAssets': 337158000000,\n",
       "     'commonStock': 54203000000,\n",
       "     'otherCurrentAssets': 13376000000,\n",
       "     'retainedEarnings': 15261000000,\n",
       "     'otherLiab': 39853000000,\n",
       "     'treasuryStock': -286000000,\n",
       "     'otherAssets': 43339000000,\n",
       "     'cash': 38466000000,\n",
       "     'totalCurrentLiabilities': 106385000000,\n",
       "     'shortLongTermDebt': 8003000000,\n",
       "     'otherStockholderEquity': -286000000,\n",
       "     'propertyPlantEquipment': 37815000000,\n",
       "     'totalCurrentAssets': 121465000000,\n",
       "     'longTermInvestments': 134539000000,\n",
       "     'netTangibleAssets': 69178000000,\n",
       "     'shortTermInvestments': 31368000000,\n",
       "     'netReceivables': 33036000000,\n",
       "     'longTermDebt': 108642000000,\n",
       "     'inventory': 5219000000,\n",
       "     'accountsPayable': 40127000000}},\n",
       "   {'2020-12-26': {'totalLiab': 287830000000,\n",
       "     'totalStockholderEquity': 66224000000,\n",
       "     'otherCurrentLiab': 55899000000,\n",
       "     'totalAssets': 354054000000,\n",
       "     'commonStock': 51744000000,\n",
       "     'otherCurrentAssets': 13687000000,\n",
       "     'retainedEarnings': 14301000000,\n",
       "     'otherLiab': 43042000000,\n",
       "     'treasuryStock': 179000000,\n",
       "     'otherAssets': 43270000000,\n",
       "     'cash': 36010000000,\n",
       "     'totalCurrentLiabilities': 132507000000,\n",
       "     'shortLongTermDebt': 7762000000,\n",
       "     'otherStockholderEquity': 179000000,\n",
       "     'propertyPlantEquipment': 37933000000,\n",
       "     'totalCurrentAssets': 154106000000,\n",
       "     'longTermInvestments': 118745000000,\n",
       "     'netTangibleAssets': 66224000000,\n",
       "     'shortTermInvestments': 40816000000,\n",
       "     'netReceivables': 58620000000,\n",
       "     'longTermDebt': 99281000000,\n",
       "     'inventory': 4973000000,\n",
       "     'accountsPayable': 63846000000}}]}}"
      ]
     },
     "execution_count": 4,
     "metadata": {},
     "output_type": "execute_result"
    }
   ],
   "source": [
    "balance_sheet_data_qt"
   ]
  },
  {
   "cell_type": "code",
   "execution_count": null,
   "id": "e7a01746-41f6-4697-aaee-c9138017df3c",
   "metadata": {},
   "outputs": [],
   "source": []
  }
 ],
 "metadata": {
  "kernelspec": {
   "display_name": "Python 3 (ipykernel)",
   "language": "python",
   "name": "python3"
  },
  "language_info": {
   "codemirror_mode": {
    "name": "ipython",
    "version": 3
   },
   "file_extension": ".py",
   "mimetype": "text/x-python",
   "name": "python",
   "nbconvert_exporter": "python",
   "pygments_lexer": "ipython3",
   "version": "3.8.10"
  }
 },
 "nbformat": 4,
 "nbformat_minor": 5
}
