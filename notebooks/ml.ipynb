{
 "cells": [
  {
   "cell_type": "code",
   "execution_count": 1,
   "id": "f6e2d490-633e-48e8-abe2-d046c61ac6db",
   "metadata": {},
   "outputs": [
    {
     "data": {
      "text/html": [
       "\n",
       "    <div class=\"bk-root\">\n",
       "        <a href=\"https://bokeh.org\" target=\"_blank\" class=\"bk-logo bk-logo-small bk-logo-notebook\"></a>\n",
       "        <span id=\"1002\">Loading BokehJS ...</span>\n",
       "    </div>"
      ]
     },
     "metadata": {},
     "output_type": "display_data"
    },
    {
     "data": {
      "application/javascript": [
       "\n",
       "(function(root) {\n",
       "  function now() {\n",
       "    return new Date();\n",
       "  }\n",
       "\n",
       "  const force = true;\n",
       "\n",
       "  if (typeof root._bokeh_onload_callbacks === \"undefined\" || force === true) {\n",
       "    root._bokeh_onload_callbacks = [];\n",
       "    root._bokeh_is_loading = undefined;\n",
       "  }\n",
       "\n",
       "  const JS_MIME_TYPE = 'application/javascript';\n",
       "  const HTML_MIME_TYPE = 'text/html';\n",
       "  const EXEC_MIME_TYPE = 'application/vnd.bokehjs_exec.v0+json';\n",
       "  const CLASS_NAME = 'output_bokeh rendered_html';\n",
       "\n",
       "  /**\n",
       "   * Render data to the DOM node\n",
       "   */\n",
       "  function render(props, node) {\n",
       "    const script = document.createElement(\"script\");\n",
       "    node.appendChild(script);\n",
       "  }\n",
       "\n",
       "  /**\n",
       "   * Handle when an output is cleared or removed\n",
       "   */\n",
       "  function handleClearOutput(event, handle) {\n",
       "    const cell = handle.cell;\n",
       "\n",
       "    const id = cell.output_area._bokeh_element_id;\n",
       "    const server_id = cell.output_area._bokeh_server_id;\n",
       "    // Clean up Bokeh references\n",
       "    if (id != null && id in Bokeh.index) {\n",
       "      Bokeh.index[id].model.document.clear();\n",
       "      delete Bokeh.index[id];\n",
       "    }\n",
       "\n",
       "    if (server_id !== undefined) {\n",
       "      // Clean up Bokeh references\n",
       "      const cmd_clean = \"from bokeh.io.state import curstate; print(curstate().uuid_to_server['\" + server_id + \"'].get_sessions()[0].document.roots[0]._id)\";\n",
       "      cell.notebook.kernel.execute(cmd_clean, {\n",
       "        iopub: {\n",
       "          output: function(msg) {\n",
       "            const id = msg.content.text.trim();\n",
       "            if (id in Bokeh.index) {\n",
       "              Bokeh.index[id].model.document.clear();\n",
       "              delete Bokeh.index[id];\n",
       "            }\n",
       "          }\n",
       "        }\n",
       "      });\n",
       "      // Destroy server and session\n",
       "      const cmd_destroy = \"import bokeh.io.notebook as ion; ion.destroy_server('\" + server_id + \"')\";\n",
       "      cell.notebook.kernel.execute(cmd_destroy);\n",
       "    }\n",
       "  }\n",
       "\n",
       "  /**\n",
       "   * Handle when a new output is added\n",
       "   */\n",
       "  function handleAddOutput(event, handle) {\n",
       "    const output_area = handle.output_area;\n",
       "    const output = handle.output;\n",
       "\n",
       "    // limit handleAddOutput to display_data with EXEC_MIME_TYPE content only\n",
       "    if ((output.output_type != \"display_data\") || (!Object.prototype.hasOwnProperty.call(output.data, EXEC_MIME_TYPE))) {\n",
       "      return\n",
       "    }\n",
       "\n",
       "    const toinsert = output_area.element.find(\".\" + CLASS_NAME.split(' ')[0]);\n",
       "\n",
       "    if (output.metadata[EXEC_MIME_TYPE][\"id\"] !== undefined) {\n",
       "      toinsert[toinsert.length - 1].firstChild.textContent = output.data[JS_MIME_TYPE];\n",
       "      // store reference to embed id on output_area\n",
       "      output_area._bokeh_element_id = output.metadata[EXEC_MIME_TYPE][\"id\"];\n",
       "    }\n",
       "    if (output.metadata[EXEC_MIME_TYPE][\"server_id\"] !== undefined) {\n",
       "      const bk_div = document.createElement(\"div\");\n",
       "      bk_div.innerHTML = output.data[HTML_MIME_TYPE];\n",
       "      const script_attrs = bk_div.children[0].attributes;\n",
       "      for (let i = 0; i < script_attrs.length; i++) {\n",
       "        toinsert[toinsert.length - 1].firstChild.setAttribute(script_attrs[i].name, script_attrs[i].value);\n",
       "        toinsert[toinsert.length - 1].firstChild.textContent = bk_div.children[0].textContent\n",
       "      }\n",
       "      // store reference to server id on output_area\n",
       "      output_area._bokeh_server_id = output.metadata[EXEC_MIME_TYPE][\"server_id\"];\n",
       "    }\n",
       "  }\n",
       "\n",
       "  function register_renderer(events, OutputArea) {\n",
       "\n",
       "    function append_mime(data, metadata, element) {\n",
       "      // create a DOM node to render to\n",
       "      const toinsert = this.create_output_subarea(\n",
       "        metadata,\n",
       "        CLASS_NAME,\n",
       "        EXEC_MIME_TYPE\n",
       "      );\n",
       "      this.keyboard_manager.register_events(toinsert);\n",
       "      // Render to node\n",
       "      const props = {data: data, metadata: metadata[EXEC_MIME_TYPE]};\n",
       "      render(props, toinsert[toinsert.length - 1]);\n",
       "      element.append(toinsert);\n",
       "      return toinsert\n",
       "    }\n",
       "\n",
       "    /* Handle when an output is cleared or removed */\n",
       "    events.on('clear_output.CodeCell', handleClearOutput);\n",
       "    events.on('delete.Cell', handleClearOutput);\n",
       "\n",
       "    /* Handle when a new output is added */\n",
       "    events.on('output_added.OutputArea', handleAddOutput);\n",
       "\n",
       "    /**\n",
       "     * Register the mime type and append_mime function with output_area\n",
       "     */\n",
       "    OutputArea.prototype.register_mime_type(EXEC_MIME_TYPE, append_mime, {\n",
       "      /* Is output safe? */\n",
       "      safe: true,\n",
       "      /* Index of renderer in `output_area.display_order` */\n",
       "      index: 0\n",
       "    });\n",
       "  }\n",
       "\n",
       "  // register the mime type if in Jupyter Notebook environment and previously unregistered\n",
       "  if (root.Jupyter !== undefined) {\n",
       "    const events = require('base/js/events');\n",
       "    const OutputArea = require('notebook/js/outputarea').OutputArea;\n",
       "\n",
       "    if (OutputArea.prototype.mime_types().indexOf(EXEC_MIME_TYPE) == -1) {\n",
       "      register_renderer(events, OutputArea);\n",
       "    }\n",
       "  }\n",
       "\n",
       "  \n",
       "  if (typeof (root._bokeh_timeout) === \"undefined\" || force === true) {\n",
       "    root._bokeh_timeout = Date.now() + 5000;\n",
       "    root._bokeh_failed_load = false;\n",
       "  }\n",
       "\n",
       "  const NB_LOAD_WARNING = {'data': {'text/html':\n",
       "     \"<div style='background-color: #fdd'>\\n\"+\n",
       "     \"<p>\\n\"+\n",
       "     \"BokehJS does not appear to have successfully loaded. If loading BokehJS from CDN, this \\n\"+\n",
       "     \"may be due to a slow or bad network connection. Possible fixes:\\n\"+\n",
       "     \"</p>\\n\"+\n",
       "     \"<ul>\\n\"+\n",
       "     \"<li>re-rerun `output_notebook()` to attempt to load from CDN again, or</li>\\n\"+\n",
       "     \"<li>use INLINE resources instead, as so:</li>\\n\"+\n",
       "     \"</ul>\\n\"+\n",
       "     \"<code>\\n\"+\n",
       "     \"from bokeh.resources import INLINE\\n\"+\n",
       "     \"output_notebook(resources=INLINE)\\n\"+\n",
       "     \"</code>\\n\"+\n",
       "     \"</div>\"}};\n",
       "\n",
       "  function display_loaded() {\n",
       "    const el = document.getElementById(\"1002\");\n",
       "    if (el != null) {\n",
       "      el.textContent = \"BokehJS is loading...\";\n",
       "    }\n",
       "    if (root.Bokeh !== undefined) {\n",
       "      if (el != null) {\n",
       "        el.textContent = \"BokehJS \" + root.Bokeh.version + \" successfully loaded.\";\n",
       "      }\n",
       "    } else if (Date.now() < root._bokeh_timeout) {\n",
       "      setTimeout(display_loaded, 100)\n",
       "    }\n",
       "  }\n",
       "\n",
       "\n",
       "  function run_callbacks() {\n",
       "    try {\n",
       "      root._bokeh_onload_callbacks.forEach(function(callback) {\n",
       "        if (callback != null)\n",
       "          callback();\n",
       "      });\n",
       "    } finally {\n",
       "      delete root._bokeh_onload_callbacks\n",
       "    }\n",
       "    console.debug(\"Bokeh: all callbacks have finished\");\n",
       "  }\n",
       "\n",
       "  function load_libs(css_urls, js_urls, callback) {\n",
       "    if (css_urls == null) css_urls = [];\n",
       "    if (js_urls == null) js_urls = [];\n",
       "\n",
       "    root._bokeh_onload_callbacks.push(callback);\n",
       "    if (root._bokeh_is_loading > 0) {\n",
       "      console.debug(\"Bokeh: BokehJS is being loaded, scheduling callback at\", now());\n",
       "      return null;\n",
       "    }\n",
       "    if (js_urls == null || js_urls.length === 0) {\n",
       "      run_callbacks();\n",
       "      return null;\n",
       "    }\n",
       "    console.debug(\"Bokeh: BokehJS not loaded, scheduling load and callback at\", now());\n",
       "    root._bokeh_is_loading = css_urls.length + js_urls.length;\n",
       "\n",
       "    function on_load() {\n",
       "      root._bokeh_is_loading--;\n",
       "      if (root._bokeh_is_loading === 0) {\n",
       "        console.debug(\"Bokeh: all BokehJS libraries/stylesheets loaded\");\n",
       "        run_callbacks()\n",
       "      }\n",
       "    }\n",
       "\n",
       "    function on_error(url) {\n",
       "      console.error(\"failed to load \" + url);\n",
       "    }\n",
       "\n",
       "    for (let i = 0; i < css_urls.length; i++) {\n",
       "      const url = css_urls[i];\n",
       "      const element = document.createElement(\"link\");\n",
       "      element.onload = on_load;\n",
       "      element.onerror = on_error.bind(null, url);\n",
       "      element.rel = \"stylesheet\";\n",
       "      element.type = \"text/css\";\n",
       "      element.href = url;\n",
       "      console.debug(\"Bokeh: injecting link tag for BokehJS stylesheet: \", url);\n",
       "      document.body.appendChild(element);\n",
       "    }\n",
       "\n",
       "    for (let i = 0; i < js_urls.length; i++) {\n",
       "      const url = js_urls[i];\n",
       "      const element = document.createElement('script');\n",
       "      element.onload = on_load;\n",
       "      element.onerror = on_error.bind(null, url);\n",
       "      element.async = false;\n",
       "      element.src = url;\n",
       "      console.debug(\"Bokeh: injecting script tag for BokehJS library: \", url);\n",
       "      document.head.appendChild(element);\n",
       "    }\n",
       "  };\n",
       "\n",
       "  function inject_raw_css(css) {\n",
       "    const element = document.createElement(\"style\");\n",
       "    element.appendChild(document.createTextNode(css));\n",
       "    document.body.appendChild(element);\n",
       "  }\n",
       "\n",
       "  \n",
       "  const js_urls = [\"https://cdn.bokeh.org/bokeh/release/bokeh-2.4.1.min.js\", \"https://cdn.bokeh.org/bokeh/release/bokeh-gl-2.4.1.min.js\", \"https://cdn.bokeh.org/bokeh/release/bokeh-widgets-2.4.1.min.js\", \"https://cdn.bokeh.org/bokeh/release/bokeh-tables-2.4.1.min.js\", \"https://cdn.bokeh.org/bokeh/release/bokeh-mathjax-2.4.1.min.js\"];\n",
       "  const css_urls = [];\n",
       "  \n",
       "\n",
       "  const inline_js = [\n",
       "    function(Bokeh) {\n",
       "      Bokeh.set_log_level(\"info\");\n",
       "    },\n",
       "    function(Bokeh) {\n",
       "    \n",
       "    \n",
       "    }\n",
       "  ];\n",
       "\n",
       "  function run_inline_js() {\n",
       "    \n",
       "    if (root.Bokeh !== undefined || force === true) {\n",
       "      \n",
       "    for (let i = 0; i < inline_js.length; i++) {\n",
       "      inline_js[i].call(root, root.Bokeh);\n",
       "    }\n",
       "    if (force === true) {\n",
       "        display_loaded();\n",
       "      }} else if (Date.now() < root._bokeh_timeout) {\n",
       "      setTimeout(run_inline_js, 100);\n",
       "    } else if (!root._bokeh_failed_load) {\n",
       "      console.log(\"Bokeh: BokehJS failed to load within specified timeout.\");\n",
       "      root._bokeh_failed_load = true;\n",
       "    } else if (force !== true) {\n",
       "      const cell = $(document.getElementById(\"1002\")).parents('.cell').data().cell;\n",
       "      cell.output_area.append_execute_result(NB_LOAD_WARNING)\n",
       "    }\n",
       "\n",
       "  }\n",
       "\n",
       "  if (root._bokeh_is_loading === 0) {\n",
       "    console.debug(\"Bokeh: BokehJS loaded, going straight to plotting\");\n",
       "    run_inline_js();\n",
       "  } else {\n",
       "    load_libs(css_urls, js_urls, function() {\n",
       "      console.debug(\"Bokeh: BokehJS plotting callback run at\", now());\n",
       "      run_inline_js();\n",
       "    });\n",
       "  }\n",
       "}(window));"
      ],
      "application/vnd.bokehjs_load.v0+json": "\n(function(root) {\n  function now() {\n    return new Date();\n  }\n\n  const force = true;\n\n  if (typeof root._bokeh_onload_callbacks === \"undefined\" || force === true) {\n    root._bokeh_onload_callbacks = [];\n    root._bokeh_is_loading = undefined;\n  }\n\n  \n\n  \n  if (typeof (root._bokeh_timeout) === \"undefined\" || force === true) {\n    root._bokeh_timeout = Date.now() + 5000;\n    root._bokeh_failed_load = false;\n  }\n\n  const NB_LOAD_WARNING = {'data': {'text/html':\n     \"<div style='background-color: #fdd'>\\n\"+\n     \"<p>\\n\"+\n     \"BokehJS does not appear to have successfully loaded. If loading BokehJS from CDN, this \\n\"+\n     \"may be due to a slow or bad network connection. Possible fixes:\\n\"+\n     \"</p>\\n\"+\n     \"<ul>\\n\"+\n     \"<li>re-rerun `output_notebook()` to attempt to load from CDN again, or</li>\\n\"+\n     \"<li>use INLINE resources instead, as so:</li>\\n\"+\n     \"</ul>\\n\"+\n     \"<code>\\n\"+\n     \"from bokeh.resources import INLINE\\n\"+\n     \"output_notebook(resources=INLINE)\\n\"+\n     \"</code>\\n\"+\n     \"</div>\"}};\n\n  function display_loaded() {\n    const el = document.getElementById(\"1002\");\n    if (el != null) {\n      el.textContent = \"BokehJS is loading...\";\n    }\n    if (root.Bokeh !== undefined) {\n      if (el != null) {\n        el.textContent = \"BokehJS \" + root.Bokeh.version + \" successfully loaded.\";\n      }\n    } else if (Date.now() < root._bokeh_timeout) {\n      setTimeout(display_loaded, 100)\n    }\n  }\n\n\n  function run_callbacks() {\n    try {\n      root._bokeh_onload_callbacks.forEach(function(callback) {\n        if (callback != null)\n          callback();\n      });\n    } finally {\n      delete root._bokeh_onload_callbacks\n    }\n    console.debug(\"Bokeh: all callbacks have finished\");\n  }\n\n  function load_libs(css_urls, js_urls, callback) {\n    if (css_urls == null) css_urls = [];\n    if (js_urls == null) js_urls = [];\n\n    root._bokeh_onload_callbacks.push(callback);\n    if (root._bokeh_is_loading > 0) {\n      console.debug(\"Bokeh: BokehJS is being loaded, scheduling callback at\", now());\n      return null;\n    }\n    if (js_urls == null || js_urls.length === 0) {\n      run_callbacks();\n      return null;\n    }\n    console.debug(\"Bokeh: BokehJS not loaded, scheduling load and callback at\", now());\n    root._bokeh_is_loading = css_urls.length + js_urls.length;\n\n    function on_load() {\n      root._bokeh_is_loading--;\n      if (root._bokeh_is_loading === 0) {\n        console.debug(\"Bokeh: all BokehJS libraries/stylesheets loaded\");\n        run_callbacks()\n      }\n    }\n\n    function on_error(url) {\n      console.error(\"failed to load \" + url);\n    }\n\n    for (let i = 0; i < css_urls.length; i++) {\n      const url = css_urls[i];\n      const element = document.createElement(\"link\");\n      element.onload = on_load;\n      element.onerror = on_error.bind(null, url);\n      element.rel = \"stylesheet\";\n      element.type = \"text/css\";\n      element.href = url;\n      console.debug(\"Bokeh: injecting link tag for BokehJS stylesheet: \", url);\n      document.body.appendChild(element);\n    }\n\n    for (let i = 0; i < js_urls.length; i++) {\n      const url = js_urls[i];\n      const element = document.createElement('script');\n      element.onload = on_load;\n      element.onerror = on_error.bind(null, url);\n      element.async = false;\n      element.src = url;\n      console.debug(\"Bokeh: injecting script tag for BokehJS library: \", url);\n      document.head.appendChild(element);\n    }\n  };\n\n  function inject_raw_css(css) {\n    const element = document.createElement(\"style\");\n    element.appendChild(document.createTextNode(css));\n    document.body.appendChild(element);\n  }\n\n  \n  const js_urls = [\"https://cdn.bokeh.org/bokeh/release/bokeh-2.4.1.min.js\", \"https://cdn.bokeh.org/bokeh/release/bokeh-gl-2.4.1.min.js\", \"https://cdn.bokeh.org/bokeh/release/bokeh-widgets-2.4.1.min.js\", \"https://cdn.bokeh.org/bokeh/release/bokeh-tables-2.4.1.min.js\", \"https://cdn.bokeh.org/bokeh/release/bokeh-mathjax-2.4.1.min.js\"];\n  const css_urls = [];\n  \n\n  const inline_js = [\n    function(Bokeh) {\n      Bokeh.set_log_level(\"info\");\n    },\n    function(Bokeh) {\n    \n    \n    }\n  ];\n\n  function run_inline_js() {\n    \n    if (root.Bokeh !== undefined || force === true) {\n      \n    for (let i = 0; i < inline_js.length; i++) {\n      inline_js[i].call(root, root.Bokeh);\n    }\n    if (force === true) {\n        display_loaded();\n      }} else if (Date.now() < root._bokeh_timeout) {\n      setTimeout(run_inline_js, 100);\n    } else if (!root._bokeh_failed_load) {\n      console.log(\"Bokeh: BokehJS failed to load within specified timeout.\");\n      root._bokeh_failed_load = true;\n    } else if (force !== true) {\n      const cell = $(document.getElementById(\"1002\")).parents('.cell').data().cell;\n      cell.output_area.append_execute_result(NB_LOAD_WARNING)\n    }\n\n  }\n\n  if (root._bokeh_is_loading === 0) {\n    console.debug(\"Bokeh: BokehJS loaded, going straight to plotting\");\n    run_inline_js();\n  } else {\n    load_libs(css_urls, js_urls, function() {\n      console.debug(\"Bokeh: BokehJS plotting callback run at\", now());\n      run_inline_js();\n    });\n  }\n}(window));"
     },
     "metadata": {},
     "output_type": "display_data"
    }
   ],
   "source": [
    "import warnings\n",
    "warnings.filterwarnings(\"ignore\")\n",
    "import pandas as pd \n",
    "import numpy as np\n",
    "from t_nachine.optimization import Analyzer\n",
    "from t_nachine.constants import TRADES_ATTRIBUTES"
   ]
  },
  {
   "cell_type": "code",
   "execution_count": 2,
   "id": "0feeb558-e03b-45c1-8f16-c7574f6670c8",
   "metadata": {},
   "outputs": [],
   "source": [
    "path0 = \"logs/bounce.csv\"\n",
    "path1 = \"logs/extreme_rsi.csv\"\n",
    "\n",
    "df0 = pd.read_csv(path0)\n",
    "df1 = pd.read_csv(path1)\n",
    "\n",
    "df = pd.concat([df0, df1])\n",
    "\n",
    "df.index = range(len(df))"
   ]
  },
  {
   "cell_type": "code",
   "execution_count": 3,
   "id": "5e576f20-e35a-42c1-8b28-bdd0e46d0b3c",
   "metadata": {},
   "outputs": [
    {
     "data": {
      "text/plain": [
       "(29439, 99731)"
      ]
     },
     "execution_count": 3,
     "metadata": {},
     "output_type": "execute_result"
    }
   ],
   "source": [
    "len(df0), len(df1)"
   ]
  },
  {
   "cell_type": "code",
   "execution_count": 4,
   "id": "4ec7b1a8-d2c3-4e4d-8f8c-c90b20520b46",
   "metadata": {},
   "outputs": [],
   "source": [
    "analyzer = Analyzer(df)\n",
    "results = analyzer.backtest_results"
   ]
  },
  {
   "cell_type": "code",
   "execution_count": 5,
   "id": "a1df846d-19ec-4121-9327-55dd9cacab2f",
   "metadata": {},
   "outputs": [
    {
     "data": {
      "text/plain": [
       "128703"
      ]
     },
     "execution_count": 5,
     "metadata": {},
     "output_type": "execute_result"
    }
   ],
   "source": [
    "len(results)"
   ]
  },
  {
   "cell_type": "code",
   "execution_count": 6,
   "id": "a70a333f-14c7-4981-aa7d-58542b044911",
   "metadata": {},
   "outputs": [
    {
     "data": {
      "text/plain": [
       "0.38480843492381683"
      ]
     },
     "execution_count": 6,
     "metadata": {},
     "output_type": "execute_result"
    }
   ],
   "source": [
    "analyzer.win_rate"
   ]
  },
  {
   "cell_type": "code",
   "execution_count": 7,
   "id": "433e27f3-846c-410a-8798-1d3e8948beb2",
   "metadata": {},
   "outputs": [
    {
     "data": {
      "text/html": [
       "<div>\n",
       "<style scoped>\n",
       "    .dataframe tbody tr th:only-of-type {\n",
       "        vertical-align: middle;\n",
       "    }\n",
       "\n",
       "    .dataframe tbody tr th {\n",
       "        vertical-align: top;\n",
       "    }\n",
       "\n",
       "    .dataframe thead tr th {\n",
       "        text-align: left;\n",
       "    }\n",
       "\n",
       "    .dataframe thead tr:last-of-type th {\n",
       "        text-align: right;\n",
       "    }\n",
       "</style>\n",
       "<table border=\"1\" class=\"dataframe\">\n",
       "  <thead>\n",
       "    <tr>\n",
       "      <th></th>\n",
       "      <th colspan=\"5\" halign=\"left\">Duration</th>\n",
       "      <th colspan=\"5\" halign=\"left\">RiskToReward</th>\n",
       "    </tr>\n",
       "    <tr>\n",
       "      <th></th>\n",
       "      <th>mean</th>\n",
       "      <th>median</th>\n",
       "      <th>min</th>\n",
       "      <th>max</th>\n",
       "      <th>std</th>\n",
       "      <th>mean</th>\n",
       "      <th>median</th>\n",
       "      <th>min</th>\n",
       "      <th>max</th>\n",
       "      <th>std</th>\n",
       "    </tr>\n",
       "    <tr>\n",
       "      <th>WinningTrade</th>\n",
       "      <th></th>\n",
       "      <th></th>\n",
       "      <th></th>\n",
       "      <th></th>\n",
       "      <th></th>\n",
       "      <th></th>\n",
       "      <th></th>\n",
       "      <th></th>\n",
       "      <th></th>\n",
       "      <th></th>\n",
       "    </tr>\n",
       "  </thead>\n",
       "  <tbody>\n",
       "    <tr>\n",
       "      <th>False</th>\n",
       "      <td>13.697</td>\n",
       "      <td>6.000</td>\n",
       "      <td>0.000</td>\n",
       "      <td>1854.000</td>\n",
       "      <td>26.216</td>\n",
       "      <td>-1.049</td>\n",
       "      <td>-1.000</td>\n",
       "      <td>-23.132</td>\n",
       "      <td>0.000</td>\n",
       "      <td>0.317</td>\n",
       "    </tr>\n",
       "    <tr>\n",
       "      <th>True</th>\n",
       "      <td>22.974</td>\n",
       "      <td>13.000</td>\n",
       "      <td>0.000</td>\n",
       "      <td>2285.000</td>\n",
       "      <td>42.879</td>\n",
       "      <td>2.044</td>\n",
       "      <td>2.000</td>\n",
       "      <td>0.000</td>\n",
       "      <td>35.120</td>\n",
       "      <td>0.413</td>\n",
       "    </tr>\n",
       "  </tbody>\n",
       "</table>\n",
       "</div>"
      ],
      "text/plain": [
       "             Duration                              RiskToReward         \\\n",
       "                 mean median   min      max    std         mean median   \n",
       "WinningTrade                                                             \n",
       "False          13.697  6.000 0.000 1854.000 26.216       -1.049 -1.000   \n",
       "True           22.974 13.000 0.000 2285.000 42.879        2.044  2.000   \n",
       "\n",
       "                                   \n",
       "                 min    max   std  \n",
       "WinningTrade                       \n",
       "False        -23.132  0.000 0.317  \n",
       "True           0.000 35.120 0.413  "
      ]
     },
     "execution_count": 7,
     "metadata": {},
     "output_type": "execute_result"
    }
   ],
   "source": [
    "analyzer.stats"
   ]
  },
  {
   "cell_type": "markdown",
   "id": "9091b5cf-8d39-49cb-85eb-77c06c60bb91",
   "metadata": {},
   "source": [
    "## Processing"
   ]
  },
  {
   "cell_type": "code",
   "execution_count": 8,
   "id": "c988db44-0c38-4041-9c6c-9226d3434ac5",
   "metadata": {},
   "outputs": [],
   "source": [
    "results = results.sort_values(by=\"EntryTime\")"
   ]
  },
  {
   "cell_type": "code",
   "execution_count": 9,
   "id": "7febc94d-b389-4af2-93fc-c8039834ee58",
   "metadata": {},
   "outputs": [],
   "source": [
    "results.SlPrice = results.EntryPrice - results.OneR"
   ]
  },
  {
   "cell_type": "code",
   "execution_count": 10,
   "id": "0fb1af8d-1a46-4603-8aa5-04bc2acc73fa",
   "metadata": {},
   "outputs": [],
   "source": [
    "## Adding cohorts as a feature\n",
    "\n",
    "def compute_cohots(price: float) -> int:\n",
    "    \n",
    "    if price <= 5:\n",
    "        return 1\n",
    "    \n",
    "    if price <= 10:\n",
    "        return 2\n",
    "    \n",
    "    if price <= 50:\n",
    "        return 3\n",
    "    \n",
    "    if price <= 100:\n",
    "        return 4\n",
    "    \n",
    "    if price <= 500:\n",
    "        return 5\n",
    "    \n",
    "    if price <= 1000:\n",
    "        return 6\n",
    "\n",
    "    return 7\n",
    "\n",
    "results['cohorts'] = results.EntryPrice.apply(compute_cohots)"
   ]
  },
  {
   "cell_type": "code",
   "execution_count": 11,
   "id": "b41b2628-fcb4-4d51-b310-2a9df43ebabd",
   "metadata": {},
   "outputs": [],
   "source": [
    "date = \"2017-01-31\"\n",
    "\n",
    "train = results[pd.to_datetime(results.EntryTime) <= pd.to_datetime(date)]\n",
    "test = results[pd.to_datetime(results.EntryTime) > pd.to_datetime(date)] # 2017 - 2018"
   ]
  },
  {
   "cell_type": "code",
   "execution_count": 12,
   "id": "761f39fd-053a-4996-934c-4c28689f6e97",
   "metadata": {},
   "outputs": [
    {
     "data": {
      "text/plain": [
       "((119320, 37), (9383, 37), 0.072904283505435)"
      ]
     },
     "execution_count": 12,
     "metadata": {},
     "output_type": "execute_result"
    }
   ],
   "source": [
    "train.shape, test.shape, len(test)/len(results)"
   ]
  },
  {
   "cell_type": "markdown",
   "id": "070a7b09-5d14-428d-b302-677760d6956c",
   "metadata": {},
   "source": [
    "## Evalute Function"
   ]
  },
  {
   "cell_type": "code",
   "execution_count": 13,
   "id": "f10a6415-907c-4d83-8191-098f86f7168c",
   "metadata": {},
   "outputs": [],
   "source": [
    "from sklearn.metrics import recall_score, precision_score, accuracy_score"
   ]
  },
  {
   "cell_type": "code",
   "execution_count": 14,
   "id": "6fce686e-9f72-48e6-ac93-e6a2df190f8d",
   "metadata": {},
   "outputs": [],
   "source": [
    "def evaluate(clf, train, test, features = TRADES_ATTRIBUTES):\n",
    "    preds_train, preds_test = clf.predict(train[features]), clf.predict(test[features])\n",
    "    recall_train = recall_score(train.WinningTrade, \n",
    "                                             preds_train, \n",
    "                                             zero_division=0)\n",
    "    \n",
    "    recall_test = recall_score(test.WinningTrade,  preds_test, zero_division=0)\n",
    "                                                                                                            \n",
    "    precision_train = precision_score(train.WinningTrade, \n",
    "                                      preds_train, \n",
    "                                      zero_division=0)\n",
    "    precision_test = precision_score(test.WinningTrade, preds_test)\n",
    "\n",
    "    print('recall train test: , ', round(recall_train, 2), round(recall_test, 2))\n",
    "    print('precision train test: , ', round(precision_train, 2), round(precision_test, 2))\n",
    "    \n",
    "    return preds_train, preds_test"
   ]
  },
  {
   "cell_type": "markdown",
   "id": "5f906b12-3ed8-4977-ada8-84a2a55dc658",
   "metadata": {},
   "source": [
    "## Training"
   ]
  },
  {
   "cell_type": "code",
   "execution_count": 128,
   "id": "cf276dc3-7ec5-404c-8240-360469fe809f",
   "metadata": {},
   "outputs": [],
   "source": [
    "from lightgbm import LGBMClassifier"
   ]
  },
  {
   "cell_type": "code",
   "execution_count": 129,
   "id": "318f9de7-8461-48c4-82e3-af7238659e9b",
   "metadata": {},
   "outputs": [],
   "source": [
    "clf = LGBMClassifier(random_state=2021, class_weight=\"balanced\", n_estimators=200, importance_type=\"gain\")"
   ]
  },
  {
   "cell_type": "code",
   "execution_count": 130,
   "id": "a92275e3-294a-4a45-be66-c9980d582982",
   "metadata": {},
   "outputs": [
    {
     "data": {
      "text/plain": [
       "LGBMClassifier(class_weight='balanced', importance_type='gain',\n",
       "               n_estimators=200, random_state=2021)"
      ]
     },
     "execution_count": 130,
     "metadata": {},
     "output_type": "execute_result"
    }
   ],
   "source": [
    "clf.fit(train[TRADES_ATTRIBUTES], train.WinningTrade)"
   ]
  },
  {
   "cell_type": "code",
   "execution_count": 131,
   "id": "e679af33-3718-4f9c-a929-d3cb0efa0fe5",
   "metadata": {},
   "outputs": [
    {
     "name": "stdout",
     "output_type": "stream",
     "text": [
      "recall train test: ,  0.66 0.53\n",
      "precision train test: ,  0.53 0.47\n"
     ]
    }
   ],
   "source": [
    "preds_train, preds_test = evaluate(clf, train, test)"
   ]
  },
  {
   "cell_type": "markdown",
   "id": "11dcd9b1-78e2-43f0-bdd4-329271631761",
   "metadata": {},
   "source": [
    "### Remove correlated features"
   ]
  },
  {
   "cell_type": "code",
   "execution_count": 132,
   "id": "26ae4633-7a7b-4864-9999-a7f2ba43443a",
   "metadata": {},
   "outputs": [],
   "source": [
    "corr_matrix = train[TRADES_ATTRIBUTES].corr().abs()\n",
    "\n",
    "# Select upper triangle of correlation matrix\n",
    "upper = corr_matrix.where(np.triu(np.ones(corr_matrix.shape), k=1).astype(np.bool))\n",
    "\n",
    "# Find features with correlation greater than 0.95\n",
    "to_drop = [column for column in upper.columns if any(upper[column] > 0.95)]\n",
    "\n",
    "new_features = list(set(TRADES_ATTRIBUTES) - set(to_drop))\n"
   ]
  },
  {
   "cell_type": "code",
   "execution_count": 133,
   "id": "be545313-423d-4a2c-af42-10d2e0dd51aa",
   "metadata": {},
   "outputs": [
    {
     "data": {
      "text/plain": [
       "LGBMClassifier(class_weight='balanced', importance_type='gain', max_depth=10,\n",
       "               random_state=80)"
      ]
     },
     "execution_count": 133,
     "metadata": {},
     "output_type": "execute_result"
    }
   ],
   "source": [
    "clf= LGBMClassifier(random_state=80, class_weight=\"balanced\", n_estimators=100, importance_type=\"gain\",max_depth=10)\n",
    "\n",
    "clf.fit(train[new_features], train.WinningTrade)"
   ]
  },
  {
   "cell_type": "code",
   "execution_count": 134,
   "id": "d91ba83c-3a35-4840-ad0b-4f6cbba780b7",
   "metadata": {},
   "outputs": [
    {
     "name": "stdout",
     "output_type": "stream",
     "text": [
      "recall train test: ,  0.64 0.54\n",
      "precision train test: ,  0.51 0.47\n"
     ]
    }
   ],
   "source": [
    "preds_train, preds_test = evaluate(clf, train, test, features=new_features)"
   ]
  },
  {
   "cell_type": "markdown",
   "id": "7e431377-d4d5-4f18-bf76-d637afdd6096",
   "metadata": {},
   "source": [
    "### use cohort"
   ]
  },
  {
   "cell_type": "code",
   "execution_count": 135,
   "id": "39d34344-45bb-445f-b051-8a5a8f155010",
   "metadata": {},
   "outputs": [
    {
     "data": {
      "text/plain": [
       "LGBMClassifier(class_weight='balanced', importance_type='gain', max_depth=10,\n",
       "               n_estimators=50, random_state=80)"
      ]
     },
     "execution_count": 135,
     "metadata": {},
     "output_type": "execute_result"
    }
   ],
   "source": [
    "new_features = TRADES_ATTRIBUTES + ['cohorts']\n",
    "clf= LGBMClassifier(random_state=80, class_weight=\"balanced\", n_estimators=50, importance_type=\"gain\",max_depth=10)\n",
    "clf.fit(train[new_features], train.WinningTrade)"
   ]
  },
  {
   "cell_type": "code",
   "execution_count": 136,
   "id": "ff03c563-6568-4baf-93a4-d889fe79378e",
   "metadata": {},
   "outputs": [
    {
     "name": "stdout",
     "output_type": "stream",
     "text": [
      "recall train test: ,  0.62 0.54\n",
      "precision train test: ,  0.49 0.47\n"
     ]
    }
   ],
   "source": [
    "preds_train, preds_test = evaluate(clf, train, test, features=new_features)"
   ]
  },
  {
   "cell_type": "code",
   "execution_count": 137,
   "id": "d50009fc-208c-4f56-a4af-17a947b95867",
   "metadata": {},
   "outputs": [],
   "source": [
    "test['preds'] = preds_test"
   ]
  },
  {
   "cell_type": "code",
   "execution_count": 138,
   "id": "db14f9d9-b805-4b13-9a42-23a67fdffdbb",
   "metadata": {},
   "outputs": [],
   "source": [
    "trades_to_take_with_ml = test[test['preds'] == True]"
   ]
  },
  {
   "cell_type": "code",
   "execution_count": 139,
   "id": "51c0115e-a24d-4989-8ada-5b900d32b61b",
   "metadata": {},
   "outputs": [
    {
     "data": {
      "text/plain": [
       "0.4704770902220123"
      ]
     },
     "execution_count": 139,
     "metadata": {},
     "output_type": "execute_result"
    }
   ],
   "source": [
    "trades_to_take_with_ml.WinningTrade.mean()"
   ]
  },
  {
   "cell_type": "code",
   "execution_count": 140,
   "id": "c290dce9-5eca-404c-a445-08e526019304",
   "metadata": {},
   "outputs": [
    {
     "data": {
      "text/plain": [
       "0.45124160716188855"
      ]
     },
     "execution_count": 140,
     "metadata": {},
     "output_type": "execute_result"
    }
   ],
   "source": [
    "trades_to_take_with_ml.shape[0] / len(test)"
   ]
  },
  {
   "cell_type": "markdown",
   "id": "71481dc7-4577-4b08-843a-faa82ffee108",
   "metadata": {},
   "source": [
    "## Test On 2018-2021"
   ]
  },
  {
   "cell_type": "code",
   "execution_count": 151,
   "id": "f920fb43-2a36-4f43-bcbe-8f7deb5e515d",
   "metadata": {},
   "outputs": [],
   "source": [
    "yahoo_path = \"logs/extreme_rsi_yahoo.csv.csv\""
   ]
  },
  {
   "cell_type": "code",
   "execution_count": 152,
   "id": "a29d2936-3549-49ad-85f6-60ffd68b1109",
   "metadata": {},
   "outputs": [],
   "source": [
    "ana = Analyzer(res)"
   ]
  },
  {
   "cell_type": "code",
   "execution_count": 153,
   "id": "13fd5e5a-6ad1-405d-94be-4a9c999da6a0",
   "metadata": {},
   "outputs": [],
   "source": [
    "res_ana = ana.backtest_results"
   ]
  },
  {
   "cell_type": "code",
   "execution_count": 154,
   "id": "9593cb3e-7a49-44f7-8d68-0494bebab810",
   "metadata": {},
   "outputs": [
    {
     "data": {
      "text/plain": [
       "(37177, 36)"
      ]
     },
     "execution_count": 154,
     "metadata": {},
     "output_type": "execute_result"
    }
   ],
   "source": [
    "res_ana.shape"
   ]
  },
  {
   "cell_type": "code",
   "execution_count": 155,
   "id": "736bc8b5-0af3-42f2-bf92-3c85fb8f830a",
   "metadata": {},
   "outputs": [
    {
     "data": {
      "text/plain": [
       "0.39102133039244696"
      ]
     },
     "execution_count": 155,
     "metadata": {},
     "output_type": "execute_result"
    }
   ],
   "source": [
    "ana.win_rate"
   ]
  },
  {
   "cell_type": "code",
   "execution_count": 171,
   "id": "da6d4586-1c93-445a-95bf-425504845b91",
   "metadata": {},
   "outputs": [],
   "source": [
    "year = \"2016-01-01\"\n",
    "trade_2018_2021 = res_ana[pd.to_datetime(res_ana.EntryTime) >= pd.to_datetime(year)]\n",
    "trade_2018_2021['cohorts'] = trade_2018_2021.EntryPrice.apply(compute_cohots)"
   ]
  },
  {
   "cell_type": "code",
   "execution_count": 172,
   "id": "fe8823ac-deef-4892-8b87-1e8e08b29a96",
   "metadata": {},
   "outputs": [
    {
     "data": {
      "text/plain": [
       "(11005, 37)"
      ]
     },
     "execution_count": 172,
     "metadata": {},
     "output_type": "execute_result"
    }
   ],
   "source": [
    "trade_2018_2021.shape"
   ]
  },
  {
   "cell_type": "code",
   "execution_count": 173,
   "id": "b2a35438-d6f2-49f0-bf5b-deb2ebc75378",
   "metadata": {},
   "outputs": [
    {
     "name": "stdout",
     "output_type": "stream",
     "text": [
      "recall train test: ,  0.5 0.5\n",
      "precision train test: ,  0.5 0.5\n"
     ]
    }
   ],
   "source": [
    "_ , _  = evaluate(clf, trade_2018_2021, trade_2018_2021, features=new_features)"
   ]
  },
  {
   "cell_type": "code",
   "execution_count": 174,
   "id": "d2964ecd-7b52-4d54-bfa5-294826385a79",
   "metadata": {},
   "outputs": [
    {
     "name": "stdout",
     "output_type": "stream",
     "text": [
      "1 832\n",
      "recall train test: ,  0.66 0.66\n",
      "precision train test: ,  0.49 0.49\n",
      "-----------------------------\n",
      "2 1173\n",
      "recall train test: ,  0.64 0.64\n",
      "precision train test: ,  0.5 0.5\n",
      "-----------------------------\n",
      "3 6224\n",
      "recall train test: ,  0.5 0.5\n",
      "precision train test: ,  0.49 0.49\n",
      "-----------------------------\n",
      "4 1606\n",
      "recall train test: ,  0.38 0.38\n",
      "precision train test: ,  0.52 0.52\n",
      "-----------------------------\n",
      "5 1075\n",
      "recall train test: ,  0.39 0.39\n",
      "precision train test: ,  0.54 0.54\n",
      "-----------------------------\n",
      "6 71\n",
      "recall train test: ,  0.36 0.36\n",
      "precision train test: ,  0.6 0.6\n",
      "-----------------------------\n",
      "7 24\n",
      "recall train test: ,  0.56 0.56\n",
      "precision train test: ,  0.71 0.71\n",
      "-----------------------------\n"
     ]
    }
   ],
   "source": [
    "for c in trade_2018_2021.cohorts.unique():\n",
    "    c_df = trade_2018_2021[trade_2018_2021.cohorts == c]\n",
    "    print(c, len(c_df))\n",
    "    _ , _  = evaluate(clf, c_df, c_df, features=new_features)\n",
    "    print('-----------------------------')"
   ]
  },
  {
   "cell_type": "code",
   "execution_count": null,
   "id": "ccd6781e-e34c-4362-abda-40e875002189",
   "metadata": {},
   "outputs": [],
   "source": []
  }
 ],
 "metadata": {
  "kernelspec": {
   "display_name": "Python 3 (ipykernel)",
   "language": "python",
   "name": "python3"
  },
  "language_info": {
   "codemirror_mode": {
    "name": "ipython",
    "version": 3
   },
   "file_extension": ".py",
   "mimetype": "text/x-python",
   "name": "python",
   "nbconvert_exporter": "python",
   "pygments_lexer": "ipython3",
   "version": "3.8.10"
  }
 },
 "nbformat": 4,
 "nbformat_minor": 5
}
