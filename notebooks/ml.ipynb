{
 "cells": [
  {
   "cell_type": "code",
   "execution_count": 1,
   "id": "f6e2d490-633e-48e8-abe2-d046c61ac6db",
   "metadata": {},
   "outputs": [
    {
     "data": {
      "text/html": [
       "\n",
       "    <div class=\"bk-root\">\n",
       "        <a href=\"https://bokeh.org\" target=\"_blank\" class=\"bk-logo bk-logo-small bk-logo-notebook\"></a>\n",
       "        <span id=\"1002\">Loading BokehJS ...</span>\n",
       "    </div>"
      ]
     },
     "metadata": {},
     "output_type": "display_data"
    },
    {
     "data": {
      "application/javascript": [
       "\n",
       "(function(root) {\n",
       "  function now() {\n",
       "    return new Date();\n",
       "  }\n",
       "\n",
       "  const force = true;\n",
       "\n",
       "  if (typeof root._bokeh_onload_callbacks === \"undefined\" || force === true) {\n",
       "    root._bokeh_onload_callbacks = [];\n",
       "    root._bokeh_is_loading = undefined;\n",
       "  }\n",
       "\n",
       "  const JS_MIME_TYPE = 'application/javascript';\n",
       "  const HTML_MIME_TYPE = 'text/html';\n",
       "  const EXEC_MIME_TYPE = 'application/vnd.bokehjs_exec.v0+json';\n",
       "  const CLASS_NAME = 'output_bokeh rendered_html';\n",
       "\n",
       "  /**\n",
       "   * Render data to the DOM node\n",
       "   */\n",
       "  function render(props, node) {\n",
       "    const script = document.createElement(\"script\");\n",
       "    node.appendChild(script);\n",
       "  }\n",
       "\n",
       "  /**\n",
       "   * Handle when an output is cleared or removed\n",
       "   */\n",
       "  function handleClearOutput(event, handle) {\n",
       "    const cell = handle.cell;\n",
       "\n",
       "    const id = cell.output_area._bokeh_element_id;\n",
       "    const server_id = cell.output_area._bokeh_server_id;\n",
       "    // Clean up Bokeh references\n",
       "    if (id != null && id in Bokeh.index) {\n",
       "      Bokeh.index[id].model.document.clear();\n",
       "      delete Bokeh.index[id];\n",
       "    }\n",
       "\n",
       "    if (server_id !== undefined) {\n",
       "      // Clean up Bokeh references\n",
       "      const cmd_clean = \"from bokeh.io.state import curstate; print(curstate().uuid_to_server['\" + server_id + \"'].get_sessions()[0].document.roots[0]._id)\";\n",
       "      cell.notebook.kernel.execute(cmd_clean, {\n",
       "        iopub: {\n",
       "          output: function(msg) {\n",
       "            const id = msg.content.text.trim();\n",
       "            if (id in Bokeh.index) {\n",
       "              Bokeh.index[id].model.document.clear();\n",
       "              delete Bokeh.index[id];\n",
       "            }\n",
       "          }\n",
       "        }\n",
       "      });\n",
       "      // Destroy server and session\n",
       "      const cmd_destroy = \"import bokeh.io.notebook as ion; ion.destroy_server('\" + server_id + \"')\";\n",
       "      cell.notebook.kernel.execute(cmd_destroy);\n",
       "    }\n",
       "  }\n",
       "\n",
       "  /**\n",
       "   * Handle when a new output is added\n",
       "   */\n",
       "  function handleAddOutput(event, handle) {\n",
       "    const output_area = handle.output_area;\n",
       "    const output = handle.output;\n",
       "\n",
       "    // limit handleAddOutput to display_data with EXEC_MIME_TYPE content only\n",
       "    if ((output.output_type != \"display_data\") || (!Object.prototype.hasOwnProperty.call(output.data, EXEC_MIME_TYPE))) {\n",
       "      return\n",
       "    }\n",
       "\n",
       "    const toinsert = output_area.element.find(\".\" + CLASS_NAME.split(' ')[0]);\n",
       "\n",
       "    if (output.metadata[EXEC_MIME_TYPE][\"id\"] !== undefined) {\n",
       "      toinsert[toinsert.length - 1].firstChild.textContent = output.data[JS_MIME_TYPE];\n",
       "      // store reference to embed id on output_area\n",
       "      output_area._bokeh_element_id = output.metadata[EXEC_MIME_TYPE][\"id\"];\n",
       "    }\n",
       "    if (output.metadata[EXEC_MIME_TYPE][\"server_id\"] !== undefined) {\n",
       "      const bk_div = document.createElement(\"div\");\n",
       "      bk_div.innerHTML = output.data[HTML_MIME_TYPE];\n",
       "      const script_attrs = bk_div.children[0].attributes;\n",
       "      for (let i = 0; i < script_attrs.length; i++) {\n",
       "        toinsert[toinsert.length - 1].firstChild.setAttribute(script_attrs[i].name, script_attrs[i].value);\n",
       "        toinsert[toinsert.length - 1].firstChild.textContent = bk_div.children[0].textContent\n",
       "      }\n",
       "      // store reference to server id on output_area\n",
       "      output_area._bokeh_server_id = output.metadata[EXEC_MIME_TYPE][\"server_id\"];\n",
       "    }\n",
       "  }\n",
       "\n",
       "  function register_renderer(events, OutputArea) {\n",
       "\n",
       "    function append_mime(data, metadata, element) {\n",
       "      // create a DOM node to render to\n",
       "      const toinsert = this.create_output_subarea(\n",
       "        metadata,\n",
       "        CLASS_NAME,\n",
       "        EXEC_MIME_TYPE\n",
       "      );\n",
       "      this.keyboard_manager.register_events(toinsert);\n",
       "      // Render to node\n",
       "      const props = {data: data, metadata: metadata[EXEC_MIME_TYPE]};\n",
       "      render(props, toinsert[toinsert.length - 1]);\n",
       "      element.append(toinsert);\n",
       "      return toinsert\n",
       "    }\n",
       "\n",
       "    /* Handle when an output is cleared or removed */\n",
       "    events.on('clear_output.CodeCell', handleClearOutput);\n",
       "    events.on('delete.Cell', handleClearOutput);\n",
       "\n",
       "    /* Handle when a new output is added */\n",
       "    events.on('output_added.OutputArea', handleAddOutput);\n",
       "\n",
       "    /**\n",
       "     * Register the mime type and append_mime function with output_area\n",
       "     */\n",
       "    OutputArea.prototype.register_mime_type(EXEC_MIME_TYPE, append_mime, {\n",
       "      /* Is output safe? */\n",
       "      safe: true,\n",
       "      /* Index of renderer in `output_area.display_order` */\n",
       "      index: 0\n",
       "    });\n",
       "  }\n",
       "\n",
       "  // register the mime type if in Jupyter Notebook environment and previously unregistered\n",
       "  if (root.Jupyter !== undefined) {\n",
       "    const events = require('base/js/events');\n",
       "    const OutputArea = require('notebook/js/outputarea').OutputArea;\n",
       "\n",
       "    if (OutputArea.prototype.mime_types().indexOf(EXEC_MIME_TYPE) == -1) {\n",
       "      register_renderer(events, OutputArea);\n",
       "    }\n",
       "  }\n",
       "\n",
       "  \n",
       "  if (typeof (root._bokeh_timeout) === \"undefined\" || force === true) {\n",
       "    root._bokeh_timeout = Date.now() + 5000;\n",
       "    root._bokeh_failed_load = false;\n",
       "  }\n",
       "\n",
       "  const NB_LOAD_WARNING = {'data': {'text/html':\n",
       "     \"<div style='background-color: #fdd'>\\n\"+\n",
       "     \"<p>\\n\"+\n",
       "     \"BokehJS does not appear to have successfully loaded. If loading BokehJS from CDN, this \\n\"+\n",
       "     \"may be due to a slow or bad network connection. Possible fixes:\\n\"+\n",
       "     \"</p>\\n\"+\n",
       "     \"<ul>\\n\"+\n",
       "     \"<li>re-rerun `output_notebook()` to attempt to load from CDN again, or</li>\\n\"+\n",
       "     \"<li>use INLINE resources instead, as so:</li>\\n\"+\n",
       "     \"</ul>\\n\"+\n",
       "     \"<code>\\n\"+\n",
       "     \"from bokeh.resources import INLINE\\n\"+\n",
       "     \"output_notebook(resources=INLINE)\\n\"+\n",
       "     \"</code>\\n\"+\n",
       "     \"</div>\"}};\n",
       "\n",
       "  function display_loaded() {\n",
       "    const el = document.getElementById(\"1002\");\n",
       "    if (el != null) {\n",
       "      el.textContent = \"BokehJS is loading...\";\n",
       "    }\n",
       "    if (root.Bokeh !== undefined) {\n",
       "      if (el != null) {\n",
       "        el.textContent = \"BokehJS \" + root.Bokeh.version + \" successfully loaded.\";\n",
       "      }\n",
       "    } else if (Date.now() < root._bokeh_timeout) {\n",
       "      setTimeout(display_loaded, 100)\n",
       "    }\n",
       "  }\n",
       "\n",
       "\n",
       "  function run_callbacks() {\n",
       "    try {\n",
       "      root._bokeh_onload_callbacks.forEach(function(callback) {\n",
       "        if (callback != null)\n",
       "          callback();\n",
       "      });\n",
       "    } finally {\n",
       "      delete root._bokeh_onload_callbacks\n",
       "    }\n",
       "    console.debug(\"Bokeh: all callbacks have finished\");\n",
       "  }\n",
       "\n",
       "  function load_libs(css_urls, js_urls, callback) {\n",
       "    if (css_urls == null) css_urls = [];\n",
       "    if (js_urls == null) js_urls = [];\n",
       "\n",
       "    root._bokeh_onload_callbacks.push(callback);\n",
       "    if (root._bokeh_is_loading > 0) {\n",
       "      console.debug(\"Bokeh: BokehJS is being loaded, scheduling callback at\", now());\n",
       "      return null;\n",
       "    }\n",
       "    if (js_urls == null || js_urls.length === 0) {\n",
       "      run_callbacks();\n",
       "      return null;\n",
       "    }\n",
       "    console.debug(\"Bokeh: BokehJS not loaded, scheduling load and callback at\", now());\n",
       "    root._bokeh_is_loading = css_urls.length + js_urls.length;\n",
       "\n",
       "    function on_load() {\n",
       "      root._bokeh_is_loading--;\n",
       "      if (root._bokeh_is_loading === 0) {\n",
       "        console.debug(\"Bokeh: all BokehJS libraries/stylesheets loaded\");\n",
       "        run_callbacks()\n",
       "      }\n",
       "    }\n",
       "\n",
       "    function on_error(url) {\n",
       "      console.error(\"failed to load \" + url);\n",
       "    }\n",
       "\n",
       "    for (let i = 0; i < css_urls.length; i++) {\n",
       "      const url = css_urls[i];\n",
       "      const element = document.createElement(\"link\");\n",
       "      element.onload = on_load;\n",
       "      element.onerror = on_error.bind(null, url);\n",
       "      element.rel = \"stylesheet\";\n",
       "      element.type = \"text/css\";\n",
       "      element.href = url;\n",
       "      console.debug(\"Bokeh: injecting link tag for BokehJS stylesheet: \", url);\n",
       "      document.body.appendChild(element);\n",
       "    }\n",
       "\n",
       "    for (let i = 0; i < js_urls.length; i++) {\n",
       "      const url = js_urls[i];\n",
       "      const element = document.createElement('script');\n",
       "      element.onload = on_load;\n",
       "      element.onerror = on_error.bind(null, url);\n",
       "      element.async = false;\n",
       "      element.src = url;\n",
       "      console.debug(\"Bokeh: injecting script tag for BokehJS library: \", url);\n",
       "      document.head.appendChild(element);\n",
       "    }\n",
       "  };\n",
       "\n",
       "  function inject_raw_css(css) {\n",
       "    const element = document.createElement(\"style\");\n",
       "    element.appendChild(document.createTextNode(css));\n",
       "    document.body.appendChild(element);\n",
       "  }\n",
       "\n",
       "  \n",
       "  const js_urls = [\"https://cdn.bokeh.org/bokeh/release/bokeh-2.4.1.min.js\", \"https://cdn.bokeh.org/bokeh/release/bokeh-gl-2.4.1.min.js\", \"https://cdn.bokeh.org/bokeh/release/bokeh-widgets-2.4.1.min.js\", \"https://cdn.bokeh.org/bokeh/release/bokeh-tables-2.4.1.min.js\", \"https://cdn.bokeh.org/bokeh/release/bokeh-mathjax-2.4.1.min.js\"];\n",
       "  const css_urls = [];\n",
       "  \n",
       "\n",
       "  const inline_js = [\n",
       "    function(Bokeh) {\n",
       "      Bokeh.set_log_level(\"info\");\n",
       "    },\n",
       "    function(Bokeh) {\n",
       "    \n",
       "    \n",
       "    }\n",
       "  ];\n",
       "\n",
       "  function run_inline_js() {\n",
       "    \n",
       "    if (root.Bokeh !== undefined || force === true) {\n",
       "      \n",
       "    for (let i = 0; i < inline_js.length; i++) {\n",
       "      inline_js[i].call(root, root.Bokeh);\n",
       "    }\n",
       "    if (force === true) {\n",
       "        display_loaded();\n",
       "      }} else if (Date.now() < root._bokeh_timeout) {\n",
       "      setTimeout(run_inline_js, 100);\n",
       "    } else if (!root._bokeh_failed_load) {\n",
       "      console.log(\"Bokeh: BokehJS failed to load within specified timeout.\");\n",
       "      root._bokeh_failed_load = true;\n",
       "    } else if (force !== true) {\n",
       "      const cell = $(document.getElementById(\"1002\")).parents('.cell').data().cell;\n",
       "      cell.output_area.append_execute_result(NB_LOAD_WARNING)\n",
       "    }\n",
       "\n",
       "  }\n",
       "\n",
       "  if (root._bokeh_is_loading === 0) {\n",
       "    console.debug(\"Bokeh: BokehJS loaded, going straight to plotting\");\n",
       "    run_inline_js();\n",
       "  } else {\n",
       "    load_libs(css_urls, js_urls, function() {\n",
       "      console.debug(\"Bokeh: BokehJS plotting callback run at\", now());\n",
       "      run_inline_js();\n",
       "    });\n",
       "  }\n",
       "}(window));"
      ],
      "application/vnd.bokehjs_load.v0+json": "\n(function(root) {\n  function now() {\n    return new Date();\n  }\n\n  const force = true;\n\n  if (typeof root._bokeh_onload_callbacks === \"undefined\" || force === true) {\n    root._bokeh_onload_callbacks = [];\n    root._bokeh_is_loading = undefined;\n  }\n\n  \n\n  \n  if (typeof (root._bokeh_timeout) === \"undefined\" || force === true) {\n    root._bokeh_timeout = Date.now() + 5000;\n    root._bokeh_failed_load = false;\n  }\n\n  const NB_LOAD_WARNING = {'data': {'text/html':\n     \"<div style='background-color: #fdd'>\\n\"+\n     \"<p>\\n\"+\n     \"BokehJS does not appear to have successfully loaded. If loading BokehJS from CDN, this \\n\"+\n     \"may be due to a slow or bad network connection. Possible fixes:\\n\"+\n     \"</p>\\n\"+\n     \"<ul>\\n\"+\n     \"<li>re-rerun `output_notebook()` to attempt to load from CDN again, or</li>\\n\"+\n     \"<li>use INLINE resources instead, as so:</li>\\n\"+\n     \"</ul>\\n\"+\n     \"<code>\\n\"+\n     \"from bokeh.resources import INLINE\\n\"+\n     \"output_notebook(resources=INLINE)\\n\"+\n     \"</code>\\n\"+\n     \"</div>\"}};\n\n  function display_loaded() {\n    const el = document.getElementById(\"1002\");\n    if (el != null) {\n      el.textContent = \"BokehJS is loading...\";\n    }\n    if (root.Bokeh !== undefined) {\n      if (el != null) {\n        el.textContent = \"BokehJS \" + root.Bokeh.version + \" successfully loaded.\";\n      }\n    } else if (Date.now() < root._bokeh_timeout) {\n      setTimeout(display_loaded, 100)\n    }\n  }\n\n\n  function run_callbacks() {\n    try {\n      root._bokeh_onload_callbacks.forEach(function(callback) {\n        if (callback != null)\n          callback();\n      });\n    } finally {\n      delete root._bokeh_onload_callbacks\n    }\n    console.debug(\"Bokeh: all callbacks have finished\");\n  }\n\n  function load_libs(css_urls, js_urls, callback) {\n    if (css_urls == null) css_urls = [];\n    if (js_urls == null) js_urls = [];\n\n    root._bokeh_onload_callbacks.push(callback);\n    if (root._bokeh_is_loading > 0) {\n      console.debug(\"Bokeh: BokehJS is being loaded, scheduling callback at\", now());\n      return null;\n    }\n    if (js_urls == null || js_urls.length === 0) {\n      run_callbacks();\n      return null;\n    }\n    console.debug(\"Bokeh: BokehJS not loaded, scheduling load and callback at\", now());\n    root._bokeh_is_loading = css_urls.length + js_urls.length;\n\n    function on_load() {\n      root._bokeh_is_loading--;\n      if (root._bokeh_is_loading === 0) {\n        console.debug(\"Bokeh: all BokehJS libraries/stylesheets loaded\");\n        run_callbacks()\n      }\n    }\n\n    function on_error(url) {\n      console.error(\"failed to load \" + url);\n    }\n\n    for (let i = 0; i < css_urls.length; i++) {\n      const url = css_urls[i];\n      const element = document.createElement(\"link\");\n      element.onload = on_load;\n      element.onerror = on_error.bind(null, url);\n      element.rel = \"stylesheet\";\n      element.type = \"text/css\";\n      element.href = url;\n      console.debug(\"Bokeh: injecting link tag for BokehJS stylesheet: \", url);\n      document.body.appendChild(element);\n    }\n\n    for (let i = 0; i < js_urls.length; i++) {\n      const url = js_urls[i];\n      const element = document.createElement('script');\n      element.onload = on_load;\n      element.onerror = on_error.bind(null, url);\n      element.async = false;\n      element.src = url;\n      console.debug(\"Bokeh: injecting script tag for BokehJS library: \", url);\n      document.head.appendChild(element);\n    }\n  };\n\n  function inject_raw_css(css) {\n    const element = document.createElement(\"style\");\n    element.appendChild(document.createTextNode(css));\n    document.body.appendChild(element);\n  }\n\n  \n  const js_urls = [\"https://cdn.bokeh.org/bokeh/release/bokeh-2.4.1.min.js\", \"https://cdn.bokeh.org/bokeh/release/bokeh-gl-2.4.1.min.js\", \"https://cdn.bokeh.org/bokeh/release/bokeh-widgets-2.4.1.min.js\", \"https://cdn.bokeh.org/bokeh/release/bokeh-tables-2.4.1.min.js\", \"https://cdn.bokeh.org/bokeh/release/bokeh-mathjax-2.4.1.min.js\"];\n  const css_urls = [];\n  \n\n  const inline_js = [\n    function(Bokeh) {\n      Bokeh.set_log_level(\"info\");\n    },\n    function(Bokeh) {\n    \n    \n    }\n  ];\n\n  function run_inline_js() {\n    \n    if (root.Bokeh !== undefined || force === true) {\n      \n    for (let i = 0; i < inline_js.length; i++) {\n      inline_js[i].call(root, root.Bokeh);\n    }\n    if (force === true) {\n        display_loaded();\n      }} else if (Date.now() < root._bokeh_timeout) {\n      setTimeout(run_inline_js, 100);\n    } else if (!root._bokeh_failed_load) {\n      console.log(\"Bokeh: BokehJS failed to load within specified timeout.\");\n      root._bokeh_failed_load = true;\n    } else if (force !== true) {\n      const cell = $(document.getElementById(\"1002\")).parents('.cell').data().cell;\n      cell.output_area.append_execute_result(NB_LOAD_WARNING)\n    }\n\n  }\n\n  if (root._bokeh_is_loading === 0) {\n    console.debug(\"Bokeh: BokehJS loaded, going straight to plotting\");\n    run_inline_js();\n  } else {\n    load_libs(css_urls, js_urls, function() {\n      console.debug(\"Bokeh: BokehJS plotting callback run at\", now());\n      run_inline_js();\n    });\n  }\n}(window));"
     },
     "metadata": {},
     "output_type": "display_data"
    }
   ],
   "source": [
    "import warnings\n",
    "warnings.filterwarnings(\"ignore\")\n",
    "import pandas as pd \n",
    "import numpy as np\n",
    "from t_nachine.optimization import Analyzer\n",
    "from t_nachine.constants import TRADES_ATTRIBUTES\n",
    "from t_nachine.optimization.ml.utils import save, load\n",
    "from tqdm import tqdm"
   ]
  },
  {
   "cell_type": "code",
   "execution_count": 2,
   "id": "0feeb558-e03b-45c1-8f16-c7574f6670c8",
   "metadata": {},
   "outputs": [],
   "source": [
    "path1 = \"logs/bouncing.csv\"\n",
    "\n",
    "df = pd.read_csv(path1)\n",
    "\n",
    "df.index = range(len(df))"
   ]
  },
  {
   "cell_type": "code",
   "execution_count": 3,
   "id": "4ec7b1a8-d2c3-4e4d-8f8c-c90b20520b46",
   "metadata": {},
   "outputs": [],
   "source": [
    "analyzer = Analyzer(df)\n",
    "results = analyzer.backtest_results"
   ]
  },
  {
   "cell_type": "code",
   "execution_count": 4,
   "id": "a1df846d-19ec-4121-9327-55dd9cacab2f",
   "metadata": {},
   "outputs": [
    {
     "data": {
      "text/plain": [
       "58841"
      ]
     },
     "execution_count": 4,
     "metadata": {},
     "output_type": "execute_result"
    }
   ],
   "source": [
    "len(results)"
   ]
  },
  {
   "cell_type": "code",
   "execution_count": 5,
   "id": "a70a333f-14c7-4981-aa7d-58542b044911",
   "metadata": {},
   "outputs": [
    {
     "data": {
      "text/plain": [
       "0.38"
      ]
     },
     "execution_count": 5,
     "metadata": {},
     "output_type": "execute_result"
    }
   ],
   "source": [
    "analyzer.win_rate"
   ]
  },
  {
   "cell_type": "code",
   "execution_count": 6,
   "id": "433e27f3-846c-410a-8798-1d3e8948beb2",
   "metadata": {},
   "outputs": [
    {
     "data": {
      "text/html": [
       "<div>\n",
       "<style scoped>\n",
       "    .dataframe tbody tr th:only-of-type {\n",
       "        vertical-align: middle;\n",
       "    }\n",
       "\n",
       "    .dataframe tbody tr th {\n",
       "        vertical-align: top;\n",
       "    }\n",
       "\n",
       "    .dataframe thead tr th {\n",
       "        text-align: left;\n",
       "    }\n",
       "\n",
       "    .dataframe thead tr:last-of-type th {\n",
       "        text-align: right;\n",
       "    }\n",
       "</style>\n",
       "<table border=\"1\" class=\"dataframe\">\n",
       "  <thead>\n",
       "    <tr>\n",
       "      <th></th>\n",
       "      <th colspan=\"5\" halign=\"left\">Duration</th>\n",
       "      <th colspan=\"5\" halign=\"left\">RiskToReward</th>\n",
       "    </tr>\n",
       "    <tr>\n",
       "      <th></th>\n",
       "      <th>mean</th>\n",
       "      <th>median</th>\n",
       "      <th>min</th>\n",
       "      <th>max</th>\n",
       "      <th>std</th>\n",
       "      <th>mean</th>\n",
       "      <th>median</th>\n",
       "      <th>min</th>\n",
       "      <th>max</th>\n",
       "      <th>std</th>\n",
       "    </tr>\n",
       "    <tr>\n",
       "      <th>WinningTrade</th>\n",
       "      <th></th>\n",
       "      <th></th>\n",
       "      <th></th>\n",
       "      <th></th>\n",
       "      <th></th>\n",
       "      <th></th>\n",
       "      <th></th>\n",
       "      <th></th>\n",
       "      <th></th>\n",
       "      <th></th>\n",
       "    </tr>\n",
       "  </thead>\n",
       "  <tbody>\n",
       "    <tr>\n",
       "      <th>False</th>\n",
       "      <td>13.752</td>\n",
       "      <td>7.000</td>\n",
       "      <td>0.000</td>\n",
       "      <td>1854.000</td>\n",
       "      <td>24.333</td>\n",
       "      <td>-1.044</td>\n",
       "      <td>-1.000</td>\n",
       "      <td>-14.106</td>\n",
       "      <td>-0.000</td>\n",
       "      <td>0.291</td>\n",
       "    </tr>\n",
       "    <tr>\n",
       "      <th>True</th>\n",
       "      <td>23.218</td>\n",
       "      <td>15.000</td>\n",
       "      <td>0.000</td>\n",
       "      <td>1068.000</td>\n",
       "      <td>31.285</td>\n",
       "      <td>2.039</td>\n",
       "      <td>2.000</td>\n",
       "      <td>0.010</td>\n",
       "      <td>17.378</td>\n",
       "      <td>0.366</td>\n",
       "    </tr>\n",
       "  </tbody>\n",
       "</table>\n",
       "</div>"
      ],
      "text/plain": [
       "             Duration                              RiskToReward         \\\n",
       "                 mean median   min      max    std         mean median   \n",
       "WinningTrade                                                             \n",
       "False          13.752  7.000 0.000 1854.000 24.333       -1.044 -1.000   \n",
       "True           23.218 15.000 0.000 1068.000 31.285        2.039  2.000   \n",
       "\n",
       "                                   \n",
       "                 min    max   std  \n",
       "WinningTrade                       \n",
       "False        -14.106 -0.000 0.291  \n",
       "True           0.010 17.378 0.366  "
      ]
     },
     "execution_count": 6,
     "metadata": {},
     "output_type": "execute_result"
    }
   ],
   "source": [
    "analyzer.stats"
   ]
  },
  {
   "cell_type": "markdown",
   "id": "9091b5cf-8d39-49cb-85eb-77c06c60bb91",
   "metadata": {},
   "source": [
    "## Processing"
   ]
  },
  {
   "cell_type": "code",
   "execution_count": 7,
   "id": "c988db44-0c38-4041-9c6c-9226d3434ac5",
   "metadata": {},
   "outputs": [],
   "source": [
    "results = results.sort_values(by=\"EntryTime\")"
   ]
  },
  {
   "cell_type": "code",
   "execution_count": 8,
   "id": "7febc94d-b389-4af2-93fc-c8039834ee58",
   "metadata": {},
   "outputs": [],
   "source": [
    "results.SlPrice = results.EntryPrice - results.OneR"
   ]
  },
  {
   "cell_type": "code",
   "execution_count": 9,
   "id": "03458b46-084d-4974-841d-367f762ef768",
   "metadata": {},
   "outputs": [],
   "source": [
    "results = results[~results.Symbol.isna()] "
   ]
  },
  {
   "cell_type": "code",
   "execution_count": 10,
   "id": "0fb1af8d-1a46-4603-8aa5-04bc2acc73fa",
   "metadata": {},
   "outputs": [],
   "source": [
    "## Adding cohorts as a feature\n",
    "\n",
    "def compute_cohots(price: float) -> int:\n",
    "    \n",
    "    if price <= 5:\n",
    "        return 1\n",
    "    \n",
    "    if price <= 10:\n",
    "        return 2\n",
    "    \n",
    "    if price <= 50:\n",
    "        return 3\n",
    "    \n",
    "    if price <= 100:\n",
    "        return 4\n",
    "    \n",
    "    if price <= 500:\n",
    "        return 5\n",
    "    \n",
    "    if price <= 1000:\n",
    "        return 6\n",
    "\n",
    "    return 7\n",
    "\n",
    "results['cohorts'] = results.EntryPrice.apply(compute_cohots)"
   ]
  },
  {
   "cell_type": "code",
   "execution_count": 11,
   "id": "aaa44bd4-cf3b-4bf0-add9-1b7bcf9c8012",
   "metadata": {},
   "outputs": [
    {
     "data": {
      "text/plain": [
       "58832"
      ]
     },
     "execution_count": 11,
     "metadata": {},
     "output_type": "execute_result"
    }
   ],
   "source": [
    "len(results)"
   ]
  },
  {
   "cell_type": "code",
   "execution_count": 12,
   "id": "26ea6607-3a62-403f-a74b-b3ad4da4980b",
   "metadata": {},
   "outputs": [
    {
     "data": {
      "text/html": [
       "<div>\n",
       "<style scoped>\n",
       "    .dataframe tbody tr th:only-of-type {\n",
       "        vertical-align: middle;\n",
       "    }\n",
       "\n",
       "    .dataframe tbody tr th {\n",
       "        vertical-align: top;\n",
       "    }\n",
       "\n",
       "    .dataframe thead th {\n",
       "        text-align: right;\n",
       "    }\n",
       "</style>\n",
       "<table border=\"1\" class=\"dataframe\">\n",
       "  <thead>\n",
       "    <tr style=\"text-align: right;\">\n",
       "      <th></th>\n",
       "      <th>Size</th>\n",
       "      <th>EntryBar</th>\n",
       "      <th>ExitBar</th>\n",
       "      <th>OneR</th>\n",
       "      <th>SlPrice</th>\n",
       "      <th>TpPrice</th>\n",
       "      <th>EntryPrice</th>\n",
       "      <th>ExitPrice</th>\n",
       "      <th>MaxPnL</th>\n",
       "      <th>MaxNegativePnl</th>\n",
       "      <th>...</th>\n",
       "      <th>ATR</th>\n",
       "      <th>RSI</th>\n",
       "      <th>ADX</th>\n",
       "      <th>WILLIAMS</th>\n",
       "      <th>Volume</th>\n",
       "      <th>Symbol</th>\n",
       "      <th>Duration</th>\n",
       "      <th>WinningTrade</th>\n",
       "      <th>RiskToReward</th>\n",
       "      <th>cohorts</th>\n",
       "    </tr>\n",
       "  </thead>\n",
       "  <tbody>\n",
       "    <tr>\n",
       "      <th>13459</th>\n",
       "      <td>188.000</td>\n",
       "      <td>598.000</td>\n",
       "      <td>601.000</td>\n",
       "      <td>0.107</td>\n",
       "      <td>6.443</td>\n",
       "      <td>6.763</td>\n",
       "      <td>6.550</td>\n",
       "      <td>6.763</td>\n",
       "      <td>0.172</td>\n",
       "      <td>-0.061</td>\n",
       "      <td>...</td>\n",
       "      <td>0.063</td>\n",
       "      <td>0.583</td>\n",
       "      <td>0.144</td>\n",
       "      <td>-0.125</td>\n",
       "      <td>668254.000</td>\n",
       "      <td>ibm</td>\n",
       "      <td>3.000</td>\n",
       "      <td>True</td>\n",
       "      <td>2.000</td>\n",
       "      <td>2</td>\n",
       "    </tr>\n",
       "    <tr>\n",
       "      <th>13460</th>\n",
       "      <td>155.000</td>\n",
       "      <td>617.000</td>\n",
       "      <td>645.000</td>\n",
       "      <td>0.132</td>\n",
       "      <td>6.443</td>\n",
       "      <td>6.839</td>\n",
       "      <td>6.575</td>\n",
       "      <td>6.443</td>\n",
       "      <td>0.239</td>\n",
       "      <td>-0.078</td>\n",
       "      <td>...</td>\n",
       "      <td>0.084</td>\n",
       "      <td>0.545</td>\n",
       "      <td>0.146</td>\n",
       "      <td>-0.375</td>\n",
       "      <td>337719.000</td>\n",
       "      <td>ibm</td>\n",
       "      <td>28.000</td>\n",
       "      <td>False</td>\n",
       "      <td>-1.000</td>\n",
       "      <td>2</td>\n",
       "    </tr>\n",
       "    <tr>\n",
       "      <th>19576</th>\n",
       "      <td>555.000</td>\n",
       "      <td>803.000</td>\n",
       "      <td>865.000</td>\n",
       "      <td>0.036</td>\n",
       "      <td>0.811</td>\n",
       "      <td>0.919</td>\n",
       "      <td>0.847</td>\n",
       "      <td>0.811</td>\n",
       "      <td>0.038</td>\n",
       "      <td>-0.034</td>\n",
       "      <td>...</td>\n",
       "      <td>0.008</td>\n",
       "      <td>0.690</td>\n",
       "      <td>0.265</td>\n",
       "      <td>-0.000</td>\n",
       "      <td>2980989.000</td>\n",
       "      <td>ge</td>\n",
       "      <td>62.000</td>\n",
       "      <td>False</td>\n",
       "      <td>-1.000</td>\n",
       "      <td>1</td>\n",
       "    </tr>\n",
       "    <tr>\n",
       "      <th>13461</th>\n",
       "      <td>58.000</td>\n",
       "      <td>1107.000</td>\n",
       "      <td>1112.000</td>\n",
       "      <td>0.349</td>\n",
       "      <td>7.403</td>\n",
       "      <td>8.450</td>\n",
       "      <td>7.752</td>\n",
       "      <td>7.403</td>\n",
       "      <td>0.022</td>\n",
       "      <td>-0.279</td>\n",
       "      <td>...</td>\n",
       "      <td>0.145</td>\n",
       "      <td>0.622</td>\n",
       "      <td>0.236</td>\n",
       "      <td>-0.040</td>\n",
       "      <td>953278.000</td>\n",
       "      <td>ibm</td>\n",
       "      <td>5.000</td>\n",
       "      <td>False</td>\n",
       "      <td>-1.000</td>\n",
       "      <td>2</td>\n",
       "    </tr>\n",
       "    <tr>\n",
       "      <th>13462</th>\n",
       "      <td>93.000</td>\n",
       "      <td>1283.000</td>\n",
       "      <td>1290.000</td>\n",
       "      <td>0.215</td>\n",
       "      <td>8.096</td>\n",
       "      <td>8.742</td>\n",
       "      <td>8.312</td>\n",
       "      <td>8.742</td>\n",
       "      <td>0.415</td>\n",
       "      <td>-0.062</td>\n",
       "      <td>...</td>\n",
       "      <td>0.122</td>\n",
       "      <td>0.597</td>\n",
       "      <td>0.190</td>\n",
       "      <td>-0.315</td>\n",
       "      <td>349698.000</td>\n",
       "      <td>ibm</td>\n",
       "      <td>7.000</td>\n",
       "      <td>True</td>\n",
       "      <td>2.000</td>\n",
       "      <td>2</td>\n",
       "    </tr>\n",
       "    <tr>\n",
       "      <th>...</th>\n",
       "      <td>...</td>\n",
       "      <td>...</td>\n",
       "      <td>...</td>\n",
       "      <td>...</td>\n",
       "      <td>...</td>\n",
       "      <td>...</td>\n",
       "      <td>...</td>\n",
       "      <td>...</td>\n",
       "      <td>...</td>\n",
       "      <td>...</td>\n",
       "      <td>...</td>\n",
       "      <td>...</td>\n",
       "      <td>...</td>\n",
       "      <td>...</td>\n",
       "      <td>...</td>\n",
       "      <td>...</td>\n",
       "      <td>...</td>\n",
       "      <td>...</td>\n",
       "      <td>...</td>\n",
       "      <td>...</td>\n",
       "      <td>...</td>\n",
       "    </tr>\n",
       "    <tr>\n",
       "      <th>13549</th>\n",
       "      <td>19.000</td>\n",
       "      <td>3200.000</td>\n",
       "      <td>3200.000</td>\n",
       "      <td>1.060</td>\n",
       "      <td>20.220</td>\n",
       "      <td>23.400</td>\n",
       "      <td>21.280</td>\n",
       "      <td>21.212</td>\n",
       "      <td>0.270</td>\n",
       "      <td>-0.530</td>\n",
       "      <td>...</td>\n",
       "      <td>0.976</td>\n",
       "      <td>0.453</td>\n",
       "      <td>0.351</td>\n",
       "      <td>-0.631</td>\n",
       "      <td>44201.000</td>\n",
       "      <td>vicr</td>\n",
       "      <td>0.000</td>\n",
       "      <td>False</td>\n",
       "      <td>-0.064</td>\n",
       "      <td>3</td>\n",
       "    </tr>\n",
       "    <tr>\n",
       "      <th>40113</th>\n",
       "      <td>8.000</td>\n",
       "      <td>6951.000</td>\n",
       "      <td>6951.000</td>\n",
       "      <td>2.750</td>\n",
       "      <td>15.370</td>\n",
       "      <td>23.620</td>\n",
       "      <td>18.120</td>\n",
       "      <td>18.050</td>\n",
       "      <td>0.405</td>\n",
       "      <td>-0.120</td>\n",
       "      <td>...</td>\n",
       "      <td>0.764</td>\n",
       "      <td>0.440</td>\n",
       "      <td>0.394</td>\n",
       "      <td>-0.390</td>\n",
       "      <td>101117.000</td>\n",
       "      <td>kbal</td>\n",
       "      <td>0.000</td>\n",
       "      <td>False</td>\n",
       "      <td>-0.025</td>\n",
       "      <td>3</td>\n",
       "    </tr>\n",
       "    <tr>\n",
       "      <th>21414</th>\n",
       "      <td>16.000</td>\n",
       "      <td>2896.000</td>\n",
       "      <td>2896.000</td>\n",
       "      <td>1.253</td>\n",
       "      <td>5.337</td>\n",
       "      <td>9.097</td>\n",
       "      <td>6.590</td>\n",
       "      <td>6.400</td>\n",
       "      <td>0.300</td>\n",
       "      <td>-0.279</td>\n",
       "      <td>...</td>\n",
       "      <td>0.365</td>\n",
       "      <td>0.748</td>\n",
       "      <td>0.341</td>\n",
       "      <td>-0.107</td>\n",
       "      <td>279893.000</td>\n",
       "      <td>trt</td>\n",
       "      <td>0.000</td>\n",
       "      <td>False</td>\n",
       "      <td>-0.152</td>\n",
       "      <td>2</td>\n",
       "    </tr>\n",
       "    <tr>\n",
       "      <th>17021</th>\n",
       "      <td>4.000</td>\n",
       "      <td>3200.000</td>\n",
       "      <td>3200.000</td>\n",
       "      <td>5.400</td>\n",
       "      <td>120.810</td>\n",
       "      <td>137.010</td>\n",
       "      <td>126.210</td>\n",
       "      <td>125.020</td>\n",
       "      <td>1.410</td>\n",
       "      <td>-1.190</td>\n",
       "      <td>...</td>\n",
       "      <td>2.492</td>\n",
       "      <td>0.534</td>\n",
       "      <td>0.172</td>\n",
       "      <td>-0.332</td>\n",
       "      <td>1009386.000</td>\n",
       "      <td>pvh</td>\n",
       "      <td>0.000</td>\n",
       "      <td>False</td>\n",
       "      <td>-0.220</td>\n",
       "      <td>5</td>\n",
       "    </tr>\n",
       "    <tr>\n",
       "      <th>2550</th>\n",
       "      <td>19.000</td>\n",
       "      <td>3200.000</td>\n",
       "      <td>3200.000</td>\n",
       "      <td>1.180</td>\n",
       "      <td>27.320</td>\n",
       "      <td>30.860</td>\n",
       "      <td>28.500</td>\n",
       "      <td>28.450</td>\n",
       "      <td>0.148</td>\n",
       "      <td>-0.420</td>\n",
       "      <td>...</td>\n",
       "      <td>0.870</td>\n",
       "      <td>0.597</td>\n",
       "      <td>0.213</td>\n",
       "      <td>-0.191</td>\n",
       "      <td>41363.000</td>\n",
       "      <td>rick</td>\n",
       "      <td>0.000</td>\n",
       "      <td>False</td>\n",
       "      <td>-0.042</td>\n",
       "      <td>3</td>\n",
       "    </tr>\n",
       "  </tbody>\n",
       "</table>\n",
       "<p>58832 rows × 37 columns</p>\n",
       "</div>"
      ],
      "text/plain": [
       "         Size  EntryBar  ExitBar  OneR  SlPrice  TpPrice  EntryPrice  \\\n",
       "13459 188.000   598.000  601.000 0.107    6.443    6.763       6.550   \n",
       "13460 155.000   617.000  645.000 0.132    6.443    6.839       6.575   \n",
       "19576 555.000   803.000  865.000 0.036    0.811    0.919       0.847   \n",
       "13461  58.000  1107.000 1112.000 0.349    7.403    8.450       7.752   \n",
       "13462  93.000  1283.000 1290.000 0.215    8.096    8.742       8.312   \n",
       "...       ...       ...      ...   ...      ...      ...         ...   \n",
       "13549  19.000  3200.000 3200.000 1.060   20.220   23.400      21.280   \n",
       "40113   8.000  6951.000 6951.000 2.750   15.370   23.620      18.120   \n",
       "21414  16.000  2896.000 2896.000 1.253    5.337    9.097       6.590   \n",
       "17021   4.000  3200.000 3200.000 5.400  120.810  137.010     126.210   \n",
       "2550   19.000  3200.000 3200.000 1.180   27.320   30.860      28.500   \n",
       "\n",
       "       ExitPrice  MaxPnL  MaxNegativePnl  ...   ATR   RSI   ADX WILLIAMS  \\\n",
       "13459      6.763   0.172          -0.061  ... 0.063 0.583 0.144   -0.125   \n",
       "13460      6.443   0.239          -0.078  ... 0.084 0.545 0.146   -0.375   \n",
       "19576      0.811   0.038          -0.034  ... 0.008 0.690 0.265   -0.000   \n",
       "13461      7.403   0.022          -0.279  ... 0.145 0.622 0.236   -0.040   \n",
       "13462      8.742   0.415          -0.062  ... 0.122 0.597 0.190   -0.315   \n",
       "...          ...     ...             ...  ...   ...   ...   ...      ...   \n",
       "13549     21.212   0.270          -0.530  ... 0.976 0.453 0.351   -0.631   \n",
       "40113     18.050   0.405          -0.120  ... 0.764 0.440 0.394   -0.390   \n",
       "21414      6.400   0.300          -0.279  ... 0.365 0.748 0.341   -0.107   \n",
       "17021    125.020   1.410          -1.190  ... 2.492 0.534 0.172   -0.332   \n",
       "2550      28.450   0.148          -0.420  ... 0.870 0.597 0.213   -0.191   \n",
       "\n",
       "           Volume  Symbol  Duration  WinningTrade  RiskToReward  cohorts  \n",
       "13459  668254.000     ibm     3.000          True         2.000        2  \n",
       "13460  337719.000     ibm    28.000         False        -1.000        2  \n",
       "19576 2980989.000      ge    62.000         False        -1.000        1  \n",
       "13461  953278.000     ibm     5.000         False        -1.000        2  \n",
       "13462  349698.000     ibm     7.000          True         2.000        2  \n",
       "...           ...     ...       ...           ...           ...      ...  \n",
       "13549   44201.000    vicr     0.000         False        -0.064        3  \n",
       "40113  101117.000    kbal     0.000         False        -0.025        3  \n",
       "21414  279893.000     trt     0.000         False        -0.152        2  \n",
       "17021 1009386.000     pvh     0.000         False        -0.220        5  \n",
       "2550    41363.000    rick     0.000         False        -0.042        3  \n",
       "\n",
       "[58832 rows x 37 columns]"
      ]
     },
     "execution_count": 12,
     "metadata": {},
     "output_type": "execute_result"
    }
   ],
   "source": [
    "results"
   ]
  },
  {
   "cell_type": "markdown",
   "id": "0778fdaa-8dd3-4159-ada4-cc481b8eeec0",
   "metadata": {},
   "source": [
    "## Create the dataset"
   ]
  },
  {
   "cell_type": "code",
   "execution_count": 13,
   "id": "7e4a6ab3-1f2e-4563-b87b-53626d256206",
   "metadata": {},
   "outputs": [
    {
     "name": "stderr",
     "output_type": "stream",
     "text": [
      "100%|███████████████████████████████████████| 5420/5420 [04:01<00:00, 22.42it/s]\n"
     ]
    }
   ],
   "source": [
    "import os\n",
    "stocks_path = \"../archive/Stocks/\"\n",
    "symbols = results.Symbol.unique()\n",
    "data = pd.DataFrame()\n",
    "for symbol in tqdm(symbols):\n",
    "    stock = pd.read_csv(os.path.join(stocks_path, symbol + '.us.txt'))\n",
    "    trades = results[results.Symbol == symbol]\n",
    "    entry_bars = trades.EntryBar - 1\n",
    "    \n",
    "    trades_data = stock.iloc[entry_bars]\n",
    "    trades_data['WinningTrade'] = trades.WinningTrade.values\n",
    "    trades_data['OneR'] = trades.OneR.values\n",
    "    trades_data['EntryPrice'] = trades.EntryPrice.values\n",
    "    trades_data['TpPrice'] = trades.TpPrice.values\n",
    "    trades_data['SlPrice'] = trades.SlPrice.values\n",
    "    trades_data['cohorts'] = trades.cohorts.values\n",
    "\n",
    "    trades_data['Symbol'] = [symbol for i in range(len(trades_data))]\n",
    "    data = data.append(trades_data)"
   ]
  },
  {
   "cell_type": "code",
   "execution_count": 14,
   "id": "36256d0f-901a-4feb-abaa-f2986f480ac9",
   "metadata": {},
   "outputs": [
    {
     "data": {
      "text/html": [
       "<div>\n",
       "<style scoped>\n",
       "    .dataframe tbody tr th:only-of-type {\n",
       "        vertical-align: middle;\n",
       "    }\n",
       "\n",
       "    .dataframe tbody tr th {\n",
       "        vertical-align: top;\n",
       "    }\n",
       "\n",
       "    .dataframe thead th {\n",
       "        text-align: right;\n",
       "    }\n",
       "</style>\n",
       "<table border=\"1\" class=\"dataframe\">\n",
       "  <thead>\n",
       "    <tr style=\"text-align: right;\">\n",
       "      <th></th>\n",
       "      <th>Date</th>\n",
       "      <th>Open</th>\n",
       "      <th>High</th>\n",
       "      <th>Low</th>\n",
       "      <th>Close</th>\n",
       "      <th>Volume</th>\n",
       "      <th>OpenInt</th>\n",
       "      <th>VWAP</th>\n",
       "      <th>ATR</th>\n",
       "      <th>RSI</th>\n",
       "      <th>...</th>\n",
       "      <th>r2</th>\n",
       "      <th>r3</th>\n",
       "      <th>r4</th>\n",
       "      <th>WinningTrade</th>\n",
       "      <th>OneR</th>\n",
       "      <th>EntryPrice</th>\n",
       "      <th>TpPrice</th>\n",
       "      <th>SlPrice</th>\n",
       "      <th>cohorts</th>\n",
       "      <th>Symbol</th>\n",
       "    </tr>\n",
       "  </thead>\n",
       "  <tbody>\n",
       "    <tr>\n",
       "      <th>597</th>\n",
       "      <td>1964-05-15</td>\n",
       "      <td>6.480</td>\n",
       "      <td>6.530</td>\n",
       "      <td>6.471</td>\n",
       "      <td>6.513</td>\n",
       "      <td>278438</td>\n",
       "      <td>0</td>\n",
       "      <td>0.719</td>\n",
       "      <td>0.062</td>\n",
       "      <td>0.545</td>\n",
       "      <td>...</td>\n",
       "      <td>0.997</td>\n",
       "      <td>0.999</td>\n",
       "      <td>1.002</td>\n",
       "      <td>True</td>\n",
       "      <td>0.107</td>\n",
       "      <td>6.550</td>\n",
       "      <td>6.763</td>\n",
       "      <td>6.443</td>\n",
       "      <td>2</td>\n",
       "      <td>ibm</td>\n",
       "    </tr>\n",
       "    <tr>\n",
       "      <th>616</th>\n",
       "      <td>1964-06-12</td>\n",
       "      <td>6.513</td>\n",
       "      <td>6.555</td>\n",
       "      <td>6.513</td>\n",
       "      <td>6.546</td>\n",
       "      <td>323350</td>\n",
       "      <td>0</td>\n",
       "      <td>0.722</td>\n",
       "      <td>0.089</td>\n",
       "      <td>0.513</td>\n",
       "      <td>...</td>\n",
       "      <td>0.997</td>\n",
       "      <td>1.001</td>\n",
       "      <td>1.005</td>\n",
       "      <td>False</td>\n",
       "      <td>0.132</td>\n",
       "      <td>6.575</td>\n",
       "      <td>6.839</td>\n",
       "      <td>6.443</td>\n",
       "      <td>2</td>\n",
       "      <td>ibm</td>\n",
       "    </tr>\n",
       "    <tr>\n",
       "      <th>1106</th>\n",
       "      <td>1966-05-23</td>\n",
       "      <td>7.624</td>\n",
       "      <td>7.732</td>\n",
       "      <td>7.624</td>\n",
       "      <td>7.649</td>\n",
       "      <td>1034713</td>\n",
       "      <td>0</td>\n",
       "      <td>0.670</td>\n",
       "      <td>0.146</td>\n",
       "      <td>0.591</td>\n",
       "      <td>...</td>\n",
       "      <td>0.973</td>\n",
       "      <td>0.976</td>\n",
       "      <td>0.980</td>\n",
       "      <td>False</td>\n",
       "      <td>0.349</td>\n",
       "      <td>7.752</td>\n",
       "      <td>8.450</td>\n",
       "      <td>7.403</td>\n",
       "      <td>2</td>\n",
       "      <td>ibm</td>\n",
       "    </tr>\n",
       "    <tr>\n",
       "      <th>1282</th>\n",
       "      <td>1967-02-02</td>\n",
       "      <td>8.208</td>\n",
       "      <td>8.292</td>\n",
       "      <td>8.208</td>\n",
       "      <td>8.242</td>\n",
       "      <td>464664</td>\n",
       "      <td>0</td>\n",
       "      <td>0.647</td>\n",
       "      <td>0.139</td>\n",
       "      <td>0.578</td>\n",
       "      <td>...</td>\n",
       "      <td>0.990</td>\n",
       "      <td>0.993</td>\n",
       "      <td>0.996</td>\n",
       "      <td>True</td>\n",
       "      <td>0.215</td>\n",
       "      <td>8.312</td>\n",
       "      <td>8.742</td>\n",
       "      <td>8.096</td>\n",
       "      <td>2</td>\n",
       "      <td>ibm</td>\n",
       "    </tr>\n",
       "    <tr>\n",
       "      <th>1870</th>\n",
       "      <td>1969-07-16</td>\n",
       "      <td>13.529</td>\n",
       "      <td>13.652</td>\n",
       "      <td>13.529</td>\n",
       "      <td>13.652</td>\n",
       "      <td>747292</td>\n",
       "      <td>0</td>\n",
       "      <td>0.512</td>\n",
       "      <td>0.350</td>\n",
       "      <td>0.507</td>\n",
       "      <td>...</td>\n",
       "      <td>0.992</td>\n",
       "      <td>1.000</td>\n",
       "      <td>1.008</td>\n",
       "      <td>False</td>\n",
       "      <td>0.526</td>\n",
       "      <td>13.682</td>\n",
       "      <td>14.734</td>\n",
       "      <td>13.156</td>\n",
       "      <td>3</td>\n",
       "      <td>ibm</td>\n",
       "    </tr>\n",
       "    <tr>\n",
       "      <th>...</th>\n",
       "      <td>...</td>\n",
       "      <td>...</td>\n",
       "      <td>...</td>\n",
       "      <td>...</td>\n",
       "      <td>...</td>\n",
       "      <td>...</td>\n",
       "      <td>...</td>\n",
       "      <td>...</td>\n",
       "      <td>...</td>\n",
       "      <td>...</td>\n",
       "      <td>...</td>\n",
       "      <td>...</td>\n",
       "      <td>...</td>\n",
       "      <td>...</td>\n",
       "      <td>...</td>\n",
       "      <td>...</td>\n",
       "      <td>...</td>\n",
       "      <td>...</td>\n",
       "      <td>...</td>\n",
       "      <td>...</td>\n",
       "      <td>...</td>\n",
       "    </tr>\n",
       "    <tr>\n",
       "      <th>29</th>\n",
       "      <td>2017-11-01</td>\n",
       "      <td>16.020</td>\n",
       "      <td>18.880</td>\n",
       "      <td>15.390</td>\n",
       "      <td>18.430</td>\n",
       "      <td>180478</td>\n",
       "      <td>0</td>\n",
       "      <td>0.991</td>\n",
       "      <td>4.023</td>\n",
       "      <td>0.471</td>\n",
       "      <td>...</td>\n",
       "      <td>0.932</td>\n",
       "      <td>1.007</td>\n",
       "      <td>1.082</td>\n",
       "      <td>True</td>\n",
       "      <td>5.940</td>\n",
       "      <td>18.910</td>\n",
       "      <td>30.790</td>\n",
       "      <td>12.970</td>\n",
       "      <td>3</td>\n",
       "      <td>petz</td>\n",
       "    </tr>\n",
       "    <tr>\n",
       "      <th>314</th>\n",
       "      <td>2017-11-02</td>\n",
       "      <td>0.700</td>\n",
       "      <td>0.725</td>\n",
       "      <td>0.700</td>\n",
       "      <td>0.720</td>\n",
       "      <td>1233100</td>\n",
       "      <td>0</td>\n",
       "      <td>0.800</td>\n",
       "      <td>0.043</td>\n",
       "      <td>0.591</td>\n",
       "      <td>...</td>\n",
       "      <td>0.973</td>\n",
       "      <td>0.984</td>\n",
       "      <td>0.994</td>\n",
       "      <td>True</td>\n",
       "      <td>0.065</td>\n",
       "      <td>0.735</td>\n",
       "      <td>0.865</td>\n",
       "      <td>0.670</td>\n",
       "      <td>1</td>\n",
       "      <td>eaglw</td>\n",
       "    </tr>\n",
       "    <tr>\n",
       "      <th>518</th>\n",
       "      <td>2017-11-03</td>\n",
       "      <td>25.490</td>\n",
       "      <td>26.060</td>\n",
       "      <td>25.490</td>\n",
       "      <td>25.880</td>\n",
       "      <td>11830</td>\n",
       "      <td>0</td>\n",
       "      <td>0.940</td>\n",
       "      <td>0.584</td>\n",
       "      <td>0.486</td>\n",
       "      <td>...</td>\n",
       "      <td>0.983</td>\n",
       "      <td>0.991</td>\n",
       "      <td>0.999</td>\n",
       "      <td>False</td>\n",
       "      <td>1.180</td>\n",
       "      <td>26.090</td>\n",
       "      <td>28.450</td>\n",
       "      <td>24.910</td>\n",
       "      <td>3</td>\n",
       "      <td>cncr</td>\n",
       "    </tr>\n",
       "    <tr>\n",
       "      <th>729</th>\n",
       "      <td>2017-11-03</td>\n",
       "      <td>22.450</td>\n",
       "      <td>22.950</td>\n",
       "      <td>22.350</td>\n",
       "      <td>22.900</td>\n",
       "      <td>128037</td>\n",
       "      <td>0</td>\n",
       "      <td>0.670</td>\n",
       "      <td>0.445</td>\n",
       "      <td>0.709</td>\n",
       "      <td>...</td>\n",
       "      <td>0.992</td>\n",
       "      <td>1.000</td>\n",
       "      <td>1.008</td>\n",
       "      <td>False</td>\n",
       "      <td>0.860</td>\n",
       "      <td>22.980</td>\n",
       "      <td>24.700</td>\n",
       "      <td>22.120</td>\n",
       "      <td>3</td>\n",
       "      <td>wk</td>\n",
       "    </tr>\n",
       "    <tr>\n",
       "      <th>275</th>\n",
       "      <td>2017-11-06</td>\n",
       "      <td>71.910</td>\n",
       "      <td>72.285</td>\n",
       "      <td>71.910</td>\n",
       "      <td>72.230</td>\n",
       "      <td>5835</td>\n",
       "      <td>0</td>\n",
       "      <td>0.908</td>\n",
       "      <td>0.537</td>\n",
       "      <td>0.612</td>\n",
       "      <td>...</td>\n",
       "      <td>0.996</td>\n",
       "      <td>0.999</td>\n",
       "      <td>1.003</td>\n",
       "      <td>False</td>\n",
       "      <td>1.090</td>\n",
       "      <td>72.335</td>\n",
       "      <td>74.515</td>\n",
       "      <td>71.245</td>\n",
       "      <td>4</td>\n",
       "      <td>esge</td>\n",
       "    </tr>\n",
       "  </tbody>\n",
       "</table>\n",
       "<p>58832 rows × 33 columns</p>\n",
       "</div>"
      ],
      "text/plain": [
       "            Date   Open   High    Low  Close   Volume  OpenInt  VWAP   ATR  \\\n",
       "597   1964-05-15  6.480  6.530  6.471  6.513   278438        0 0.719 0.062   \n",
       "616   1964-06-12  6.513  6.555  6.513  6.546   323350        0 0.722 0.089   \n",
       "1106  1966-05-23  7.624  7.732  7.624  7.649  1034713        0 0.670 0.146   \n",
       "1282  1967-02-02  8.208  8.292  8.208  8.242   464664        0 0.647 0.139   \n",
       "1870  1969-07-16 13.529 13.652 13.529 13.652   747292        0 0.512 0.350   \n",
       "...          ...    ...    ...    ...    ...      ...      ...   ...   ...   \n",
       "29    2017-11-01 16.020 18.880 15.390 18.430   180478        0 0.991 4.023   \n",
       "314   2017-11-02  0.700  0.725  0.700  0.720  1233100        0 0.800 0.043   \n",
       "518   2017-11-03 25.490 26.060 25.490 25.880    11830        0 0.940 0.584   \n",
       "729   2017-11-03 22.450 22.950 22.350 22.900   128037        0 0.670 0.445   \n",
       "275   2017-11-06 71.910 72.285 71.910 72.230     5835        0 0.908 0.537   \n",
       "\n",
       "       RSI  ...    r2    r3    r4  WinningTrade  OneR  EntryPrice  TpPrice  \\\n",
       "597  0.545  ... 0.997 0.999 1.002          True 0.107       6.550    6.763   \n",
       "616  0.513  ... 0.997 1.001 1.005         False 0.132       6.575    6.839   \n",
       "1106 0.591  ... 0.973 0.976 0.980         False 0.349       7.752    8.450   \n",
       "1282 0.578  ... 0.990 0.993 0.996          True 0.215       8.312    8.742   \n",
       "1870 0.507  ... 0.992 1.000 1.008         False 0.526      13.682   14.734   \n",
       "...    ...  ...   ...   ...   ...           ...   ...         ...      ...   \n",
       "29   0.471  ... 0.932 1.007 1.082          True 5.940      18.910   30.790   \n",
       "314  0.591  ... 0.973 0.984 0.994          True 0.065       0.735    0.865   \n",
       "518  0.486  ... 0.983 0.991 0.999         False 1.180      26.090   28.450   \n",
       "729  0.709  ... 0.992 1.000 1.008         False 0.860      22.980   24.700   \n",
       "275  0.612  ... 0.996 0.999 1.003         False 1.090      72.335   74.515   \n",
       "\n",
       "      SlPrice  cohorts  Symbol  \n",
       "597     6.443        2     ibm  \n",
       "616     6.443        2     ibm  \n",
       "1106    7.403        2     ibm  \n",
       "1282    8.096        2     ibm  \n",
       "1870   13.156        3     ibm  \n",
       "...       ...      ...     ...  \n",
       "29     12.970        3    petz  \n",
       "314     0.670        1   eaglw  \n",
       "518    24.910        3    cncr  \n",
       "729    22.120        3      wk  \n",
       "275    71.245        4    esge  \n",
       "\n",
       "[58832 rows x 33 columns]"
      ]
     },
     "execution_count": 14,
     "metadata": {},
     "output_type": "execute_result"
    }
   ],
   "source": [
    "data"
   ]
  },
  {
   "cell_type": "markdown",
   "id": "e4b82e62-7c56-42ea-8594-e0757b3500bc",
   "metadata": {},
   "source": [
    "## Split data"
   ]
  },
  {
   "cell_type": "code",
   "execution_count": 15,
   "id": "b41b2628-fcb4-4d51-b310-2a9df43ebabd",
   "metadata": {},
   "outputs": [],
   "source": [
    "date = \"2017-01-31\"\n",
    "column_data = \"Date\"\n",
    "train = data[pd.to_datetime(data[column_data]) <= pd.to_datetime(date)]\n",
    "test = data[pd.to_datetime(data[column_data]) > pd.to_datetime(date)] # 2017 - 2018"
   ]
  },
  {
   "cell_type": "code",
   "execution_count": 16,
   "id": "761f39fd-053a-4996-934c-4c28689f6e97",
   "metadata": {},
   "outputs": [
    {
     "data": {
      "text/plain": [
       "((53441, 33), (5391, 33), 0.09163380473211857)"
      ]
     },
     "execution_count": 16,
     "metadata": {},
     "output_type": "execute_result"
    }
   ],
   "source": [
    "train.shape, test.shape, len(test)/len(data)"
   ]
  },
  {
   "cell_type": "code",
   "execution_count": 17,
   "id": "691c3a0a-f254-4809-a99c-a8d743365d0b",
   "metadata": {},
   "outputs": [
    {
     "data": {
      "text/plain": [
       "(0.38079377257162106, 0.40827304767204603)"
      ]
     },
     "execution_count": 17,
     "metadata": {},
     "output_type": "execute_result"
    }
   ],
   "source": [
    "train.WinningTrade.mean(), test.WinningTrade.mean()"
   ]
  },
  {
   "cell_type": "code",
   "execution_count": 18,
   "id": "8d0b1f39-c1fa-4ed5-a636-de93f74fd9c0",
   "metadata": {},
   "outputs": [
    {
     "data": {
      "text/html": [
       "<div>\n",
       "<style scoped>\n",
       "    .dataframe tbody tr th:only-of-type {\n",
       "        vertical-align: middle;\n",
       "    }\n",
       "\n",
       "    .dataframe tbody tr th {\n",
       "        vertical-align: top;\n",
       "    }\n",
       "\n",
       "    .dataframe thead th {\n",
       "        text-align: right;\n",
       "    }\n",
       "</style>\n",
       "<table border=\"1\" class=\"dataframe\">\n",
       "  <thead>\n",
       "    <tr style=\"text-align: right;\">\n",
       "      <th></th>\n",
       "      <th>size</th>\n",
       "      <th>mean</th>\n",
       "    </tr>\n",
       "    <tr>\n",
       "      <th>cohorts</th>\n",
       "      <th></th>\n",
       "      <th></th>\n",
       "    </tr>\n",
       "  </thead>\n",
       "  <tbody>\n",
       "    <tr>\n",
       "      <th>1</th>\n",
       "      <td>3267</td>\n",
       "      <td>0.442</td>\n",
       "    </tr>\n",
       "    <tr>\n",
       "      <th>2</th>\n",
       "      <td>7010</td>\n",
       "      <td>0.408</td>\n",
       "    </tr>\n",
       "    <tr>\n",
       "      <th>3</th>\n",
       "      <td>34768</td>\n",
       "      <td>0.375</td>\n",
       "    </tr>\n",
       "    <tr>\n",
       "      <th>4</th>\n",
       "      <td>6339</td>\n",
       "      <td>0.366</td>\n",
       "    </tr>\n",
       "    <tr>\n",
       "      <th>5</th>\n",
       "      <td>1851</td>\n",
       "      <td>0.335</td>\n",
       "    </tr>\n",
       "    <tr>\n",
       "      <th>6</th>\n",
       "      <td>128</td>\n",
       "      <td>0.391</td>\n",
       "    </tr>\n",
       "    <tr>\n",
       "      <th>7</th>\n",
       "      <td>78</td>\n",
       "      <td>0.359</td>\n",
       "    </tr>\n",
       "  </tbody>\n",
       "</table>\n",
       "</div>"
      ],
      "text/plain": [
       "          size  mean\n",
       "cohorts             \n",
       "1         3267 0.442\n",
       "2         7010 0.408\n",
       "3        34768 0.375\n",
       "4         6339 0.366\n",
       "5         1851 0.335\n",
       "6          128 0.391\n",
       "7           78 0.359"
      ]
     },
     "execution_count": 18,
     "metadata": {},
     "output_type": "execute_result"
    }
   ],
   "source": [
    "train.groupby('cohorts').WinningTrade.agg({'size', 'mean'})"
   ]
  },
  {
   "cell_type": "code",
   "execution_count": 178,
   "id": "db0b52ad-3981-42f8-9e6d-24de52fe176e",
   "metadata": {},
   "outputs": [
    {
     "data": {
      "text/html": [
       "<div>\n",
       "<style scoped>\n",
       "    .dataframe tbody tr th:only-of-type {\n",
       "        vertical-align: middle;\n",
       "    }\n",
       "\n",
       "    .dataframe tbody tr th {\n",
       "        vertical-align: top;\n",
       "    }\n",
       "\n",
       "    .dataframe thead th {\n",
       "        text-align: right;\n",
       "    }\n",
       "</style>\n",
       "<table border=\"1\" class=\"dataframe\">\n",
       "  <thead>\n",
       "    <tr style=\"text-align: right;\">\n",
       "      <th></th>\n",
       "      <th>size</th>\n",
       "      <th>mean</th>\n",
       "    </tr>\n",
       "    <tr>\n",
       "      <th>cohorts</th>\n",
       "      <th></th>\n",
       "      <th></th>\n",
       "    </tr>\n",
       "  </thead>\n",
       "  <tbody>\n",
       "    <tr>\n",
       "      <th>1</th>\n",
       "      <td>158</td>\n",
       "      <td>0.367</td>\n",
       "    </tr>\n",
       "    <tr>\n",
       "      <th>2</th>\n",
       "      <td>335</td>\n",
       "      <td>0.424</td>\n",
       "    </tr>\n",
       "    <tr>\n",
       "      <th>3</th>\n",
       "      <td>3312</td>\n",
       "      <td>0.396</td>\n",
       "    </tr>\n",
       "    <tr>\n",
       "      <th>4</th>\n",
       "      <td>1079</td>\n",
       "      <td>0.427</td>\n",
       "    </tr>\n",
       "    <tr>\n",
       "      <th>5</th>\n",
       "      <td>490</td>\n",
       "      <td>0.449</td>\n",
       "    </tr>\n",
       "    <tr>\n",
       "      <th>6</th>\n",
       "      <td>12</td>\n",
       "      <td>0.417</td>\n",
       "    </tr>\n",
       "    <tr>\n",
       "      <th>7</th>\n",
       "      <td>5</td>\n",
       "      <td>0.400</td>\n",
       "    </tr>\n",
       "  </tbody>\n",
       "</table>\n",
       "</div>"
      ],
      "text/plain": [
       "         size  mean\n",
       "cohorts            \n",
       "1         158 0.367\n",
       "2         335 0.424\n",
       "3        3312 0.396\n",
       "4        1079 0.427\n",
       "5         490 0.449\n",
       "6          12 0.417\n",
       "7           5 0.400"
      ]
     },
     "execution_count": 178,
     "metadata": {},
     "output_type": "execute_result"
    }
   ],
   "source": [
    "test.groupby('cohorts').WinningTrade.agg({'size', 'mean'})"
   ]
  },
  {
   "cell_type": "markdown",
   "id": "070a7b09-5d14-428d-b302-677760d6956c",
   "metadata": {},
   "source": [
    "## Evalute Function"
   ]
  },
  {
   "cell_type": "code",
   "execution_count": 24,
   "id": "f10a6415-907c-4d83-8191-098f86f7168c",
   "metadata": {},
   "outputs": [],
   "source": [
    "from sklearn.metrics import recall_score, precision_score, accuracy_score"
   ]
  },
  {
   "cell_type": "code",
   "execution_count": 25,
   "id": "6fce686e-9f72-48e6-ac93-e6a2df190f8d",
   "metadata": {},
   "outputs": [],
   "source": [
    "def evaluate(clf, train, test, features = TRADES_ATTRIBUTES, thresh=0.5):\n",
    "    preds_train, preds_test = clf.predict_proba(train[features])[:, 1] > thresh, clf.predict_proba(test[features])[:, 1] > thresh\n",
    "    recall_train = recall_score(train.WinningTrade, \n",
    "                                             preds_train, \n",
    "                                             zero_division=0)\n",
    "    \n",
    "    recall_test = recall_score(test.WinningTrade,  preds_test, zero_division=0)\n",
    "                                                                                                            \n",
    "    precision_train = precision_score(train.WinningTrade, \n",
    "                                      preds_train, \n",
    "                                      zero_division=0)\n",
    "    precision_test = precision_score(test.WinningTrade, preds_test)\n",
    "\n",
    "    print('recall train test: , ', round(recall_train, 2), round(recall_test, 2))\n",
    "    print('precision train test: , ', round(precision_train, 2), round(precision_test, 2))\n",
    "    \n",
    "    return preds_train, preds_test"
   ]
  },
  {
   "cell_type": "markdown",
   "id": "5f906b12-3ed8-4977-ada8-84a2a55dc658",
   "metadata": {},
   "source": [
    "## Training"
   ]
  },
  {
   "cell_type": "code",
   "execution_count": 123,
   "id": "cf276dc3-7ec5-404c-8240-360469fe809f",
   "metadata": {},
   "outputs": [],
   "source": [
    "from lightgbm import LGBMClassifier\n",
    "from sklearn.tree import DecisionTreeClassifier\n",
    "from sklearn.ensemble import RandomForestClassifier\n",
    "from sklearn.linear_model import LogisticRegression"
   ]
  },
  {
   "cell_type": "code",
   "execution_count": 164,
   "id": "318f9de7-8461-48c4-82e3-af7238659e9b",
   "metadata": {},
   "outputs": [],
   "source": [
    "clf = LGBMClassifier(random_state=2021, class_weight=\"balanced\", n_estimators=200, max_depth=10, importance_type=\"gain\")"
   ]
  },
  {
   "cell_type": "code",
   "execution_count": 20,
   "id": "9da5f88e-dc5a-4b34-90c0-02c39b497b6b",
   "metadata": {},
   "outputs": [],
   "source": [
    "features = ['Open', 'High', 'Low', 'Close', 'SlPrice', 'TpPrice', 'EntryPrice', 'OneR', 'ATR', 'Volume', 'RSI', 'cohorts']"
   ]
  },
  {
   "cell_type": "code",
   "execution_count": 172,
   "id": "a92275e3-294a-4a45-be66-c9980d582982",
   "metadata": {},
   "outputs": [
    {
     "data": {
      "text/plain": [
       "LGBMClassifier(class_weight='balanced', importance_type='gain', max_depth=10,\n",
       "               n_estimators=200, random_state=2021)"
      ]
     },
     "execution_count": 172,
     "metadata": {},
     "output_type": "execute_result"
    }
   ],
   "source": [
    "clf.fit(train[features], train.WinningTrade)"
   ]
  },
  {
   "cell_type": "code",
   "execution_count": 173,
   "id": "e679af33-3718-4f9c-a929-d3cb0efa0fe5",
   "metadata": {},
   "outputs": [
    {
     "name": "stdout",
     "output_type": "stream",
     "text": [
      "recall train test: ,  0.51 0.44\n",
      "precision train test: ,  0.43 0.41\n"
     ]
    }
   ],
   "source": [
    "preds_train, preds_test = evaluate(clf, train, test, features=features, thresh=0.5)"
   ]
  },
  {
   "cell_type": "code",
   "execution_count": null,
   "id": "3961241c-1799-402b-b071-9a3a86afcf16",
   "metadata": {},
   "outputs": [
    {
     "name": "stdout",
     "output_type": "stream",
     "text": [
      "[WARNING] [2021-12-22 14:33:15,676:Client-EnsembleBuilder] No models better than random - using Dummy loss!Number of models besides current dummy model: 1. Number of dummy models: 1\n",
      "[WARNING] [2021-12-22 14:33:37,582:Client-EnsembleBuilder] No models better than random - using Dummy loss!Number of models besides current dummy model: 2. Number of dummy models: 1\n",
      "[WARNING] [2021-12-22 14:33:39,922:Client-EnsembleBuilder] No models better than random - using Dummy loss!Number of models besides current dummy model: 3. Number of dummy models: 1\n",
      "[WARNING] [2021-12-22 14:35:35,057:Client-EnsembleBuilder] No models better than random - using Dummy loss!Number of models besides current dummy model: 4. Number of dummy models: 1\n",
      "[WARNING] [2021-12-22 14:36:58,065:Client-EnsembleBuilder] No models better than random - using Dummy loss!Number of models besides current dummy model: 5. Number of dummy models: 1\n",
      "[WARNING] [2021-12-22 14:38:28,760:Client-EnsembleBuilder] No models better than random - using Dummy loss!Number of models besides current dummy model: 6. Number of dummy models: 1\n"
     ]
    },
    {
     "name": "stderr",
     "output_type": "stream",
     "text": [
      "Process ForkProcess-1:\n",
      "Traceback (most recent call last):\n",
      "  File \"/usr/lib/python3.8/multiprocessing/process.py\", line 315, in _bootstrap\n",
      "    self.run()\n",
      "  File \"/usr/lib/python3.8/multiprocessing/process.py\", line 108, in run\n",
      "    self._target(*self._args, **self._kwargs)\n",
      "  File \"/home/abdelelyds/.local/lib/python3.8/site-packages/autosklearn/util/logging_.py\", line 320, in start_log_server\n",
      "    receiver.serve_until_stopped()\n",
      "  File \"/home/abdelelyds/.local/lib/python3.8/site-packages/autosklearn/util/logging_.py\", line 350, in serve_until_stopped\n",
      "    rd, wr, ex = select.select([self.socket.fileno()],\n",
      "KeyboardInterrupt\n"
     ]
    }
   ],
   "source": [
    "import autosklearn.classification\n",
    "cls = autosklearn.classification.AutoSklearnClassifier()\n",
    "cls.fit(train[features], train.WinningTrade)\n",
    "predictions = cls.predict(test[features])"
   ]
  },
  {
   "cell_type": "code",
   "execution_count": null,
   "id": "7e5c8281-8b4f-4ee5-ab5b-1efe51302fda",
   "metadata": {},
   "outputs": [],
   "source": []
  },
  {
   "cell_type": "code",
   "execution_count": null,
   "id": "2cbfbc49-8836-4055-bce6-56db1575f9f7",
   "metadata": {},
   "outputs": [],
   "source": []
  },
  {
   "cell_type": "code",
   "execution_count": null,
   "id": "a9a02049-061b-4c3a-890f-89bdd24ac6a1",
   "metadata": {},
   "outputs": [],
   "source": []
  },
  {
   "cell_type": "code",
   "execution_count": 151,
   "id": "0da90c3b-8bcd-447e-8af8-aecf2e2de99d",
   "metadata": {},
   "outputs": [],
   "source": [
    "corr_matrix = train[TRADES_ATTRIBUTES].corr().abs()\n",
    "\n",
    "# Select upper triangle of correlation matrix\n",
    "upper = corr_matrix.where(np.triu(np.ones(corr_matrix.shape), k=1).astype(np.bool))\n",
    "\n",
    "# Find features with correlation greater than 0.95\n",
    "to_drop = [column for column in upper.columns if any(upper[column] > 0.95)]\n",
    "\n",
    "new_features = list(set(TRADES_ATTRIBUTES) - set(to_drop))"
   ]
  },
  {
   "cell_type": "code",
   "execution_count": 154,
   "id": "56b2dfe5-df84-4ea0-bf9c-7e76d7e2be24",
   "metadata": {},
   "outputs": [
    {
     "data": {
      "text/plain": [
       "LogisticRegression()"
      ]
     },
     "execution_count": 154,
     "metadata": {},
     "output_type": "execute_result"
    }
   ],
   "source": [
    "clf = LGBMClassifier(random_state=2021, class_weight=\"balanced\", n_estimators=600, max_depth=10, importance_type=\"gain\")\n",
    "clf = DecisionTreeClassifier(random_state=0, max_depth=10)\n",
    "clf = RandomForestClassifier(random_state=0, n_estimators=100, max_depth=10)\n",
    "clf = LogisticRegression()\n",
    "clf.fit(train[new_features], train.WinningTrade)"
   ]
  },
  {
   "cell_type": "code",
   "execution_count": 155,
   "id": "bef5d16e-648c-4779-b239-8bbe646d9693",
   "metadata": {},
   "outputs": [
    {
     "name": "stdout",
     "output_type": "stream",
     "text": [
      "recall train test: ,  0.0 0.0\n",
      "precision train test: ,  0.0 0.0\n"
     ]
    }
   ],
   "source": [
    "preds_train, preds_test = evaluate(clf, train, test, features=new_features, thresh=0.6)"
   ]
  },
  {
   "cell_type": "code",
   "execution_count": 415,
   "id": "d50009fc-208c-4f56-a4af-17a947b95867",
   "metadata": {},
   "outputs": [],
   "source": [
    "test['preds'] = preds_test"
   ]
  },
  {
   "cell_type": "code",
   "execution_count": 416,
   "id": "db14f9d9-b805-4b13-9a42-23a67fdffdbb",
   "metadata": {},
   "outputs": [],
   "source": [
    "trades_to_take_with_ml = test[test['preds'] == True]"
   ]
  },
  {
   "cell_type": "code",
   "execution_count": 417,
   "id": "51c0115e-a24d-4989-8ada-5b900d32b61b",
   "metadata": {},
   "outputs": [
    {
     "data": {
      "text/plain": [
       "0.625"
      ]
     },
     "execution_count": 417,
     "metadata": {},
     "output_type": "execute_result"
    }
   ],
   "source": [
    "trades_to_take_with_ml.WinningTrade.mean()"
   ]
  },
  {
   "cell_type": "code",
   "execution_count": 418,
   "id": "c290dce9-5eca-404c-a445-08e526019304",
   "metadata": {},
   "outputs": [
    {
     "data": {
      "text/plain": [
       "0.0014839547393804488"
      ]
     },
     "execution_count": 418,
     "metadata": {},
     "output_type": "execute_result"
    }
   ],
   "source": [
    "trades_to_take_with_ml.shape[0] / len(test)"
   ]
  },
  {
   "cell_type": "code",
   "execution_count": 419,
   "id": "31ae9677-d080-4c56-8d60-cf8d65c764a6",
   "metadata": {},
   "outputs": [
    {
     "data": {
      "text/plain": [
       "8"
      ]
     },
     "execution_count": 419,
     "metadata": {},
     "output_type": "execute_result"
    }
   ],
   "source": [
    "len(trades_to_take_with_ml)"
   ]
  },
  {
   "cell_type": "markdown",
   "id": "71481dc7-4577-4b08-843a-faa82ffee108",
   "metadata": {},
   "source": [
    "## Test On 2018-2021"
   ]
  },
  {
   "cell_type": "code",
   "execution_count": 420,
   "id": "f920fb43-2a36-4f43-bcbe-8f7deb5e515d",
   "metadata": {},
   "outputs": [],
   "source": [
    "yahoo_path = \"logs/yahoo_extreme_rsi.csv\"\n",
    "res = pd.read_csv(yahoo_path)"
   ]
  },
  {
   "cell_type": "code",
   "execution_count": 421,
   "id": "a29d2936-3549-49ad-85f6-60ffd68b1109",
   "metadata": {},
   "outputs": [],
   "source": [
    "ana = Analyzer(res)"
   ]
  },
  {
   "cell_type": "code",
   "execution_count": 422,
   "id": "13fd5e5a-6ad1-405d-94be-4a9c999da6a0",
   "metadata": {},
   "outputs": [],
   "source": [
    "res_ana = ana.backtest_results"
   ]
  },
  {
   "cell_type": "code",
   "execution_count": 423,
   "id": "9593cb3e-7a49-44f7-8d68-0494bebab810",
   "metadata": {},
   "outputs": [
    {
     "data": {
      "text/plain": [
       "(37134, 36)"
      ]
     },
     "execution_count": 423,
     "metadata": {},
     "output_type": "execute_result"
    }
   ],
   "source": [
    "res_ana.shape"
   ]
  },
  {
   "cell_type": "code",
   "execution_count": 424,
   "id": "736bc8b5-0af3-42f2-bf92-3c85fb8f830a",
   "metadata": {},
   "outputs": [
    {
     "data": {
      "text/plain": [
       "0.39"
      ]
     },
     "execution_count": 424,
     "metadata": {},
     "output_type": "execute_result"
    }
   ],
   "source": [
    "ana.win_rate"
   ]
  },
  {
   "cell_type": "code",
   "execution_count": 425,
   "id": "da6d4586-1c93-445a-95bf-425504845b91",
   "metadata": {},
   "outputs": [],
   "source": [
    "year = \"2019-01-01\"\n",
    "trade_2018_2021 = res_ana[pd.to_datetime(res_ana.EntryTime) >= pd.to_datetime(year)]\n",
    "trade_2018_2021['cohorts'] = trade_2018_2021.EntryPrice.apply(compute_cohots)"
   ]
  },
  {
   "cell_type": "code",
   "execution_count": 426,
   "id": "fe8823ac-deef-4892-8b87-1e8e08b29a96",
   "metadata": {},
   "outputs": [
    {
     "data": {
      "text/plain": [
       "(22963, 37)"
      ]
     },
     "execution_count": 426,
     "metadata": {},
     "output_type": "execute_result"
    }
   ],
   "source": [
    "trade_2018_2021.shape"
   ]
  },
  {
   "cell_type": "code",
   "execution_count": 427,
   "id": "b2a35438-d6f2-49f0-bf5b-deb2ebc75378",
   "metadata": {},
   "outputs": [
    {
     "name": "stdout",
     "output_type": "stream",
     "text": [
      "recall train test: ,  0.0 0.0\n",
      "precision train test: ,  0.34 0.34\n"
     ]
    }
   ],
   "source": [
    "preds, preds = evaluate(clf, trade_2018_2021, trade_2018_2021, features=features, thresh=0.75)"
   ]
  },
  {
   "cell_type": "code",
   "execution_count": 369,
   "id": "ccd6781e-e34c-4362-abda-40e875002189",
   "metadata": {},
   "outputs": [],
   "source": [
    "trade_2018_2021['preds'] = preds"
   ]
  },
  {
   "cell_type": "code",
   "execution_count": 370,
   "id": "25036ba9-0b42-488d-afe6-75bd7af5cc54",
   "metadata": {},
   "outputs": [],
   "source": [
    "trades_to_take_with_ml = trade_2018_2021[trade_2018_2021['preds'] == True]"
   ]
  },
  {
   "cell_type": "code",
   "execution_count": 371,
   "id": "00d405c6-af9b-4888-ab05-1c1ce279fa61",
   "metadata": {},
   "outputs": [
    {
     "data": {
      "text/plain": [
       "117"
      ]
     },
     "execution_count": 371,
     "metadata": {},
     "output_type": "execute_result"
    }
   ],
   "source": [
    "len(trades_to_take_with_ml)"
   ]
  },
  {
   "cell_type": "code",
   "execution_count": 372,
   "id": "44b2699b-4e69-457a-9746-39d32cad634a",
   "metadata": {},
   "outputs": [
    {
     "data": {
      "text/plain": [
       "0.4188034188034188"
      ]
     },
     "execution_count": 372,
     "metadata": {},
     "output_type": "execute_result"
    }
   ],
   "source": [
    "trades_to_take_with_ml.WinningTrade.mean()"
   ]
  },
  {
   "cell_type": "code",
   "execution_count": null,
   "id": "c81a20b1-d9b9-47bd-9687-dc1cee3e1255",
   "metadata": {},
   "outputs": [],
   "source": []
  }
 ],
 "metadata": {
  "kernelspec": {
   "display_name": "Python 3 (ipykernel)",
   "language": "python",
   "name": "python3"
  },
  "language_info": {
   "codemirror_mode": {
    "name": "ipython",
    "version": 3
   },
   "file_extension": ".py",
   "mimetype": "text/x-python",
   "name": "python",
   "nbconvert_exporter": "python",
   "pygments_lexer": "ipython3",
   "version": "3.8.10"
  }
 },
 "nbformat": 4,
 "nbformat_minor": 5
}
