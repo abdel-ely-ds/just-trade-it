{
 "cells": [
  {
   "cell_type": "code",
   "execution_count": 1,
   "id": "869d438a-77d9-42e0-a781-a09607b3e931",
   "metadata": {},
   "outputs": [],
   "source": [
    "import pandas as pd\n",
    "from finta import TA as ta\n",
    "from tqdm import tqdm\n",
    "import os"
   ]
  },
  {
   "cell_type": "code",
   "execution_count": null,
   "id": "ebc5017a-69b0-4f92-8da5-6a86df73b6c2",
   "metadata": {},
   "outputs": [],
   "source": []
  },
  {
   "cell_type": "code",
   "execution_count": 4,
   "id": "a58180e4-8358-4cfc-a2b1-f35e99bc4023",
   "metadata": {},
   "outputs": [],
   "source": [
    "path = \"../archive/yahoo/\""
   ]
  },
  {
   "cell_type": "code",
   "execution_count": 5,
   "id": "d425898d-3d37-4b78-bf05-9904755c62e8",
   "metadata": {},
   "outputs": [
    {
     "name": "stderr",
     "output_type": "stream",
     "text": [
      "100%|███████████████████████████████████████| 6938/6938 [12:51<00:00,  8.99it/s]\n"
     ]
    }
   ],
   "source": [
    "for s in tqdm(os.listdir(path)):\n",
    "    \n",
    "    df = pd.read_csv(os.path.join(path, s))\n",
    "\n",
    "    try:\n",
    "        df['VWAP'] = ta.VWAP(df)\n",
    "        df['ATR'] = ta.ATR(df)\n",
    "        df['RSI'] = ta.RSI(df) / 100\n",
    "        df['ADX'] = ta.ADX(df) / 100\n",
    "        df['WILLIAMS'] = ta.WILLIAMS(df) / 100\n",
    "        df = pd.concat([df, ta.BBANDS(df), ta.VORTEX(df), ta.PIVOT_FIB(df)], axis=1)   \n",
    "\n",
    "        # fillna\n",
    "        to_fill_with = df.dropna().iloc[0]\n",
    "        df.fillna(to_fill_with, inplace=True)\n",
    "\n",
    "        # normalized bbands \n",
    "        for bb in ['VWAP', 'BB_LOWER', 'BB_MIDDLE', 'BB_UPPER', 'pivot', 's1', 's2', 's3', 's4', 'r1', 'r2', 'r3', 'r4']:\n",
    "            df[bb] /= df.High\n",
    "\n",
    "        df.to_csv(os.path.join(path, s), index=False)\n",
    "\n",
    "    except:\n",
    "        os.remove(os.path.join(path, s))"
   ]
  },
  {
   "cell_type": "code",
   "execution_count": 70,
   "id": "b67e8ef5-a5c4-4353-b2a3-7f025d9848b6",
   "metadata": {},
   "outputs": [],
   "source": [
    "test = pd.read_csv('archive/Stocks/msft.us.txt')"
   ]
  },
  {
   "cell_type": "code",
   "execution_count": 71,
   "id": "63ff835c-84e7-438c-bed4-039ea75c601c",
   "metadata": {},
   "outputs": [
    {
     "data": {
      "text/html": [
       "<div>\n",
       "<style scoped>\n",
       "    .dataframe tbody tr th:only-of-type {\n",
       "        vertical-align: middle;\n",
       "    }\n",
       "\n",
       "    .dataframe tbody tr th {\n",
       "        vertical-align: top;\n",
       "    }\n",
       "\n",
       "    .dataframe thead th {\n",
       "        text-align: right;\n",
       "    }\n",
       "</style>\n",
       "<table border=\"1\" class=\"dataframe\">\n",
       "  <thead>\n",
       "    <tr style=\"text-align: right;\">\n",
       "      <th></th>\n",
       "      <th>Date</th>\n",
       "      <th>Open</th>\n",
       "      <th>High</th>\n",
       "      <th>Low</th>\n",
       "      <th>Close</th>\n",
       "      <th>Volume</th>\n",
       "      <th>OpenInt</th>\n",
       "      <th>VWAP</th>\n",
       "      <th>ATR</th>\n",
       "      <th>RSI</th>\n",
       "      <th>...</th>\n",
       "      <th>VIp</th>\n",
       "      <th>pivot</th>\n",
       "      <th>s1</th>\n",
       "      <th>s2</th>\n",
       "      <th>s3</th>\n",
       "      <th>s4</th>\n",
       "      <th>r1</th>\n",
       "      <th>r2</th>\n",
       "      <th>r3</th>\n",
       "      <th>r4</th>\n",
       "    </tr>\n",
       "  </thead>\n",
       "  <tbody>\n",
       "    <tr>\n",
       "      <th>0</th>\n",
       "      <td>1986-03-13</td>\n",
       "      <td>0.06720</td>\n",
       "      <td>0.07533</td>\n",
       "      <td>0.06720</td>\n",
       "      <td>0.07533</td>\n",
       "      <td>1371330506</td>\n",
       "      <td>0</td>\n",
       "      <td>0.964025</td>\n",
       "      <td>0.004646</td>\n",
       "      <td>0.531503</td>\n",
       "      <td>...</td>\n",
       "      <td>1.125000</td>\n",
       "      <td>1.000000</td>\n",
       "      <td>1.000000</td>\n",
       "      <td>1.000000</td>\n",
       "      <td>1.000000</td>\n",
       "      <td>1.000000</td>\n",
       "      <td>1.000000</td>\n",
       "      <td>1.000000</td>\n",
       "      <td>1.000000</td>\n",
       "      <td>1.000000</td>\n",
       "    </tr>\n",
       "    <tr>\n",
       "      <th>1</th>\n",
       "      <td>1986-03-14</td>\n",
       "      <td>0.07533</td>\n",
       "      <td>0.07533</td>\n",
       "      <td>0.07533</td>\n",
       "      <td>0.07533</td>\n",
       "      <td>409569463</td>\n",
       "      <td>0</td>\n",
       "      <td>0.972298</td>\n",
       "      <td>0.004646</td>\n",
       "      <td>0.531503</td>\n",
       "      <td>...</td>\n",
       "      <td>1.125000</td>\n",
       "      <td>0.964025</td>\n",
       "      <td>0.922798</td>\n",
       "      <td>0.897327</td>\n",
       "      <td>0.856100</td>\n",
       "      <td>0.814872</td>\n",
       "      <td>1.005252</td>\n",
       "      <td>1.030723</td>\n",
       "      <td>1.071950</td>\n",
       "      <td>1.113177</td>\n",
       "    </tr>\n",
       "    <tr>\n",
       "      <th>2</th>\n",
       "      <td>1986-03-17</td>\n",
       "      <td>0.07533</td>\n",
       "      <td>0.07533</td>\n",
       "      <td>0.07533</td>\n",
       "      <td>0.07533</td>\n",
       "      <td>176995245</td>\n",
       "      <td>0</td>\n",
       "      <td>0.974803</td>\n",
       "      <td>0.004646</td>\n",
       "      <td>0.531503</td>\n",
       "      <td>...</td>\n",
       "      <td>1.125000</td>\n",
       "      <td>1.000000</td>\n",
       "      <td>1.000000</td>\n",
       "      <td>1.000000</td>\n",
       "      <td>1.000000</td>\n",
       "      <td>1.000000</td>\n",
       "      <td>1.000000</td>\n",
       "      <td>1.000000</td>\n",
       "      <td>1.000000</td>\n",
       "      <td>1.000000</td>\n",
       "    </tr>\n",
       "    <tr>\n",
       "      <th>3</th>\n",
       "      <td>1986-03-18</td>\n",
       "      <td>0.07533</td>\n",
       "      <td>0.07533</td>\n",
       "      <td>0.07533</td>\n",
       "      <td>0.07533</td>\n",
       "      <td>90067008</td>\n",
       "      <td>0</td>\n",
       "      <td>0.975911</td>\n",
       "      <td>0.004646</td>\n",
       "      <td>0.531503</td>\n",
       "      <td>...</td>\n",
       "      <td>1.125000</td>\n",
       "      <td>1.000000</td>\n",
       "      <td>1.000000</td>\n",
       "      <td>1.000000</td>\n",
       "      <td>1.000000</td>\n",
       "      <td>1.000000</td>\n",
       "      <td>1.000000</td>\n",
       "      <td>1.000000</td>\n",
       "      <td>1.000000</td>\n",
       "      <td>1.000000</td>\n",
       "    </tr>\n",
       "    <tr>\n",
       "      <th>4</th>\n",
       "      <td>1986-03-19</td>\n",
       "      <td>0.07533</td>\n",
       "      <td>0.07533</td>\n",
       "      <td>0.07533</td>\n",
       "      <td>0.07533</td>\n",
       "      <td>63655515</td>\n",
       "      <td>0</td>\n",
       "      <td>0.976637</td>\n",
       "      <td>0.004646</td>\n",
       "      <td>0.531503</td>\n",
       "      <td>...</td>\n",
       "      <td>1.125000</td>\n",
       "      <td>1.000000</td>\n",
       "      <td>1.000000</td>\n",
       "      <td>1.000000</td>\n",
       "      <td>1.000000</td>\n",
       "      <td>1.000000</td>\n",
       "      <td>1.000000</td>\n",
       "      <td>1.000000</td>\n",
       "      <td>1.000000</td>\n",
       "      <td>1.000000</td>\n",
       "    </tr>\n",
       "    <tr>\n",
       "      <th>...</th>\n",
       "      <td>...</td>\n",
       "      <td>...</td>\n",
       "      <td>...</td>\n",
       "      <td>...</td>\n",
       "      <td>...</td>\n",
       "      <td>...</td>\n",
       "      <td>...</td>\n",
       "      <td>...</td>\n",
       "      <td>...</td>\n",
       "      <td>...</td>\n",
       "      <td>...</td>\n",
       "      <td>...</td>\n",
       "      <td>...</td>\n",
       "      <td>...</td>\n",
       "      <td>...</td>\n",
       "      <td>...</td>\n",
       "      <td>...</td>\n",
       "      <td>...</td>\n",
       "      <td>...</td>\n",
       "      <td>...</td>\n",
       "      <td>...</td>\n",
       "    </tr>\n",
       "    <tr>\n",
       "      <th>7978</th>\n",
       "      <td>2017-11-06</td>\n",
       "      <td>84.20000</td>\n",
       "      <td>84.70000</td>\n",
       "      <td>84.08250</td>\n",
       "      <td>84.47000</td>\n",
       "      <td>19852151</td>\n",
       "      <td>0</td>\n",
       "      <td>0.181979</td>\n",
       "      <td>1.371964</td>\n",
       "      <td>0.846857</td>\n",
       "      <td>...</td>\n",
       "      <td>1.080828</td>\n",
       "      <td>0.992050</td>\n",
       "      <td>0.986909</td>\n",
       "      <td>0.983733</td>\n",
       "      <td>0.978591</td>\n",
       "      <td>0.973450</td>\n",
       "      <td>0.997192</td>\n",
       "      <td>1.000368</td>\n",
       "      <td>1.005510</td>\n",
       "      <td>1.010651</td>\n",
       "    </tr>\n",
       "    <tr>\n",
       "      <th>7979</th>\n",
       "      <td>2017-11-07</td>\n",
       "      <td>84.77000</td>\n",
       "      <td>84.90000</td>\n",
       "      <td>83.93000</td>\n",
       "      <td>84.26000</td>\n",
       "      <td>17927878</td>\n",
       "      <td>0</td>\n",
       "      <td>0.181574</td>\n",
       "      <td>1.406964</td>\n",
       "      <td>0.822320</td>\n",
       "      <td>...</td>\n",
       "      <td>1.064983</td>\n",
       "      <td>0.994317</td>\n",
       "      <td>0.991538</td>\n",
       "      <td>0.989822</td>\n",
       "      <td>0.987044</td>\n",
       "      <td>0.984265</td>\n",
       "      <td>0.997095</td>\n",
       "      <td>0.998812</td>\n",
       "      <td>1.001590</td>\n",
       "      <td>1.004368</td>\n",
       "    </tr>\n",
       "    <tr>\n",
       "      <th>7980</th>\n",
       "      <td>2017-11-08</td>\n",
       "      <td>84.14000</td>\n",
       "      <td>84.61000</td>\n",
       "      <td>83.83000</td>\n",
       "      <td>84.56000</td>\n",
       "      <td>18029584</td>\n",
       "      <td>0</td>\n",
       "      <td>0.182219</td>\n",
       "      <td>1.421250</td>\n",
       "      <td>0.829902</td>\n",
       "      <td>...</td>\n",
       "      <td>1.060309</td>\n",
       "      <td>0.997085</td>\n",
       "      <td>0.992705</td>\n",
       "      <td>0.990000</td>\n",
       "      <td>0.985620</td>\n",
       "      <td>0.981241</td>\n",
       "      <td>1.001464</td>\n",
       "      <td>1.004170</td>\n",
       "      <td>1.008549</td>\n",
       "      <td>1.012928</td>\n",
       "    </tr>\n",
       "    <tr>\n",
       "      <th>7981</th>\n",
       "      <td>2017-11-09</td>\n",
       "      <td>84.11000</td>\n",
       "      <td>84.27000</td>\n",
       "      <td>82.90000</td>\n",
       "      <td>84.09000</td>\n",
       "      <td>21175384</td>\n",
       "      <td>0</td>\n",
       "      <td>0.182981</td>\n",
       "      <td>1.464107</td>\n",
       "      <td>0.774165</td>\n",
       "      <td>...</td>\n",
       "      <td>0.971704</td>\n",
       "      <td>1.000752</td>\n",
       "      <td>0.997216</td>\n",
       "      <td>0.995031</td>\n",
       "      <td>0.991496</td>\n",
       "      <td>0.987960</td>\n",
       "      <td>1.004287</td>\n",
       "      <td>1.006472</td>\n",
       "      <td>1.010008</td>\n",
       "      <td>1.013543</td>\n",
       "    </tr>\n",
       "    <tr>\n",
       "      <th>7982</th>\n",
       "      <td>2017-11-10</td>\n",
       "      <td>83.79000</td>\n",
       "      <td>84.09500</td>\n",
       "      <td>83.23000</td>\n",
       "      <td>83.87000</td>\n",
       "      <td>19396301</td>\n",
       "      <td>0</td>\n",
       "      <td>0.183387</td>\n",
       "      <td>1.484464</td>\n",
       "      <td>0.748814</td>\n",
       "      <td>...</td>\n",
       "      <td>0.961987</td>\n",
       "      <td>0.995937</td>\n",
       "      <td>0.989714</td>\n",
       "      <td>0.985869</td>\n",
       "      <td>0.979646</td>\n",
       "      <td>0.973423</td>\n",
       "      <td>1.002160</td>\n",
       "      <td>1.006005</td>\n",
       "      <td>1.012228</td>\n",
       "      <td>1.018451</td>\n",
       "    </tr>\n",
       "  </tbody>\n",
       "</table>\n",
       "<p>7983 rows × 26 columns</p>\n",
       "</div>"
      ],
      "text/plain": [
       "            Date      Open      High       Low     Close      Volume  OpenInt  \\\n",
       "0     1986-03-13   0.06720   0.07533   0.06720   0.07533  1371330506        0   \n",
       "1     1986-03-14   0.07533   0.07533   0.07533   0.07533   409569463        0   \n",
       "2     1986-03-17   0.07533   0.07533   0.07533   0.07533   176995245        0   \n",
       "3     1986-03-18   0.07533   0.07533   0.07533   0.07533    90067008        0   \n",
       "4     1986-03-19   0.07533   0.07533   0.07533   0.07533    63655515        0   \n",
       "...          ...       ...       ...       ...       ...         ...      ...   \n",
       "7978  2017-11-06  84.20000  84.70000  84.08250  84.47000    19852151        0   \n",
       "7979  2017-11-07  84.77000  84.90000  83.93000  84.26000    17927878        0   \n",
       "7980  2017-11-08  84.14000  84.61000  83.83000  84.56000    18029584        0   \n",
       "7981  2017-11-09  84.11000  84.27000  82.90000  84.09000    21175384        0   \n",
       "7982  2017-11-10  83.79000  84.09500  83.23000  83.87000    19396301        0   \n",
       "\n",
       "          VWAP       ATR       RSI  ...       VIp     pivot        s1  \\\n",
       "0     0.964025  0.004646  0.531503  ...  1.125000  1.000000  1.000000   \n",
       "1     0.972298  0.004646  0.531503  ...  1.125000  0.964025  0.922798   \n",
       "2     0.974803  0.004646  0.531503  ...  1.125000  1.000000  1.000000   \n",
       "3     0.975911  0.004646  0.531503  ...  1.125000  1.000000  1.000000   \n",
       "4     0.976637  0.004646  0.531503  ...  1.125000  1.000000  1.000000   \n",
       "...        ...       ...       ...  ...       ...       ...       ...   \n",
       "7978  0.181979  1.371964  0.846857  ...  1.080828  0.992050  0.986909   \n",
       "7979  0.181574  1.406964  0.822320  ...  1.064983  0.994317  0.991538   \n",
       "7980  0.182219  1.421250  0.829902  ...  1.060309  0.997085  0.992705   \n",
       "7981  0.182981  1.464107  0.774165  ...  0.971704  1.000752  0.997216   \n",
       "7982  0.183387  1.484464  0.748814  ...  0.961987  0.995937  0.989714   \n",
       "\n",
       "            s2        s3        s4        r1        r2        r3        r4  \n",
       "0     1.000000  1.000000  1.000000  1.000000  1.000000  1.000000  1.000000  \n",
       "1     0.897327  0.856100  0.814872  1.005252  1.030723  1.071950  1.113177  \n",
       "2     1.000000  1.000000  1.000000  1.000000  1.000000  1.000000  1.000000  \n",
       "3     1.000000  1.000000  1.000000  1.000000  1.000000  1.000000  1.000000  \n",
       "4     1.000000  1.000000  1.000000  1.000000  1.000000  1.000000  1.000000  \n",
       "...        ...       ...       ...       ...       ...       ...       ...  \n",
       "7978  0.983733  0.978591  0.973450  0.997192  1.000368  1.005510  1.010651  \n",
       "7979  0.989822  0.987044  0.984265  0.997095  0.998812  1.001590  1.004368  \n",
       "7980  0.990000  0.985620  0.981241  1.001464  1.004170  1.008549  1.012928  \n",
       "7981  0.995031  0.991496  0.987960  1.004287  1.006472  1.010008  1.013543  \n",
       "7982  0.985869  0.979646  0.973423  1.002160  1.006005  1.012228  1.018451  \n",
       "\n",
       "[7983 rows x 26 columns]"
      ]
     },
     "execution_count": 71,
     "metadata": {},
     "output_type": "execute_result"
    }
   ],
   "source": [
    "test"
   ]
  },
  {
   "cell_type": "code",
   "execution_count": 72,
   "id": "eb4cd5dd-2fde-4a71-9a59-9ae7733f1901",
   "metadata": {},
   "outputs": [],
   "source": [
    "import matplotlib.pyplot as plt"
   ]
  },
  {
   "cell_type": "code",
   "execution_count": 73,
   "id": "91600ce3-063c-42d3-bd16-7837c3d5b91d",
   "metadata": {},
   "outputs": [],
   "source": [
    "test_sample = test.iloc[:50]"
   ]
  },
  {
   "cell_type": "code",
   "execution_count": 74,
   "id": "ea294ece-0cd6-4ebd-92a8-3a23234d1eb4",
   "metadata": {},
   "outputs": [
    {
     "data": {
      "text/plain": [
       "[<matplotlib.lines.Line2D at 0x7f09bb16c730>]"
      ]
     },
     "execution_count": 74,
     "metadata": {},
     "output_type": "execute_result"
    },
    {
     "data": {
      "image/png": "[encoded data removed]",
      "text/plain": [
       "<Figure size 432x288 with 1 Axes>"
      ]
     },
     "metadata": {
      "needs_background": "light"
     },
     "output_type": "display_data"
    }
   ],
   "source": [
    "plt.plot(test_sample.Date, test_sample.VWAP)"
   ]
  },
  {
   "cell_type": "code",
   "execution_count": 75,
   "id": "4b12450b-4ec8-4254-8b00-600f6df44db9",
   "metadata": {},
   "outputs": [
    {
     "data": {
      "text/plain": [
       "[<matplotlib.lines.Line2D at 0x7f09bb13b9d0>]"
      ]
     },
     "execution_count": 75,
     "metadata": {},
     "output_type": "execute_result"
    },
    {
     "data": {
      "image/png": "[encoded data removed]",
      "text/plain": [
       "<Figure size 432x288 with 1 Axes>"
      ]
     },
     "metadata": {
      "needs_background": "light"
     },
     "output_type": "display_data"
    }
   ],
   "source": [
    "plt.plot(test_sample.Date, test_sample.High)"
   ]
  },
  {
   "cell_type": "code",
   "execution_count": 76,
   "id": "aadb0af3-2ecf-495f-bd25-946bfc99f13b",
   "metadata": {},
   "outputs": [
    {
     "data": {
      "text/plain": [
       "[<matplotlib.lines.Line2D at 0x7f09baf112b0>]"
      ]
     },
     "execution_count": 76,
     "metadata": {},
     "output_type": "execute_result"
    },
    {
     "data": {
      "image/png": "[encoded data removed]",
      "text/plain": [
       "<Figure size 432x288 with 1 Axes>"
      ]
     },
     "metadata": {
      "needs_background": "light"
     },
     "output_type": "display_data"
    }
   ],
   "source": [
    "plt.plot(test_sample.Date, test_sample.RSI)"
   ]
  },
  {
   "cell_type": "code",
   "execution_count": 77,
   "id": "f3fc3406-f995-4ebe-aab8-4bf302cdc207",
   "metadata": {},
   "outputs": [
    {
     "data": {
      "text/plain": [
       "[<matplotlib.lines.Line2D at 0x7f09badf80a0>]"
      ]
     },
     "execution_count": 77,
     "metadata": {},
     "output_type": "execute_result"
    },
    {
     "data": {
      "image/png": "[encoded data removed]",
      "text/plain": [
       "<Figure size 432x288 with 1 Axes>"
      ]
     },
     "metadata": {
      "needs_background": "light"
     },
     "output_type": "display_data"
    }
   ],
   "source": [
    "plt.plot(test_sample.Date, test_sample.VIp)"
   ]
  },
  {
   "cell_type": "code",
   "execution_count": 78,
   "id": "d5d062fc-ebf3-478b-805e-cd375cad5ab2",
   "metadata": {},
   "outputs": [
    {
     "data": {
      "text/plain": [
       "[<matplotlib.lines.Line2D at 0x7f09bad3aeb0>]"
      ]
     },
     "execution_count": 78,
     "metadata": {},
     "output_type": "execute_result"
    },
    {
     "data": {
      "image/png": "[encoded data removed]",
      "text/plain": [
       "<Figure size 432x288 with 1 Axes>"
      ]
     },
     "metadata": {
      "needs_background": "light"
     },
     "output_type": "display_data"
    }
   ],
   "source": [
    "plt.plot(test_sample.Date, test_sample.VIm)"
   ]
  },
  {
   "cell_type": "code",
   "execution_count": 79,
   "id": "7ee1b1d5-0101-4a9b-897e-6eca289f25e5",
   "metadata": {},
   "outputs": [
    {
     "data": {
      "text/html": [
       "<div>\n",
       "<style scoped>\n",
       "    .dataframe tbody tr th:only-of-type {\n",
       "        vertical-align: middle;\n",
       "    }\n",
       "\n",
       "    .dataframe tbody tr th {\n",
       "        vertical-align: top;\n",
       "    }\n",
       "\n",
       "    .dataframe thead th {\n",
       "        text-align: right;\n",
       "    }\n",
       "</style>\n",
       "<table border=\"1\" class=\"dataframe\">\n",
       "  <thead>\n",
       "    <tr style=\"text-align: right;\">\n",
       "      <th></th>\n",
       "      <th>High</th>\n",
       "      <th>RSI</th>\n",
       "    </tr>\n",
       "  </thead>\n",
       "  <tbody>\n",
       "    <tr>\n",
       "      <th>High</th>\n",
       "      <td>1.000000</td>\n",
       "      <td>0.650826</td>\n",
       "    </tr>\n",
       "    <tr>\n",
       "      <th>RSI</th>\n",
       "      <td>0.650826</td>\n",
       "      <td>1.000000</td>\n",
       "    </tr>\n",
       "  </tbody>\n",
       "</table>\n",
       "</div>"
      ],
      "text/plain": [
       "          High       RSI\n",
       "High  1.000000  0.650826\n",
       "RSI   0.650826  1.000000"
      ]
     },
     "execution_count": 79,
     "metadata": {},
     "output_type": "execute_result"
    }
   ],
   "source": [
    "test_sample[['High', 'RSI']].corr()"
   ]
  },
  {
   "cell_type": "code",
   "execution_count": null,
   "id": "aba92041-9148-4a7f-85e6-fe4ea04ec5f4",
   "metadata": {},
   "outputs": [],
   "source": []
  }
 ],
 "metadata": {
  "kernelspec": {
   "display_name": "Python 3 (ipykernel)",
   "language": "python",
   "name": "python3"
  },
  "language_info": {
   "codemirror_mode": {
    "name": "ipython",
    "version": 3
   },
   "file_extension": ".py",
   "mimetype": "text/x-python",
   "name": "python",
   "nbconvert_exporter": "python",
   "pygments_lexer": "ipython3",
   "version": "3.8.10"
  }
 },
 "nbformat": 4,
 "nbformat_minor": 5
}
