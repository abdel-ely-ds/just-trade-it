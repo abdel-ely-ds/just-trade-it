{
 "cells": [
  {
   "cell_type": "code",
   "execution_count": 2,
   "id": "dbb8e414",
   "metadata": {},
   "outputs": [],
   "source": [
    "%load_ext autoreload\n",
    "%autoreload 2"
   ]
  },
  {
   "cell_type": "code",
   "execution_count": 3,
   "id": "9e40c531-e3ec-468d-840d-dddd6ad7fa26",
   "metadata": {
    "tags": []
   },
   "outputs": [
    {
     "name": "stderr",
     "output_type": "stream",
     "text": [
      "/home/abdelelyds/Workspace/PythonProjects/just-trade-it/t_nachine/backtester/core/_plotting.py:43: UserWarning: Jupyter Notebook detected. Setting Bokeh output to notebook. This may not work in Jupyter clients without JavaScript support (e.g. PyCharm, Spyder IDE). Reset with `core.set_bokeh_output(notebook=False)`.\n",
      "  warnings.warn(\n"
     ]
    },
    {
     "data": {
      "text/html": [
       "\n",
       "    <div class=\"bk-root\">\n",
       "        <a href=\"https://bokeh.org\" target=\"_blank\" class=\"bk-logo bk-logo-small bk-logo-notebook\"></a>\n",
       "        <span id=\"1002\">Loading BokehJS ...</span>\n",
       "    </div>"
      ]
     },
     "metadata": {},
     "output_type": "display_data"
    },
    {
     "data": {
      "application/javascript": [
       "\n",
       "(function(root) {\n",
       "  function now() {\n",
       "    return new Date();\n",
       "  }\n",
       "\n",
       "  const force = true;\n",
       "\n",
       "  if (typeof root._bokeh_onload_callbacks === \"undefined\" || force === true) {\n",
       "    root._bokeh_onload_callbacks = [];\n",
       "    root._bokeh_is_loading = undefined;\n",
       "  }\n",
       "\n",
       "  const JS_MIME_TYPE = 'application/javascript';\n",
       "  const HTML_MIME_TYPE = 'text/html';\n",
       "  const EXEC_MIME_TYPE = 'application/vnd.bokehjs_exec.v0+json';\n",
       "  const CLASS_NAME = 'output_bokeh rendered_html';\n",
       "\n",
       "  /**\n",
       "   * Render data to the DOM node\n",
       "   */\n",
       "  function render(props, node) {\n",
       "    const script = document.createElement(\"script\");\n",
       "    node.appendChild(script);\n",
       "  }\n",
       "\n",
       "  /**\n",
       "   * Handle when an output is cleared or removed\n",
       "   */\n",
       "  function handleClearOutput(event, handle) {\n",
       "    const cell = handle.cell;\n",
       "\n",
       "    const id = cell.output_area._bokeh_element_id;\n",
       "    const server_id = cell.output_area._bokeh_server_id;\n",
       "    // Clean up Bokeh references\n",
       "    if (id != null && id in Bokeh.index) {\n",
       "      Bokeh.index[id].model.document.clear();\n",
       "      delete Bokeh.index[id];\n",
       "    }\n",
       "\n",
       "    if (server_id !== undefined) {\n",
       "      // Clean up Bokeh references\n",
       "      const cmd_clean = \"from bokeh.io.state import curstate; print(curstate().uuid_to_server['\" + server_id + \"'].get_sessions()[0].document.roots[0]._id)\";\n",
       "      cell.notebook.kernel.execute(cmd_clean, {\n",
       "        iopub: {\n",
       "          output: function(msg) {\n",
       "            const id = msg.content.text.trim();\n",
       "            if (id in Bokeh.index) {\n",
       "              Bokeh.index[id].model.document.clear();\n",
       "              delete Bokeh.index[id];\n",
       "            }\n",
       "          }\n",
       "        }\n",
       "      });\n",
       "      // Destroy server and session\n",
       "      const cmd_destroy = \"import bokeh.io.notebook as ion; ion.destroy_server('\" + server_id + \"')\";\n",
       "      cell.notebook.kernel.execute(cmd_destroy);\n",
       "    }\n",
       "  }\n",
       "\n",
       "  /**\n",
       "   * Handle when a new output is added\n",
       "   */\n",
       "  function handleAddOutput(event, handle) {\n",
       "    const output_area = handle.output_area;\n",
       "    const output = handle.output;\n",
       "\n",
       "    // limit handleAddOutput to display_data with EXEC_MIME_TYPE content only\n",
       "    if ((output.output_type != \"display_data\") || (!Object.prototype.hasOwnProperty.call(output.data, EXEC_MIME_TYPE))) {\n",
       "      return\n",
       "    }\n",
       "\n",
       "    const toinsert = output_area.element.find(\".\" + CLASS_NAME.split(' ')[0]);\n",
       "\n",
       "    if (output.metadata[EXEC_MIME_TYPE][\"id\"] !== undefined) {\n",
       "      toinsert[toinsert.length - 1].firstChild.textContent = output.data[JS_MIME_TYPE];\n",
       "      // store reference to embed id on output_area\n",
       "      output_area._bokeh_element_id = output.metadata[EXEC_MIME_TYPE][\"id\"];\n",
       "    }\n",
       "    if (output.metadata[EXEC_MIME_TYPE][\"server_id\"] !== undefined) {\n",
       "      const bk_div = document.createElement(\"div\");\n",
       "      bk_div.innerHTML = output.data[HTML_MIME_TYPE];\n",
       "      const script_attrs = bk_div.children[0].attributes;\n",
       "      for (let i = 0; i < script_attrs.length; i++) {\n",
       "        toinsert[toinsert.length - 1].firstChild.setAttribute(script_attrs[i].name, script_attrs[i].value);\n",
       "        toinsert[toinsert.length - 1].firstChild.textContent = bk_div.children[0].textContent\n",
       "      }\n",
       "      // store reference to server id on output_area\n",
       "      output_area._bokeh_server_id = output.metadata[EXEC_MIME_TYPE][\"server_id\"];\n",
       "    }\n",
       "  }\n",
       "\n",
       "  function register_renderer(events, OutputArea) {\n",
       "\n",
       "    function append_mime(data, metadata, element) {\n",
       "      // create a DOM node to render to\n",
       "      const toinsert = this.create_output_subarea(\n",
       "        metadata,\n",
       "        CLASS_NAME,\n",
       "        EXEC_MIME_TYPE\n",
       "      );\n",
       "      this.keyboard_manager.register_events(toinsert);\n",
       "      // Render to node\n",
       "      const props = {data: data, metadata: metadata[EXEC_MIME_TYPE]};\n",
       "      render(props, toinsert[toinsert.length - 1]);\n",
       "      element.append(toinsert);\n",
       "      return toinsert\n",
       "    }\n",
       "\n",
       "    /* Handle when an output is cleared or removed */\n",
       "    events.on('clear_output.CodeCell', handleClearOutput);\n",
       "    events.on('delete.Cell', handleClearOutput);\n",
       "\n",
       "    /* Handle when a new output is added */\n",
       "    events.on('output_added.OutputArea', handleAddOutput);\n",
       "\n",
       "    /**\n",
       "     * Register the mime type and append_mime function with output_area\n",
       "     */\n",
       "    OutputArea.prototype.register_mime_type(EXEC_MIME_TYPE, append_mime, {\n",
       "      /* Is output safe? */\n",
       "      safe: true,\n",
       "      /* Index of renderer in `output_area.display_order` */\n",
       "      index: 0\n",
       "    });\n",
       "  }\n",
       "\n",
       "  // register the mime type if in Jupyter Notebook environment and previously unregistered\n",
       "  if (root.Jupyter !== undefined) {\n",
       "    const events = require('base/js/events');\n",
       "    const OutputArea = require('notebook/js/outputarea').OutputArea;\n",
       "\n",
       "    if (OutputArea.prototype.mime_types().indexOf(EXEC_MIME_TYPE) == -1) {\n",
       "      register_renderer(events, OutputArea);\n",
       "    }\n",
       "  }\n",
       "\n",
       "  \n",
       "  if (typeof (root._bokeh_timeout) === \"undefined\" || force === true) {\n",
       "    root._bokeh_timeout = Date.now() + 5000;\n",
       "    root._bokeh_failed_load = false;\n",
       "  }\n",
       "\n",
       "  const NB_LOAD_WARNING = {'data': {'text/html':\n",
       "     \"<div style='background-color: #fdd'>\\n\"+\n",
       "     \"<p>\\n\"+\n",
       "     \"BokehJS does not appear to have successfully loaded. If loading BokehJS from CDN, this \\n\"+\n",
       "     \"may be due to a slow or bad network connection. Possible fixes:\\n\"+\n",
       "     \"</p>\\n\"+\n",
       "     \"<ul>\\n\"+\n",
       "     \"<li>re-rerun `output_notebook()` to attempt to load from CDN again, or</li>\\n\"+\n",
       "     \"<li>use INLINE resources instead, as so:</li>\\n\"+\n",
       "     \"</ul>\\n\"+\n",
       "     \"<code>\\n\"+\n",
       "     \"from bokeh.resources import INLINE\\n\"+\n",
       "     \"output_notebook(resources=INLINE)\\n\"+\n",
       "     \"</code>\\n\"+\n",
       "     \"</div>\"}};\n",
       "\n",
       "  function display_loaded() {\n",
       "    const el = document.getElementById(\"1002\");\n",
       "    if (el != null) {\n",
       "      el.textContent = \"BokehJS is loading...\";\n",
       "    }\n",
       "    if (root.Bokeh !== undefined) {\n",
       "      if (el != null) {\n",
       "        el.textContent = \"BokehJS \" + root.Bokeh.version + \" successfully loaded.\";\n",
       "      }\n",
       "    } else if (Date.now() < root._bokeh_timeout) {\n",
       "      setTimeout(display_loaded, 100)\n",
       "    }\n",
       "  }\n",
       "\n",
       "\n",
       "  function run_callbacks() {\n",
       "    try {\n",
       "      root._bokeh_onload_callbacks.forEach(function(callback) {\n",
       "        if (callback != null)\n",
       "          callback();\n",
       "      });\n",
       "    } finally {\n",
       "      delete root._bokeh_onload_callbacks\n",
       "    }\n",
       "    console.debug(\"Bokeh: all callbacks have finished\");\n",
       "  }\n",
       "\n",
       "  function load_libs(css_urls, js_urls, callback) {\n",
       "    if (css_urls == null) css_urls = [];\n",
       "    if (js_urls == null) js_urls = [];\n",
       "\n",
       "    root._bokeh_onload_callbacks.push(callback);\n",
       "    if (root._bokeh_is_loading > 0) {\n",
       "      console.debug(\"Bokeh: BokehJS is being loaded, scheduling callback at\", now());\n",
       "      return null;\n",
       "    }\n",
       "    if (js_urls == null || js_urls.length === 0) {\n",
       "      run_callbacks();\n",
       "      return null;\n",
       "    }\n",
       "    console.debug(\"Bokeh: BokehJS not loaded, scheduling load and callback at\", now());\n",
       "    root._bokeh_is_loading = css_urls.length + js_urls.length;\n",
       "\n",
       "    function on_load() {\n",
       "      root._bokeh_is_loading--;\n",
       "      if (root._bokeh_is_loading === 0) {\n",
       "        console.debug(\"Bokeh: all BokehJS libraries/stylesheets loaded\");\n",
       "        run_callbacks()\n",
       "      }\n",
       "    }\n",
       "\n",
       "    function on_error(url) {\n",
       "      console.error(\"failed to load \" + url);\n",
       "    }\n",
       "\n",
       "    for (let i = 0; i < css_urls.length; i++) {\n",
       "      const url = css_urls[i];\n",
       "      const element = document.createElement(\"link\");\n",
       "      element.onload = on_load;\n",
       "      element.onerror = on_error.bind(null, url);\n",
       "      element.rel = \"stylesheet\";\n",
       "      element.type = \"text/css\";\n",
       "      element.href = url;\n",
       "      console.debug(\"Bokeh: injecting link tag for BokehJS stylesheet: \", url);\n",
       "      document.body.appendChild(element);\n",
       "    }\n",
       "\n",
       "    for (let i = 0; i < js_urls.length; i++) {\n",
       "      const url = js_urls[i];\n",
       "      const element = document.createElement('script');\n",
       "      element.onload = on_load;\n",
       "      element.onerror = on_error.bind(null, url);\n",
       "      element.async = false;\n",
       "      element.src = url;\n",
       "      console.debug(\"Bokeh: injecting script tag for BokehJS library: \", url);\n",
       "      document.head.appendChild(element);\n",
       "    }\n",
       "  };\n",
       "\n",
       "  function inject_raw_css(css) {\n",
       "    const element = document.createElement(\"style\");\n",
       "    element.appendChild(document.createTextNode(css));\n",
       "    document.body.appendChild(element);\n",
       "  }\n",
       "\n",
       "  \n",
       "  const js_urls = [\"https://cdn.bokeh.org/bokeh/release/bokeh-2.4.1.min.js\", \"https://cdn.bokeh.org/bokeh/release/bokeh-gl-2.4.1.min.js\", \"https://cdn.bokeh.org/bokeh/release/bokeh-widgets-2.4.1.min.js\", \"https://cdn.bokeh.org/bokeh/release/bokeh-tables-2.4.1.min.js\", \"https://cdn.bokeh.org/bokeh/release/bokeh-mathjax-2.4.1.min.js\"];\n",
       "  const css_urls = [];\n",
       "  \n",
       "\n",
       "  const inline_js = [\n",
       "    function(Bokeh) {\n",
       "      Bokeh.set_log_level(\"info\");\n",
       "    },\n",
       "    function(Bokeh) {\n",
       "    \n",
       "    \n",
       "    }\n",
       "  ];\n",
       "\n",
       "  function run_inline_js() {\n",
       "    \n",
       "    if (root.Bokeh !== undefined || force === true) {\n",
       "      \n",
       "    for (let i = 0; i < inline_js.length; i++) {\n",
       "      inline_js[i].call(root, root.Bokeh);\n",
       "    }\n",
       "    if (force === true) {\n",
       "        display_loaded();\n",
       "      }} else if (Date.now() < root._bokeh_timeout) {\n",
       "      setTimeout(run_inline_js, 100);\n",
       "    } else if (!root._bokeh_failed_load) {\n",
       "      console.log(\"Bokeh: BokehJS failed to load within specified timeout.\");\n",
       "      root._bokeh_failed_load = true;\n",
       "    } else if (force !== true) {\n",
       "      const cell = $(document.getElementById(\"1002\")).parents('.cell').data().cell;\n",
       "      cell.output_area.append_execute_result(NB_LOAD_WARNING)\n",
       "    }\n",
       "\n",
       "  }\n",
       "\n",
       "  if (root._bokeh_is_loading === 0) {\n",
       "    console.debug(\"Bokeh: BokehJS loaded, going straight to plotting\");\n",
       "    run_inline_js();\n",
       "  } else {\n",
       "    load_libs(css_urls, js_urls, function() {\n",
       "      console.debug(\"Bokeh: BokehJS plotting callback run at\", now());\n",
       "      run_inline_js();\n",
       "    });\n",
       "  }\n",
       "}(window));"
      ],
      "application/vnd.bokehjs_load.v0+json": "\n(function(root) {\n  function now() {\n    return new Date();\n  }\n\n  const force = true;\n\n  if (typeof root._bokeh_onload_callbacks === \"undefined\" || force === true) {\n    root._bokeh_onload_callbacks = [];\n    root._bokeh_is_loading = undefined;\n  }\n\n  \n\n  \n  if (typeof (root._bokeh_timeout) === \"undefined\" || force === true) {\n    root._bokeh_timeout = Date.now() + 5000;\n    root._bokeh_failed_load = false;\n  }\n\n  const NB_LOAD_WARNING = {'data': {'text/html':\n     \"<div style='background-color: #fdd'>\\n\"+\n     \"<p>\\n\"+\n     \"BokehJS does not appear to have successfully loaded. If loading BokehJS from CDN, this \\n\"+\n     \"may be due to a slow or bad network connection. Possible fixes:\\n\"+\n     \"</p>\\n\"+\n     \"<ul>\\n\"+\n     \"<li>re-rerun `output_notebook()` to attempt to load from CDN again, or</li>\\n\"+\n     \"<li>use INLINE resources instead, as so:</li>\\n\"+\n     \"</ul>\\n\"+\n     \"<code>\\n\"+\n     \"from bokeh.resources import INLINE\\n\"+\n     \"output_notebook(resources=INLINE)\\n\"+\n     \"</code>\\n\"+\n     \"</div>\"}};\n\n  function display_loaded() {\n    const el = document.getElementById(\"1002\");\n    if (el != null) {\n      el.textContent = \"BokehJS is loading...\";\n    }\n    if (root.Bokeh !== undefined) {\n      if (el != null) {\n        el.textContent = \"BokehJS \" + root.Bokeh.version + \" successfully loaded.\";\n      }\n    } else if (Date.now() < root._bokeh_timeout) {\n      setTimeout(display_loaded, 100)\n    }\n  }\n\n\n  function run_callbacks() {\n    try {\n      root._bokeh_onload_callbacks.forEach(function(callback) {\n        if (callback != null)\n          callback();\n      });\n    } finally {\n      delete root._bokeh_onload_callbacks\n    }\n    console.debug(\"Bokeh: all callbacks have finished\");\n  }\n\n  function load_libs(css_urls, js_urls, callback) {\n    if (css_urls == null) css_urls = [];\n    if (js_urls == null) js_urls = [];\n\n    root._bokeh_onload_callbacks.push(callback);\n    if (root._bokeh_is_loading > 0) {\n      console.debug(\"Bokeh: BokehJS is being loaded, scheduling callback at\", now());\n      return null;\n    }\n    if (js_urls == null || js_urls.length === 0) {\n      run_callbacks();\n      return null;\n    }\n    console.debug(\"Bokeh: BokehJS not loaded, scheduling load and callback at\", now());\n    root._bokeh_is_loading = css_urls.length + js_urls.length;\n\n    function on_load() {\n      root._bokeh_is_loading--;\n      if (root._bokeh_is_loading === 0) {\n        console.debug(\"Bokeh: all BokehJS libraries/stylesheets loaded\");\n        run_callbacks()\n      }\n    }\n\n    function on_error(url) {\n      console.error(\"failed to load \" + url);\n    }\n\n    for (let i = 0; i < css_urls.length; i++) {\n      const url = css_urls[i];\n      const element = document.createElement(\"link\");\n      element.onload = on_load;\n      element.onerror = on_error.bind(null, url);\n      element.rel = \"stylesheet\";\n      element.type = \"text/css\";\n      element.href = url;\n      console.debug(\"Bokeh: injecting link tag for BokehJS stylesheet: \", url);\n      document.body.appendChild(element);\n    }\n\n    for (let i = 0; i < js_urls.length; i++) {\n      const url = js_urls[i];\n      const element = document.createElement('script');\n      element.onload = on_load;\n      element.onerror = on_error.bind(null, url);\n      element.async = false;\n      element.src = url;\n      console.debug(\"Bokeh: injecting script tag for BokehJS library: \", url);\n      document.head.appendChild(element);\n    }\n  };\n\n  function inject_raw_css(css) {\n    const element = document.createElement(\"style\");\n    element.appendChild(document.createTextNode(css));\n    document.body.appendChild(element);\n  }\n\n  \n  const js_urls = [\"https://cdn.bokeh.org/bokeh/release/bokeh-2.4.1.min.js\", \"https://cdn.bokeh.org/bokeh/release/bokeh-gl-2.4.1.min.js\", \"https://cdn.bokeh.org/bokeh/release/bokeh-widgets-2.4.1.min.js\", \"https://cdn.bokeh.org/bokeh/release/bokeh-tables-2.4.1.min.js\", \"https://cdn.bokeh.org/bokeh/release/bokeh-mathjax-2.4.1.min.js\"];\n  const css_urls = [];\n  \n\n  const inline_js = [\n    function(Bokeh) {\n      Bokeh.set_log_level(\"info\");\n    },\n    function(Bokeh) {\n    \n    \n    }\n  ];\n\n  function run_inline_js() {\n    \n    if (root.Bokeh !== undefined || force === true) {\n      \n    for (let i = 0; i < inline_js.length; i++) {\n      inline_js[i].call(root, root.Bokeh);\n    }\n    if (force === true) {\n        display_loaded();\n      }} else if (Date.now() < root._bokeh_timeout) {\n      setTimeout(run_inline_js, 100);\n    } else if (!root._bokeh_failed_load) {\n      console.log(\"Bokeh: BokehJS failed to load within specified timeout.\");\n      root._bokeh_failed_load = true;\n    } else if (force !== true) {\n      const cell = $(document.getElementById(\"1002\")).parents('.cell').data().cell;\n      cell.output_area.append_execute_result(NB_LOAD_WARNING)\n    }\n\n  }\n\n  if (root._bokeh_is_loading === 0) {\n    console.debug(\"Bokeh: BokehJS loaded, going straight to plotting\");\n    run_inline_js();\n  } else {\n    load_libs(css_urls, js_urls, function() {\n      console.debug(\"Bokeh: BokehJS plotting callback run at\", now());\n      run_inline_js();\n    });\n  }\n}(window));"
     },
     "metadata": {},
     "output_type": "display_data"
    }
   ],
   "source": [
    "from t_nachine.backtester import Backtest\n",
    "from t_nachine.strategies import Bouncing, ExtremeRSI\n",
    "import warnings\n",
    "warnings.filterwarnings(\"ignore\")\n",
    "from tqdm import tqdm\n",
    "import os \n",
    "import pandas as pd\n",
    "import numpy as np"
   ]
  },
  {
   "cell_type": "markdown",
   "id": "2910abfa-5a65-40a0-b56e-2f9c4bfbf5b2",
   "metadata": {},
   "source": [
    "## Backtest"
   ]
  },
  {
   "cell_type": "code",
   "execution_count": 4,
   "id": "8ed1615e-04b9-4ecc-90a6-3660a7d53ddf",
   "metadata": {},
   "outputs": [],
   "source": [
    "bt = Backtest(cash=20_000)"
   ]
  },
  {
   "cell_type": "code",
   "execution_count": 63,
   "id": "0a003ce3-87e0-4874-b9a2-d8ae8dda1704",
   "metadata": {
    "tags": []
   },
   "outputs": [],
   "source": [
    "results = bt._run(strategy=Bouncing, stock_path=\"test_stocks/MSFT.csv\", symbol=\"MSFT\")"
   ]
  },
  {
   "cell_type": "code",
   "execution_count": 64,
   "id": "25d9342a-24d4-4669-bcfa-2b2791b12c45",
   "metadata": {},
   "outputs": [
    {
     "data": {
      "text/plain": [
       "Start                    2016-11-04 00:00:00\n",
       "End                      2021-11-03 00:00:00\n",
       "Duration                  1825 days 00:00:00\n",
       "Exposure Time [%]                    20.9062\n",
       "Equity Final [$]                23060.681192\n",
       "Equity Peak [$]                 23060.681192\n",
       "Return [%]                               0.0\n",
       "Buy & Hold Return [%]             468.897983\n",
       "Return (Ann.) [%]                        0.0\n",
       "Volatility (Ann.) [%]                    0.0\n",
       "Sharpe Ratio                             NaN\n",
       "Sortino Ratio                            NaN\n",
       "# Trades                                  19\n",
       "Win Rate [%]                       57.894737\n",
       "Best Trade [%]                     13.547814\n",
       "Worst Trade [%]                   -12.726851\n",
       "Profit Factor                       2.996353\n",
       "Expectancy [%]                      3.178271\n",
       "SQN                                  2.16932\n",
       "_strategy                           Bouncing\n",
       "_equity_curve                            ...\n",
       "_trades                      Size    Volu...\n",
       "dtype: object"
      ]
     },
     "execution_count": 64,
     "metadata": {},
     "output_type": "execute_result"
    }
   ],
   "source": [
    "results"
   ]
  },
  {
   "cell_type": "code",
   "execution_count": 76,
   "id": "601e6dd5-3f8a-4916-8eec-cf9fed25d9fb",
   "metadata": {},
   "outputs": [],
   "source": [
    "from t_nachine.backtester.core._plotting import plot\n",
    "from finta import TA"
   ]
  },
  {
   "cell_type": "code",
   "execution_count": 77,
   "id": "ebd6a9e4-191b-4522-a48b-d1fda218dd14",
   "metadata": {},
   "outputs": [],
   "source": [
    "data = pd.read_csv('test_stocks/MSFT.csv')\n",
    "data['Date'] = pd.to_datetime(data.Date)"
   ]
  },
  {
   "cell_type": "code",
   "execution_count": 78,
   "id": "90d244fc-5a0d-46b9-955e-44c10fbcf1b3",
   "metadata": {},
   "outputs": [],
   "source": [
    "data['ATR']= TA.ATR(data)"
   ]
  },
  {
   "cell_type": "code",
   "execution_count": 88,
   "id": "fea7dd3a-e435-4276-8468-9905e3127f42",
   "metadata": {},
   "outputs": [
    {
     "data": {
      "text/html": [
       "<div>\n",
       "<style scoped>\n",
       "    .dataframe tbody tr th:only-of-type {\n",
       "        vertical-align: middle;\n",
       "    }\n",
       "\n",
       "    .dataframe tbody tr th {\n",
       "        vertical-align: top;\n",
       "    }\n",
       "\n",
       "    .dataframe thead th {\n",
       "        text-align: right;\n",
       "    }\n",
       "</style>\n",
       "<table border=\"1\" class=\"dataframe\">\n",
       "  <thead>\n",
       "    <tr style=\"text-align: right;\">\n",
       "      <th></th>\n",
       "      <th>VIm</th>\n",
       "      <th>VIp</th>\n",
       "    </tr>\n",
       "  </thead>\n",
       "  <tbody>\n",
       "    <tr>\n",
       "      <th>0</th>\n",
       "      <td>NaN</td>\n",
       "      <td>NaN</td>\n",
       "    </tr>\n",
       "    <tr>\n",
       "      <th>1</th>\n",
       "      <td>NaN</td>\n",
       "      <td>NaN</td>\n",
       "    </tr>\n",
       "    <tr>\n",
       "      <th>2</th>\n",
       "      <td>NaN</td>\n",
       "      <td>NaN</td>\n",
       "    </tr>\n",
       "    <tr>\n",
       "      <th>3</th>\n",
       "      <td>NaN</td>\n",
       "      <td>NaN</td>\n",
       "    </tr>\n",
       "    <tr>\n",
       "      <th>4</th>\n",
       "      <td>NaN</td>\n",
       "      <td>NaN</td>\n",
       "    </tr>\n",
       "    <tr>\n",
       "      <th>...</th>\n",
       "      <td>...</td>\n",
       "      <td>...</td>\n",
       "    </tr>\n",
       "    <tr>\n",
       "      <th>1253</th>\n",
       "      <td>0.590785</td>\n",
       "      <td>1.275162</td>\n",
       "    </tr>\n",
       "    <tr>\n",
       "      <th>1254</th>\n",
       "      <td>0.526891</td>\n",
       "      <td>1.313286</td>\n",
       "    </tr>\n",
       "    <tr>\n",
       "      <th>1255</th>\n",
       "      <td>0.511747</td>\n",
       "      <td>1.340985</td>\n",
       "    </tr>\n",
       "    <tr>\n",
       "      <th>1256</th>\n",
       "      <td>0.507752</td>\n",
       "      <td>1.375758</td>\n",
       "    </tr>\n",
       "    <tr>\n",
       "      <th>1257</th>\n",
       "      <td>0.558495</td>\n",
       "      <td>1.359641</td>\n",
       "    </tr>\n",
       "  </tbody>\n",
       "</table>\n",
       "<p>1258 rows × 2 columns</p>\n",
       "</div>"
      ],
      "text/plain": [
       "           VIm       VIp\n",
       "0          NaN       NaN\n",
       "1          NaN       NaN\n",
       "2          NaN       NaN\n",
       "3          NaN       NaN\n",
       "4          NaN       NaN\n",
       "...        ...       ...\n",
       "1253  0.590785  1.275162\n",
       "1254  0.526891  1.313286\n",
       "1255  0.511747  1.340985\n",
       "1256  0.507752  1.375758\n",
       "1257  0.558495  1.359641\n",
       "\n",
       "[1258 rows x 2 columns]"
      ]
     },
     "execution_count": 88,
     "metadata": {},
     "output_type": "execute_result"
    }
   ],
   "source": [
    "TA.VORTEX(data)"
   ]
  },
  {
   "cell_type": "code",
   "execution_count": 79,
   "id": "c9db8f79-5ede-4a7d-99d0-594c84140a64",
   "metadata": {},
   "outputs": [],
   "source": [
    "trades = results['_trades']\n",
    "trades.EntryTime = pd.to_datetime(trades.EntryTime)"
   ]
  },
  {
   "cell_type": "code",
   "execution_count": 80,
   "id": "4b0a71e5-54e6-4cbc-a91d-529a92926e68",
   "metadata": {},
   "outputs": [],
   "source": [
    "trades = trades.merge(data[['Date', 'Volume', 'ATR']], left_on=\"EntryTime\", right_on=\"Date\")"
   ]
  },
  {
   "cell_type": "code",
   "execution_count": 84,
   "id": "e227a193-0e68-48c5-9eae-7a0788cfe95d",
   "metadata": {},
   "outputs": [
    {
     "data": {
      "text/html": [
       "<div>\n",
       "<style scoped>\n",
       "    .dataframe tbody tr th:only-of-type {\n",
       "        vertical-align: middle;\n",
       "    }\n",
       "\n",
       "    .dataframe tbody tr th {\n",
       "        vertical-align: top;\n",
       "    }\n",
       "\n",
       "    .dataframe thead th {\n",
       "        text-align: right;\n",
       "    }\n",
       "</style>\n",
       "<table border=\"1\" class=\"dataframe\">\n",
       "  <thead>\n",
       "    <tr style=\"text-align: right;\">\n",
       "      <th></th>\n",
       "      <th>PnL</th>\n",
       "      <th>ATR</th>\n",
       "    </tr>\n",
       "  </thead>\n",
       "  <tbody>\n",
       "    <tr>\n",
       "      <th>0</th>\n",
       "      <td>-200.550191</td>\n",
       "      <td>0.782858</td>\n",
       "    </tr>\n",
       "    <tr>\n",
       "      <th>1</th>\n",
       "      <td>-198.120000</td>\n",
       "      <td>0.601429</td>\n",
       "    </tr>\n",
       "    <tr>\n",
       "      <th>2</th>\n",
       "      <td>-198.090213</td>\n",
       "      <td>1.286430</td>\n",
       "    </tr>\n",
       "    <tr>\n",
       "      <th>3</th>\n",
       "      <td>388.360876</td>\n",
       "      <td>0.927143</td>\n",
       "    </tr>\n",
       "    <tr>\n",
       "      <th>4</th>\n",
       "      <td>-198.900612</td>\n",
       "      <td>0.912855</td>\n",
       "    </tr>\n",
       "    <tr>\n",
       "      <th>5</th>\n",
       "      <td>-199.439856</td>\n",
       "      <td>1.876428</td>\n",
       "    </tr>\n",
       "    <tr>\n",
       "      <th>6</th>\n",
       "      <td>398.640792</td>\n",
       "      <td>2.487858</td>\n",
       "    </tr>\n",
       "    <tr>\n",
       "      <th>7</th>\n",
       "      <td>398.640792</td>\n",
       "      <td>2.487858</td>\n",
       "    </tr>\n",
       "    <tr>\n",
       "      <th>8</th>\n",
       "      <td>401.610033</td>\n",
       "      <td>3.065713</td>\n",
       "    </tr>\n",
       "    <tr>\n",
       "      <th>9</th>\n",
       "      <td>401.610033</td>\n",
       "      <td>3.065713</td>\n",
       "    </tr>\n",
       "    <tr>\n",
       "      <th>10</th>\n",
       "      <td>-210.160142</td>\n",
       "      <td>1.962142</td>\n",
       "    </tr>\n",
       "    <tr>\n",
       "      <th>11</th>\n",
       "      <td>-220.199980</td>\n",
       "      <td>7.344285</td>\n",
       "    </tr>\n",
       "    <tr>\n",
       "      <th>12</th>\n",
       "      <td>424.499700</td>\n",
       "      <td>5.307854</td>\n",
       "    </tr>\n",
       "    <tr>\n",
       "      <th>13</th>\n",
       "      <td>426.800770</td>\n",
       "      <td>5.169286</td>\n",
       "    </tr>\n",
       "    <tr>\n",
       "      <th>14</th>\n",
       "      <td>419.899658</td>\n",
       "      <td>5.189285</td>\n",
       "    </tr>\n",
       "    <tr>\n",
       "      <th>15</th>\n",
       "      <td>-225.959888</td>\n",
       "      <td>3.607143</td>\n",
       "    </tr>\n",
       "    <tr>\n",
       "      <th>16</th>\n",
       "      <td>538.240116</td>\n",
       "      <td>4.419285</td>\n",
       "    </tr>\n",
       "    <tr>\n",
       "      <th>17</th>\n",
       "      <td>458.399568</td>\n",
       "      <td>5.112142</td>\n",
       "    </tr>\n",
       "    <tr>\n",
       "      <th>18</th>\n",
       "      <td>455.399736</td>\n",
       "      <td>6.586428</td>\n",
       "    </tr>\n",
       "  </tbody>\n",
       "</table>\n",
       "</div>"
      ],
      "text/plain": [
       "           PnL       ATR\n",
       "0  -200.550191  0.782858\n",
       "1  -198.120000  0.601429\n",
       "2  -198.090213  1.286430\n",
       "3   388.360876  0.927143\n",
       "4  -198.900612  0.912855\n",
       "5  -199.439856  1.876428\n",
       "6   398.640792  2.487858\n",
       "7   398.640792  2.487858\n",
       "8   401.610033  3.065713\n",
       "9   401.610033  3.065713\n",
       "10 -210.160142  1.962142\n",
       "11 -220.199980  7.344285\n",
       "12  424.499700  5.307854\n",
       "13  426.800770  5.169286\n",
       "14  419.899658  5.189285\n",
       "15 -225.959888  3.607143\n",
       "16  538.240116  4.419285\n",
       "17  458.399568  5.112142\n",
       "18  455.399736  6.586428"
      ]
     },
     "execution_count": 84,
     "metadata": {},
     "output_type": "execute_result"
    }
   ],
   "source": [
    "trades[['PnL', 'ATR']]"
   ]
  },
  {
   "cell_type": "code",
   "execution_count": 24,
   "id": "ecf7e244-13f1-480a-ba66-aa947f9685b7",
   "metadata": {},
   "outputs": [
    {
     "data": {
      "text/html": [
       "\n",
       "\n",
       "\n",
       "\n",
       "\n",
       "\n",
       "  <div class=\"bk-root\" id=\"968ec7a6-f341-4a2b-82bf-cd1ed0279620\" data-root-id=\"1974\"></div>\n"
      ]
     },
     "metadata": {},
     "output_type": "display_data"
    },
    {
     "data": {
      "application/javascript": [
       "(function(root) {\n",
       "  function embed_document(root) {\n",
       "    \n",
       "  const docs_json = {\"690ec696-5804-4c2d-9a6b-861357b42d23\":{\"defs\":[],\"roots\":{\"references\":[{\"attributes\":{\"children\":[{\"id\":\"1971\"},{\"id\":\"1973\"}],\"sizing_mode\":\"stretch_width\"},\"id\":\"1974\",\"type\":\"Row\"},{\"attributes\":{\"data\":{\"datetime\":{\"__ndarray__\":\"AABAkpuadUIAAMBDIKh1QgAAgPJb0HVCAABAF97wdUIAAAAo7QF2QgAAwOO4I3ZCAACAfoE8dkIAAIB+gTx2QgAAQOTTPHZCAABA5NM8dkIAAMBhGGR2QgAAgHXJC3dCAABAbLgpd0IAAAAHgUJ3QgAAwGzTQndCAADA409td0IAAIA8EnR3QgAAgA+1o3dCAACAWJ7Ld0I=\",\"dtype\":\"float64\",\"order\":\"little\",\"shape\":[19]},\"exit_price\":{\"__ndarray__\":\"bY5zm3AdT0C5OZUMAABQQM2xvKseBVFAWjFcHQBQU0A3x7lNuK5UQLkehetRGFdA1yrB4nBdWUDXKsHicF1ZQAAAAAAAgFlAAAAAAACAWUBFTfT5KLxbQAAAAAAA4GJAmpKsw1FYaEDZiCe7mWFrQE9M3gAzU2xA2QjE63qEakAAAAAAAMBtQGJBYVBmsnBAoFxTIDNzc0A=\",\"dtype\":\"float64\",\"order\":\"little\",\"shape\":[19]},\"index\":[48,77,164,235,271,342,395,395,396,396,482,838,903,957,958,1048,1062,1165,1251],\"marker_size\":{\"__ndarray__\":\"uGQI1tHmMEAAAAAAAAA0QAAAAAAAACZA532KS4ZgLUDavE9xyRAuQEeb9ykuGSZAm/cpLhmCJUCb9ykuGYIlQGnzPsUlQyJAafM+xSVDIkAAAAAAAAAmQAAAAAAAACBALhmCdbR5IUCKS4ZgHW0kQIJ1tHmf4iBABOto8z7FIUBMhmAdbd4hQOd9ikuGYCFAWEeb9ykuIUA=\",\"dtype\":\"float64\",\"order\":\"little\",\"shape\":[19]},\"position_lines_xs\":[[46,48],[75,77],[151,164],[227,235],[267,271],[336,342],[376,395],[376,395],[319,396],[319,396],[472,482],[834,838],[875,903],[951,957],[918,958],[1036,1048],[1050,1062],[1142,1165],[1237,1251]],\"position_lines_ys\":[[63.279999999999994,62.229999],[64.780003,64.000003],[70.86999999999999,68.079997],[74.590001,77.25000700000001],[84.030003,82.729999],[95.149998,92.38000000000001],[95.420003,101.46001499999998],[95.420003,101.46001499999998],[89.829999,102.0],[89.829999,102.0],[113.900003,110.94000100000001],[173.019998,151.0],[177.779993,194.75998099999998],[211.290002,219.05001599999994],[204.499994,226.59997599999994],[220.210001,212.140005],[219.439996,238.0],[248.049997,267.1499789999999],[290.499994,311.1999820000001]],\"returns_long\":{\"__ndarray__\":\"oDmNGL39kL9A5qF60qiIv1AhLX0HKKS/gGv0+j9Coj/A6ZfaG6+Pv2C/ThWDz52/oCl2umA0sD+gKXa6YDSwP+C4/f1YV8E/4Lj9/VhXwT+AfZu6hpyavxh2QKxVSsC/EGVhvmxzuD8g12w93M2iPwAwiXdeqrs/8FBRMF/Dor9A7WBH96a1PwCpXJNOtrM/8D0iQtw9sj8=\",\"dtype\":\"float64\",\"order\":\"little\",\"shape\":[19]},\"returns_positive\":[\"0\",\"0\",\"0\",\"1\",\"0\",\"0\",\"1\",\"1\",\"1\",\"1\",\"0\",\"0\",\"1\",\"1\",\"1\",\"0\",\"1\",\"1\",\"1\"],\"returns_short\":{\"__ndarray__\":\"AAAAAAAA+H8AAAAAAAD4fwAAAAAAAPh/AAAAAAAA+H8AAAAAAAD4fwAAAAAAAPh/AAAAAAAA+H8AAAAAAAD4fwAAAAAAAPh/AAAAAAAA+H8AAAAAAAD4fwAAAAAAAPh/AAAAAAAA+H8AAAAAAAD4fwAAAAAAAPh/AAAAAAAA+H8AAAAAAAD4fwAAAAAAAPh/AAAAAAAA+H8=\",\"dtype\":\"float64\",\"order\":\"little\",\"shape\":[19]},\"size\":[191,254,71,146,153,72,66,66,33,33,71,10,25,55,19,28,29,24,22]},\"selected\":{\"id\":\"1820\"},\"selection_policy\":{\"id\":\"1819\"}},\"id\":\"1692\",\"type\":\"ColumnDataSource\"},{\"attributes\":{\"fill_alpha\":{\"value\":0.2},\"fill_color\":{\"field\":\"inc\",\"transform\":{\"id\":\"1693\"}},\"hatch_alpha\":{\"value\":0.2},\"hatch_color\":{\"field\":\"inc\",\"transform\":{\"id\":\"1693\"}},\"line_alpha\":{\"value\":0.2},\"line_color\":{\"field\":\"inc\",\"transform\":{\"id\":\"1693\"}},\"top\":{\"field\":\"Volume\"},\"width\":{\"value\":0.8},\"x\":{\"field\":\"index\"}},\"id\":\"1784\",\"type\":\"VBar\"},{\"attributes\":{},\"id\":\"1753\",\"type\":\"LinearScale\"},{\"attributes\":{\"line_color\":\"#1f77b4\",\"line_width\":1.3,\"x\":{\"field\":\"index\"},\"y\":{\"field\":\"ema(18)_0_1\"}},\"id\":\"1825\",\"type\":\"Line\"},{\"attributes\":{},\"id\":\"1751\",\"type\":\"LinearScale\"},{\"attributes\":{\"source\":{\"id\":\"1691\"}},\"id\":\"1829\",\"type\":\"CDSView\"},{\"attributes\":{\"label\":{\"value\":\"ema(18)\"},\"renderers\":[{\"id\":\"1828\"}]},\"id\":\"1843\",\"type\":\"LegendItem\"},{\"attributes\":{\"coordinates\":null,\"data_source\":{\"id\":\"1691\"},\"glyph\":{\"id\":\"1845\"},\"group\":null,\"hover_glyph\":null,\"muted_glyph\":{\"id\":\"1847\"},\"nonselection_glyph\":{\"id\":\"1846\"},\"view\":{\"id\":\"1849\"}},\"id\":\"1848\",\"type\":\"GlyphRenderer\"},{\"attributes\":{\"dimensions\":\"width\",\"maintain_focus\":false},\"id\":\"1764\",\"type\":\"WheelZoomTool\"},{\"attributes\":{\"coordinates\":null,\"formatter\":{\"id\":\"1779\"},\"group\":null,\"major_label_policy\":{\"id\":\"1966\"},\"ticker\":{\"id\":\"1756\"},\"visible\":true},\"id\":\"1755\",\"type\":\"LinearAxis\"},{\"attributes\":{\"source\":{\"id\":\"1691\"}},\"id\":\"1869\",\"type\":\"CDSView\"},{\"attributes\":{\"line_alpha\":0.2,\"line_color\":\"#2ca02c\",\"line_width\":1.3,\"x\":{\"field\":\"index\"},\"y\":{\"field\":\"ema(100)_2_1\"}},\"id\":\"1867\",\"type\":\"Line\"},{\"attributes\":{\"source\":{\"id\":\"1692\"}},\"id\":\"1734\",\"type\":\"CDSView\"},{\"attributes\":{\"label\":{\"value\":\"ema(100)\"},\"renderers\":[{\"id\":\"1868\"}]},\"id\":\"1883\",\"type\":\"LegendItem\"},{\"attributes\":{\"callback\":null,\"point_policy\":\"follow_mouse\",\"renderers\":[{\"id\":\"1739\"}],\"tooltips\":[[\"#\",\"@index\"],[\"Size\",\"@size{0,0}\"],[\"P/L\",\"@returns_short{+0.[000]%}\"]]},\"id\":\"1743\",\"type\":\"HoverTool\"},{\"attributes\":{\"axis\":{\"id\":\"1759\"},\"coordinates\":null,\"dimension\":1,\"group\":null,\"ticker\":null},\"id\":\"1762\",\"type\":\"Grid\"},{\"attributes\":{\"fill_color\":{\"field\":\"inc\",\"transform\":{\"id\":\"1693\"}},\"hatch_color\":{\"field\":\"inc\",\"transform\":{\"id\":\"1693\"}},\"line_color\":{\"field\":\"inc\",\"transform\":{\"id\":\"1693\"}},\"top\":{\"field\":\"Volume\"},\"width\":{\"value\":0.8},\"x\":{\"field\":\"index\"}},\"id\":\"1782\",\"type\":\"VBar\"},{\"attributes\":{\"line_alpha\":0.2,\"line_color\":\"#1f77b4\",\"line_width\":1.3,\"x\":{\"field\":\"index\"},\"y\":{\"field\":\"ema(18)_0_1\"}},\"id\":\"1827\",\"type\":\"Line\"},{\"attributes\":{\"coordinates\":null,\"group\":null},\"id\":\"1961\",\"type\":\"Title\"},{\"attributes\":{},\"id\":\"1964\",\"type\":\"AllLabels\"},{\"attributes\":{\"callback\":null,\"point_policy\":\"follow_mouse\",\"renderers\":[{\"id\":\"1733\"}],\"tooltips\":[[\"#\",\"@index\"],[\"Size\",\"@size{0,0}\"],[\"P/L\",\"@returns_long{+0.[000]%}\"]]},\"id\":\"1741\",\"type\":\"HoverTool\"},{\"attributes\":{\"fill_alpha\":{\"value\":0.1},\"fill_color\":{\"field\":\"returns_positive\",\"transform\":{\"id\":\"1694\"}},\"hatch_alpha\":{\"value\":0.1},\"line_alpha\":{\"value\":0.1},\"marker\":{\"value\":\"inverted_triangle\"},\"size\":{\"field\":\"marker_size\"},\"x\":{\"field\":\"index\"},\"y\":{\"field\":\"returns_short\"}},\"id\":\"1737\",\"type\":\"Scatter\"},{\"attributes\":{\"line_alpha\":0.1,\"line_color\":\"#1f77b4\",\"line_width\":1.3,\"x\":{\"field\":\"index\"},\"y\":{\"field\":\"ema(18)_0_1\"}},\"id\":\"1826\",\"type\":\"Line\"},{\"attributes\":{\"bottom_units\":\"screen\",\"coordinates\":null,\"fill_alpha\":0.5,\"fill_color\":\"lightgrey\",\"group\":null,\"left_units\":\"screen\",\"level\":\"overlay\",\"line_alpha\":1.0,\"line_color\":\"black\",\"line_dash\":[4,4],\"line_width\":2,\"right_units\":\"screen\",\"syncable\":false,\"top_units\":\"screen\"},\"id\":\"1770\",\"type\":\"BoxAnnotation\"},{\"attributes\":{\"below\":[{\"id\":\"1755\"}],\"center\":[{\"id\":\"1758\"},{\"id\":\"1762\"}],\"height\":90,\"left\":[{\"id\":\"1759\"}],\"min_border_bottom\":6,\"min_border_left\":0,\"min_border_right\":10,\"min_border_top\":3,\"outline_line_color\":\"#666666\",\"renderers\":[{\"id\":\"1785\"}],\"sizing_mode\":\"stretch_width\",\"title\":{\"id\":\"1961\"},\"toolbar\":{\"id\":\"1771\"},\"toolbar_location\":null,\"width\":null,\"x_range\":{\"id\":\"1658\"},\"x_scale\":{\"id\":\"1751\"},\"y_range\":{\"id\":\"1749\"},\"y_scale\":{\"id\":\"1753\"}},\"id\":\"1747\",\"subtype\":\"Figure\",\"type\":\"Plot\"},{\"attributes\":{\"coordinates\":null,\"data_source\":{\"id\":\"1692\"},\"glyph\":{\"id\":\"1730\"},\"group\":null,\"hover_glyph\":null,\"muted_glyph\":{\"id\":\"1732\"},\"nonselection_glyph\":{\"id\":\"1731\"},\"view\":{\"id\":\"1734\"}},\"id\":\"1733\",\"type\":\"GlyphRenderer\"},{\"attributes\":{},\"id\":\"1769\",\"type\":\"SaveTool\"},{\"attributes\":{\"children\":[[{\"id\":\"1696\"},0,0],[{\"id\":\"1659\"},1,0],[{\"id\":\"1747\"},2,0]]},\"id\":\"1971\",\"type\":\"GridBox\"},{\"attributes\":{},\"id\":\"1756\",\"type\":\"BasicTicker\"},{\"attributes\":{\"fill_color\":{\"field\":\"returns_positive\",\"transform\":{\"id\":\"1694\"}},\"marker\":{\"value\":\"inverted_triangle\"},\"size\":{\"field\":\"marker_size\"},\"x\":{\"field\":\"index\"},\"y\":{\"field\":\"returns_short\"}},\"id\":\"1736\",\"type\":\"Scatter\"},{\"attributes\":{},\"id\":\"1768\",\"type\":\"ResetTool\"},{\"attributes\":{\"coordinates\":null,\"data_source\":{\"id\":\"1692\"},\"glyph\":{\"id\":\"1736\"},\"group\":null,\"hover_glyph\":null,\"muted_glyph\":{\"id\":\"1738\"},\"nonselection_glyph\":{\"id\":\"1737\"},\"view\":{\"id\":\"1740\"}},\"id\":\"1739\",\"type\":\"GlyphRenderer\"},{\"attributes\":{},\"id\":\"1749\",\"type\":\"DataRange1d\"},{\"attributes\":{\"active_drag\":{\"id\":\"1763\"},\"active_scroll\":{\"id\":\"1764\"},\"tools\":[{\"id\":\"1763\"},{\"id\":\"1764\"},{\"id\":\"1765\"},{\"id\":\"1766\"},{\"id\":\"1767\"},{\"id\":\"1768\"},{\"id\":\"1769\"},{\"id\":\"1787\"},{\"id\":\"1927\"}]},\"id\":\"1771\",\"type\":\"Toolbar\"},{\"attributes\":{\"fill_alpha\":{\"value\":0.2},\"fill_color\":{\"field\":\"returns_positive\",\"transform\":{\"id\":\"1694\"}},\"hatch_alpha\":{\"value\":0.2},\"line_alpha\":{\"value\":0.2},\"marker\":{\"value\":\"triangle\"},\"size\":{\"field\":\"marker_size\"},\"x\":{\"field\":\"index\"},\"y\":{\"field\":\"returns_long\"}},\"id\":\"1732\",\"type\":\"Scatter\"},{\"attributes\":{\"fill_alpha\":{\"value\":0.2},\"fill_color\":{\"field\":\"returns_positive\",\"transform\":{\"id\":\"1694\"}},\"hatch_alpha\":{\"value\":0.2},\"line_alpha\":{\"value\":0.2},\"marker\":{\"value\":\"inverted_triangle\"},\"size\":{\"field\":\"marker_size\"},\"x\":{\"field\":\"index\"},\"y\":{\"field\":\"returns_short\"}},\"id\":\"1738\",\"type\":\"Scatter\"},{\"attributes\":{\"line_alpha\":0.1,\"line_color\":\"#2ca02c\",\"line_width\":1.3,\"x\":{\"field\":\"index\"},\"y\":{\"field\":\"ema(100)_2_1\"}},\"id\":\"1866\",\"type\":\"Line\"},{\"attributes\":{\"callback\":null,\"mode\":\"vline\",\"point_policy\":\"follow_mouse\",\"renderers\":[{\"id\":\"1801\"}],\"tooltips\":[[\"#\",\"@index\"],[\"x, y\",\"$index\\u00a0\\u00a0\\u00a0\\u00a0$y{0,0.0[0000]}\"],[\"OHLC\",\"@Open{0,0.0[0000]}\\u00a0\\u00a0\\u00a0\\u00a0@High{0,0.0[0000]}\\u00a0\\u00a0\\u00a0\\u00a0@Low{0,0.0[0000]}\\u00a0\\u00a0\\u00a0\\u00a0@Close{0,0.0[0000]}\"],[\"Volume\",\"@Volume{0,0}\"],[\"ema(18)\",\"@{ema(18)_0_1}{0,0.0[0000]}\"],[\"ema(50)\",\"@{ema(50)_1_1}{0,0.0[0000]}\"],[\"ema(100)\",\"@{ema(100)_2_1}{0,0.0[0000]}\"],[\"ema(150)\",\"@{ema(150)_3_1}{0,0.0[0000]}\"],[\"ema(200)\",\"@{ema(200)_4_1}{0,0.0[0000]}\"]]},\"id\":\"1924\",\"type\":\"HoverTool\"},{\"attributes\":{\"source\":{\"id\":\"1692\"}},\"id\":\"1740\",\"type\":\"CDSView\"},{\"attributes\":{\"fill_alpha\":{\"value\":0.1},\"fill_color\":{\"field\":\"inc\",\"transform\":{\"id\":\"1693\"}},\"hatch_alpha\":{\"value\":0.1},\"hatch_color\":{\"field\":\"inc\",\"transform\":{\"id\":\"1693\"}},\"line_alpha\":{\"value\":0.1},\"line_color\":{\"field\":\"inc\",\"transform\":{\"id\":\"1693\"}},\"top\":{\"field\":\"Volume\"},\"width\":{\"value\":0.8},\"x\":{\"field\":\"index\"}},\"id\":\"1783\",\"type\":\"VBar\"},{\"attributes\":{\"active_drag\":{\"id\":\"1675\"},\"active_scroll\":{\"id\":\"1676\"},\"tools\":[{\"id\":\"1675\"},{\"id\":\"1676\"},{\"id\":\"1677\"},{\"id\":\"1678\"},{\"id\":\"1679\"},{\"id\":\"1680\"},{\"id\":\"1681\"},{\"id\":\"1924\"},{\"id\":\"1927\"}]},\"id\":\"1683\",\"type\":\"Toolbar\"},{\"attributes\":{\"logo\":null,\"toolbars\":[{\"id\":\"1720\"},{\"id\":\"1683\"},{\"id\":\"1771\"}],\"tools\":[{\"id\":\"1712\"},{\"id\":\"1713\"},{\"id\":\"1714\"},{\"id\":\"1715\"},{\"id\":\"1716\"},{\"id\":\"1717\"},{\"id\":\"1718\"},{\"id\":\"1741\"},{\"id\":\"1743\"},{\"id\":\"1927\"},{\"id\":\"1675\"},{\"id\":\"1676\"},{\"id\":\"1677\"},{\"id\":\"1678\"},{\"id\":\"1679\"},{\"id\":\"1680\"},{\"id\":\"1681\"},{\"id\":\"1924\"},{\"id\":\"1927\"},{\"id\":\"1763\"},{\"id\":\"1764\"},{\"id\":\"1765\"},{\"id\":\"1766\"},{\"id\":\"1767\"},{\"id\":\"1768\"},{\"id\":\"1769\"},{\"id\":\"1787\"},{\"id\":\"1927\"}]},\"id\":\"1972\",\"type\":\"ProxyToolbar\"},{\"attributes\":{\"format\":\"0.[00]%\"},\"id\":\"1745\",\"type\":\"NumeralTickFormatter\"},{\"attributes\":{\"source\":{\"id\":\"1691\"}},\"id\":\"1802\",\"type\":\"CDSView\"},{\"attributes\":{\"border_line_color\":\"#333333\",\"click_policy\":\"hide\",\"coordinates\":null,\"group\":null,\"items\":[{\"id\":\"1823\"},{\"id\":\"1843\"},{\"id\":\"1863\"},{\"id\":\"1883\"},{\"id\":\"1903\"},{\"id\":\"1923\"}],\"label_text_font_size\":\"8pt\",\"location\":\"top_left\",\"margin\":0,\"padding\":5,\"spacing\":0},\"id\":\"1822\",\"type\":\"Legend\"},{\"attributes\":{\"format\":\"0 a\"},\"id\":\"1789\",\"type\":\"NumeralTickFormatter\"},{\"attributes\":{\"coordinates\":null,\"data_source\":{\"id\":\"1691\"},\"glyph\":{\"id\":\"1825\"},\"group\":null,\"hover_glyph\":null,\"muted_glyph\":{\"id\":\"1827\"},\"nonselection_glyph\":{\"id\":\"1826\"},\"view\":{\"id\":\"1829\"}},\"id\":\"1828\",\"type\":\"GlyphRenderer\"},{\"attributes\":{\"x0\":{\"field\":\"index\"},\"x1\":{\"field\":\"index\"},\"y0\":{\"field\":\"High\"},\"y1\":{\"field\":\"Low\"}},\"id\":\"1792\",\"type\":\"Segment\"},{\"attributes\":{\"line_alpha\":0.2,\"line_color\":\"#d62728\",\"line_width\":1.3,\"x\":{\"field\":\"index\"},\"y\":{\"field\":\"ema(150)_3_1\"}},\"id\":\"1887\",\"type\":\"Line\"},{\"attributes\":{\"coordinates\":null,\"group\":null},\"id\":\"1809\",\"type\":\"Title\"},{\"attributes\":{\"args\":{\"ohlc_range\":{\"id\":\"1661\"},\"source\":{\"id\":\"1691\"},\"volume_range\":{\"id\":\"1749\"}},\"code\":\"if (!window._bt_scale_range) {\\n    window._bt_scale_range = function (range, min, max, pad) {\\n        \\\"use strict\\\";\\n        if (min !== Infinity && max !== -Infinity) {\\n            pad = pad ? (max - min) * .03 : 0;\\n            range.start = min - pad;\\n            range.end = max + pad;\\n        } else console.error('backtesting: scale range error:', min, max, range);\\n    };\\n}\\n\\nclearTimeout(window._bt_autoscale_timeout);\\n\\nwindow._bt_autoscale_timeout = setTimeout(function () {\\n    /**\\n     * @variable cb_obj `fig_ohlc.x_range`.\\n     * @variable source `ColumnDataSource`\\n     * @variable ohlc_range `fig_ohlc.y_range`.\\n     * @variable volume_range `fig_volume.y_range`.\\n     */\\n    \\\"use strict\\\";\\n\\n    let i = Math.max(Math.floor(cb_obj.start), 0),\\n        j = Math.min(Math.ceil(cb_obj.end), source.data['ohlc_high'].length);\\n\\n    let max = Math.max.apply(null, source.data['ohlc_high'].slice(i, j)),\\n        min = Math.min.apply(null, source.data['ohlc_low'].slice(i, j));\\n    _bt_scale_range(ohlc_range, min, max, true);\\n\\n    if (volume_range) {\\n        max = Math.max.apply(null, source.data['Volume'].slice(i, j));\\n        _bt_scale_range(volume_range, 0, max * 1.03, false);\\n    }\\n\\n}, 50);\\n\"},\"id\":\"1926\",\"type\":\"CustomJS\"},{\"attributes\":{\"factors\":[\"0\",\"1\"],\"palette\":[\"tomato\",\"lime\"]},\"id\":\"1694\",\"type\":\"CategoricalColorMapper\"},{\"attributes\":{\"bounds\":[-62.85,1319.85],\"end\":1257,\"js_property_callbacks\":{\"change:end\":[{\"id\":\"1926\"}]},\"min_interval\":10},\"id\":\"1658\",\"type\":\"Range1d\"},{\"attributes\":{\"coordinates\":null,\"group\":null,\"line_color\":\"#666666\",\"line_dash\":[6],\"location\":0},\"id\":\"1728\",\"type\":\"Span\"},{\"attributes\":{\"below\":[{\"id\":\"1667\"}],\"center\":[{\"id\":\"1670\"},{\"id\":\"1674\"},{\"id\":\"1822\"}],\"height\":400,\"left\":[{\"id\":\"1671\"}],\"min_border_bottom\":6,\"min_border_left\":0,\"min_border_right\":10,\"min_border_top\":3,\"outline_line_color\":\"#666666\",\"renderers\":[{\"id\":\"1795\"},{\"id\":\"1801\"},{\"id\":\"1807\"},{\"id\":\"1828\"},{\"id\":\"1848\"},{\"id\":\"1868\"},{\"id\":\"1888\"},{\"id\":\"1908\"}],\"sizing_mode\":\"stretch_width\",\"title\":{\"id\":\"1809\"},\"toolbar\":{\"id\":\"1683\"},\"toolbar_location\":null,\"width\":null,\"x_range\":{\"id\":\"1658\"},\"x_scale\":{\"id\":\"1663\"},\"y_range\":{\"id\":\"1661\"},\"y_scale\":{\"id\":\"1665\"}},\"id\":\"1659\",\"subtype\":\"Figure\",\"type\":\"Plot\"},{\"attributes\":{\"dimensions\":\"width\",\"maintain_focus\":false},\"id\":\"1713\",\"type\":\"WheelZoomTool\"},{\"attributes\":{\"source\":{\"id\":\"1691\"}},\"id\":\"1849\",\"type\":\"CDSView\"},{\"attributes\":{},\"id\":\"1766\",\"type\":\"UndoTool\"},{\"attributes\":{\"dimensions\":\"width\"},\"id\":\"1712\",\"type\":\"PanTool\"},{\"attributes\":{\"overlay\":{\"id\":\"1682\"}},\"id\":\"1677\",\"type\":\"BoxZoomTool\"},{\"attributes\":{\"coordinates\":null,\"data_source\":{\"id\":\"1692\"},\"glyph\":{\"id\":\"1804\"},\"group\":null,\"hover_glyph\":null,\"muted_glyph\":{\"id\":\"1806\"},\"nonselection_glyph\":{\"id\":\"1805\"},\"view\":{\"id\":\"1808\"}},\"id\":\"1807\",\"type\":\"GlyphRenderer\"},{\"attributes\":{\"fill_alpha\":{\"value\":0.1},\"fill_color\":{\"field\":\"returns_positive\",\"transform\":{\"id\":\"1694\"}},\"hatch_alpha\":{\"value\":0.1},\"line_alpha\":{\"value\":0.1},\"marker\":{\"value\":\"triangle\"},\"size\":{\"field\":\"marker_size\"},\"x\":{\"field\":\"index\"},\"y\":{\"field\":\"returns_long\"}},\"id\":\"1731\",\"type\":\"Scatter\"},{\"attributes\":{},\"id\":\"1665\",\"type\":\"LinearScale\"},{\"attributes\":{\"line_alpha\":0.1,\"line_color\":\"red\",\"line_width\":1.3,\"x\":{\"field\":\"index\"},\"y\":{\"field\":\"ema(200)_4_1\"}},\"id\":\"1906\",\"type\":\"Line\"},{\"attributes\":{\"axis\":{\"id\":\"1704\"},\"coordinates\":null,\"group\":null,\"ticker\":null},\"id\":\"1707\",\"type\":\"Grid\"},{\"attributes\":{\"axis\":{\"id\":\"1671\"},\"coordinates\":null,\"dimension\":1,\"group\":null,\"ticker\":null},\"id\":\"1674\",\"type\":\"Grid\"},{\"attributes\":{\"line_alpha\":0.2,\"line_color\":\"red\",\"line_width\":1.3,\"x\":{\"field\":\"index\"},\"y\":{\"field\":\"ema(200)_4_1\"}},\"id\":\"1907\",\"type\":\"Line\"},{\"attributes\":{},\"id\":\"1966\",\"type\":\"AllLabels\"},{\"attributes\":{},\"id\":\"1661\",\"type\":\"DataRange1d\"},{\"attributes\":{},\"id\":\"1819\",\"type\":\"UnionRenderers\"},{\"attributes\":{\"axis\":{\"id\":\"1708\"},\"coordinates\":null,\"dimension\":1,\"group\":null,\"ticker\":null},\"id\":\"1711\",\"type\":\"Grid\"},{\"attributes\":{\"line_color\":\"red\",\"line_width\":1.3,\"x\":{\"field\":\"index\"},\"y\":{\"field\":\"ema(200)_4_1\"}},\"id\":\"1905\",\"type\":\"Line\"},{\"attributes\":{},\"id\":\"1672\",\"type\":\"BasicTicker\"},{\"attributes\":{\"line_color\":{\"field\":\"returns_positive\",\"transform\":{\"id\":\"1695\"}},\"line_dash\":{\"value\":\"dotted\"},\"line_width\":{\"value\":8},\"xs\":{\"field\":\"position_lines_xs\"},\"ys\":{\"field\":\"position_lines_ys\"}},\"id\":\"1804\",\"type\":\"MultiLine\"},{\"attributes\":{},\"id\":\"1702\",\"type\":\"LinearScale\"},{\"attributes\":{\"label\":{\"value\":\"ema(150)\"},\"renderers\":[{\"id\":\"1888\"}]},\"id\":\"1903\",\"type\":\"LegendItem\"},{\"attributes\":{},\"id\":\"1717\",\"type\":\"ResetTool\"},{\"attributes\":{\"label\":{\"value\":\"ema(200)\"},\"renderers\":[{\"id\":\"1908\"}]},\"id\":\"1923\",\"type\":\"LegendItem\"},{\"attributes\":{\"bottom\":{\"field\":\"Close\"},\"fill_color\":{\"field\":\"inc\",\"transform\":{\"id\":\"1693\"}},\"top\":{\"field\":\"Open\"},\"width\":{\"value\":0.8},\"x\":{\"field\":\"index\"}},\"id\":\"1798\",\"type\":\"VBar\"},{\"attributes\":{\"coordinates\":null,\"data_source\":{\"id\":\"1691\"},\"glyph\":{\"id\":\"1782\"},\"group\":null,\"hover_glyph\":null,\"muted_glyph\":{\"id\":\"1784\"},\"nonselection_glyph\":{\"id\":\"1783\"},\"view\":{\"id\":\"1786\"}},\"id\":\"1785\",\"type\":\"GlyphRenderer\"},{\"attributes\":{\"dimensions\":\"width\"},\"id\":\"1763\",\"type\":\"PanTool\"},{\"attributes\":{},\"id\":\"1767\",\"type\":\"RedoTool\"},{\"attributes\":{},\"id\":\"1939\",\"type\":\"BasicTickFormatter\"},{\"attributes\":{},\"id\":\"1820\",\"type\":\"Selection\"},{\"attributes\":{\"source\":{\"id\":\"1691\"}},\"id\":\"1909\",\"type\":\"CDSView\"},{\"attributes\":{\"source\":{\"id\":\"1691\"}},\"id\":\"1889\",\"type\":\"CDSView\"},{\"attributes\":{\"factors\":[\"0\",\"1\"],\"palette\":[\"tomato\",\"lime\"]},\"id\":\"1693\",\"type\":\"CategoricalColorMapper\"},{\"attributes\":{\"line_alpha\":0.1,\"line_color\":\"#ff7f0e\",\"line_width\":1.3,\"x\":{\"field\":\"index\"},\"y\":{\"field\":\"ema(50)_1_1\"}},\"id\":\"1846\",\"type\":\"Line\"},{\"attributes\":{\"bottom_units\":\"screen\",\"coordinates\":null,\"fill_alpha\":0.5,\"fill_color\":\"lightgrey\",\"group\":null,\"left_units\":\"screen\",\"level\":\"overlay\",\"line_alpha\":1.0,\"line_color\":\"black\",\"line_dash\":[4,4],\"line_width\":2,\"right_units\":\"screen\",\"syncable\":false,\"top_units\":\"screen\"},\"id\":\"1719\",\"type\":\"BoxAnnotation\"},{\"attributes\":{\"coordinates\":null,\"data_source\":{\"id\":\"1691\"},\"glyph\":{\"id\":\"1905\"},\"group\":null,\"hover_glyph\":null,\"muted_glyph\":{\"id\":\"1907\"},\"nonselection_glyph\":{\"id\":\"1906\"},\"view\":{\"id\":\"1909\"}},\"id\":\"1908\",\"type\":\"GlyphRenderer\"},{\"attributes\":{\"bottom_units\":\"screen\",\"coordinates\":null,\"fill_alpha\":0.5,\"fill_color\":\"lightgrey\",\"group\":null,\"left_units\":\"screen\",\"level\":\"overlay\",\"line_alpha\":1.0,\"line_color\":\"black\",\"line_dash\":[4,4],\"line_width\":2,\"right_units\":\"screen\",\"syncable\":false,\"top_units\":\"screen\"},\"id\":\"1682\",\"type\":\"BoxAnnotation\"},{\"attributes\":{\"bottom\":{\"field\":\"Close\"},\"fill_alpha\":{\"value\":0.2},\"fill_color\":{\"field\":\"inc\",\"transform\":{\"id\":\"1693\"}},\"hatch_alpha\":{\"value\":0.2},\"line_alpha\":{\"value\":0.2},\"top\":{\"field\":\"Open\"},\"width\":{\"value\":0.8},\"x\":{\"field\":\"index\"}},\"id\":\"1800\",\"type\":\"VBar\"},{\"attributes\":{\"line_alpha\":0.1,\"line_color\":\"#d62728\",\"line_width\":1.3,\"x\":{\"field\":\"index\"},\"y\":{\"field\":\"ema(150)_3_1\"}},\"id\":\"1886\",\"type\":\"Line\"},{\"attributes\":{\"active_drag\":{\"id\":\"1712\"},\"active_scroll\":{\"id\":\"1713\"},\"tools\":[{\"id\":\"1712\"},{\"id\":\"1713\"},{\"id\":\"1714\"},{\"id\":\"1715\"},{\"id\":\"1716\"},{\"id\":\"1717\"},{\"id\":\"1718\"},{\"id\":\"1741\"},{\"id\":\"1743\"},{\"id\":\"1927\"}]},\"id\":\"1720\",\"type\":\"Toolbar\"},{\"attributes\":{\"line_color\":\"#ff7f0e\",\"line_width\":1.3,\"x\":{\"field\":\"index\"},\"y\":{\"field\":\"ema(50)_1_1\"}},\"id\":\"1845\",\"type\":\"Line\"},{\"attributes\":{},\"id\":\"1716\",\"type\":\"RedoTool\"},{\"attributes\":{\"data\":{\"Close\":{\"__ndarray__\":\"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\",\"dtype\":\"float64\",\"order\":\"little\",\"shape\":[1258]},\"High\":{\"__ndarray__\":\"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\",\"dtype\":\"float64\",\"order\":\"little\",\"shape\":[1258]},\"Low\":{\"__ndarray__\":\"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\",\"dtype\":\"float64\",\"order\":\"little\",\"shape\":[1258]},\"Open\":{\"__ndarray__\":\"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\",\"dtype\":\"float64\",\"order\":\"little\",\"shape\":[1258]},\"Volume\":[28697000,31664800,22935400,49632500,57822400,38767800,41328400,35904100,27332500,32132700,27686300,19652600,23206700,21848900,8409600,20732600,22366700,34655400,34542100,25515700,23552700,19907000,30809000,21220800,27349400,20198100,35718900,30352700,27669900,42453100,34338200,26028400,17096300,22176600,12403800,11763200,14653300,10250600,25579900,20694100,21340000,24876000,19922900,20382700,18593000,21517300,20968200,19422300,20664000,19670100,18451700,30213500,23097600,24672900,23672700,43554600,44818000,31651400,25270500,39671500,45827000,30301800,19796400,20277200,18096400,22644400,18170700,22920100,23108400,17005200,20546300,21248800,20655900,19292700,20273100,21796800,15871500,23239800,26937500,24539600,18135900,18750300,18521000,21510900,19846800,19538200,20100000,14280200,24833800,20674300,49219700,14598100,26640500,20680000,19269200,22617100,18614700,20080400,13618400,15122800,21040300,20400900,12997400,21448600,18103500,14108500,17952700,18791500,17108500,17896500,16689300,15155600,26992800,22299500,32522600,29770000,30242700,26190800,34971000,39548800,31954400,23906100,28928000,21749400,19128800,18566100,22858400,17977800,28789400,18714100,31530300,34956000,30548800,25201300,26961100,16237600,15425800,14593900,21854100,19827900,17072800,30436400,21603600,34770300,33316800,31511100,22301800,24588300,49187400,47761700,25258600,25510700,26068700,48345100,23798300,21512200,19891100,22965700,27617300,19607000,25215100,25806200,28918700,24161100,16165500,21176300,21117600,16878300,15014500,17460000,17750900,20269800,25868100,21803900,26435300,22416200,42361000,46717100,21394800,22018700,16252200,36844200,18306700,23600100,22132300,26499200,18214400,22579000,18705700,22044600,22213400,24734500,21443700,20096600,19181400,18150400,22977500,18761500,17734800,14343700,13766500,17098300,12794300,14569700,11478400,16897800,27652800,21736200,21556000,16535800,17471200,14703800,17910400,14394900,13380800,15733900,38578400,23307000,16093300,21587900,19186100,14111400,24149200,18019600,19565100,10883800,17079100,15304800,12190400,13317700,21195300,13959800,11386500,13944500,15388900,16876500,15335700,12380100,16824000,13300700,15092800,22866400,20627200,17517200,20410800,32120700,71066700,31756700,27086600,22307400,23992900,17633500,19860900,17939700,18034200,21178400,19397800,14196900,18801300,19383100,20962800,22079000,16315000,21237500,20553100,7425600,18265200,21926000,27381100,33054600,29532100,39094900,26152300,26162100,23184500,24489100,22857900,23924100,22062700,19306000,53936700,22283800,23524800,23674900,17990700,14145800,9891200,14678000,10594300,18717400,22483800,26061400,21912000,23407100,22113000,19484300,18652200,17808900,24271500,36599700,25621200,24159700,36875000,23601600,23412800,33277500,26383200,29172200,31569900,38635100,48756300,47227900,47867800,51031500,67998600,41107600,55628700,63499100,35720300,26407700,34960900,27823900,30596900,30911700,26922500,24392800,26329200,30199800,25869100,31167300,37135600,32830400,23901600,22175800,26716100,25887800,36937300,26073700,35387800,32132000,27611000,49081300,33344100,23075200,24457100,38604700,44068900,56396800,56569000,52501100,45867500,48515400,37213800,35560000,29771900,38026000,31533900,26812000,24872100,26758900,23346100,20288100,26771000,21043300,23552500,31154400,22331800,34524800,33729300,42529000,48272800,41523600,31408900,27471000,31142500,22531300,24242000,23484600,27327400,22388100,16778300,19454100,24594000,17384700,17246700,17865800,19422500,15441200,21251200,26649300,18363900,28671000,22158500,34140900,28655600,27281600,23514400,21122900,28232200,22165100,23490900,18325200,29492900,25691800,65738600,23586000,28653100,26180800,23198200,38923100,35433300,26897200,31298400,26650700,28053200,19564500,14670300,18977400,19234600,18212000,19293100,19644600,24335900,24635200,21786900,25901700,29493900,40171600,56004000,29707000,26316600,30702100,31372100,37005300,34668300,27655200,23628700,26104300,18659600,20265900,16080200,15487500,13677200,18183700,18472500,16788300,29982800,21384300,18061500,17914200,22881900,18000600,18167700,17234000,19662300,19151500,20818000,22798700,23222700,22634600,32872400,23477600,22498600,20727900,24301800,18891100,26055600,19122300,20736500,22170900,21728400,23714500,71229700,27334500,22668000,19352000,19091300,21647800,18883100,20787200,16648000,34821700,29068900,29640600,26198600,61376300,63904300,47742100,32068100,31610200,26548200,32506200,32785500,26545600,43770400,63897800,61646800,55523100,55162000,65350900,51062400,33384200,37680200,27922100,24340200,37901700,25644100,32039200,33621800,35374600,39495100,38505200,33502100,44773900,64052500,28130600,13823100,32336200,29124500,46788500,28123200,33665600,34732800,45197000,49107400,45044900,40801500,42381900,36183000,31333400,47043100,56957300,49319200,68198200,70334200,111242100,43935200,51634800,49498500,38196300,33173800,35329300,42579100,44060600,35656100,31514400,32280800,30067600,28314200,28437100,31587600,29853900,28393000,37427600,32371300,25874300,23164800,31225600,29476700,31490500,49471900,55636400,35535700,31315100,27325400,20609800,29760700,21461100,18914100,25056600,18394900,21784700,26606900,18038500,21607700,29063200,27763200,23750600,21536700,21487100,29083900,23501200,26608000,19538300,17687000,25339000,22818400,26491600,26132700,35513800,30763400,54681100,31207600,37588700,28113300,29854400,33624500,27067100,26097700,22733400,18334800,25399800,22789100,18142300,22860700,20112800,15826200,15116200,17612000,16477200,14209100,19745100,15792600,14071800,19300900,27991000,15648700,24025500,31257000,38033900,23654900,16324200,24166500,26821700,27350200,24911100,24239800,36017700,28419000,27235800,30915100,33944900,25266300,24722700,30112200,25770500,23706900,15293300,15396500,23603800,14123400,23128400,22763100,16829600,26646800,37983600,29382600,24926100,21459000,33885600,26477100,23913700,17092500,17200800,17821700,14517800,25934500,23744400,33042600,36727900,20628800,33327400,23657700,16557500,30043000,22613500,15237800,13629300,18141100,16779700,19953100,24204400,22327900,18936800,16651500,22726100,20211000,30381800,48992400,25074900,18034600,20738300,18356900,19037600,16605900,16846500,38598800,40557500,30791600,42749600,32696700,33414500,27496500,23466700,20484300,25154600,32527300,28074400,24449100,24355700,21170800,14970300,18697000,38508600,20312600,23102100,17393300,20168700,23940100,18869300,17995900,26101800,20824500,25773900,28903400,24726100,27010000,23363100,16731400,17814200,23982100,35772100,39167300,17139300,29773200,21382000,17456600,22477700,17280900,21466600,30521700,24132900,22897700,15303700,25550500,19749900,17654600,25446000,13304300,19695700,20751600,21460600,32273500,20078200,27431000,29844600,37029300,25959700,35280100,20589500,18496600,24605100,33128400,16912000,18250200,16575800,17786700,16732700,14362600,18641600,16919200,19729800,23485700,21534000,23935700,25696800,18576100,15901800,22420900,24620100,15184400,11977300,27418400,24066000,17574700,17869100,16403500,16687400,16476100,18856600,24612100,23845400,24144200,25425600,24129200,24958900,53477500,17718200,8989200,14520600,18412800,16348400,18369400,22622100,21116200,20813700,21634100,27746500,21385000,20725900,21626500,23477400,21417900,23865400,34371700,29517200,24138800,19680800,24918100,32078100,24899900,34754500,51597500,36142700,30107000,36433300,39186300,27751400,33529100,35844300,53159900,47062900,35295800,23149500,27792200,29997500,36862400,48572600,68311100,68073300,56206100,93174900,97012700,71030800,71677000,49814400,47817300,72821100,70419300,65354400,56371600,93226400,92727400,87905900,81059800,81593200,85922700,84866200,78975200,82516700,75638200,64568100,57042300,63420300,77927200,57969900,49630700,41243300,67111700,62769000,48318200,51385100,41905300,52874300,40940800,50479600,52765600,36669600,56203700,34620200,32790800,34277600,33194400,34392700,51286600,53875900,39370500,30372900,36839200,32139300,28316000,30877800,30892700,32038200,44711500,41873900,46610400,35264500,26799100,31261300,29119500,20826900,36073600,39517100,33810200,42130400,22622400,30794600,27311000,28761800,39893600,33211600,29783900,43872300,52854700,43373600,32770200,42556700,25687800,23061600,44441100,32818900,30917400,36740600,27803900,54675800,26701600,34310300,32061200,29315800,31897600,33600700,33600000,33121700,26177600,38135600,37591800,32179400,29940700,31635300,36884800,37990400,49605700,67457000,39827000,30160900,23251400,19632600,25079600,51044000,78983000,49280100,28806400,32656800,27820400,36716500,36446500,28013100,22588900,17958900,20184800,21336200,27627600,26981500,36249300,25460100,23043700,39600800,57602200,26292900,28774200,25725500,34080800,58400300,59664100,52924300,45679000,35461500,33620100,30375800,21823900,26328100,34011300,55225300,39839700,33517100,30803800,31202500,29437300,32004900,24221900,33829100,27158400,33154800,21331600,28554300,25681100,19925800,26458000,40461400,28950800,23421700,22733100,26057900,27625800,22753500,22724900,22351500,18879600,37111600,36700300,51195600,31432600,36953700,30842200,27512000,42311800,36080100,25231900,44395000,44045100,29440800,21593900,18621100,24953300,24154100,28372800,24792700,22843100,25683500,33979700,21012900,14512200,33064800,30904500,23724500,25120900,24666000,24620000,23284100,32440600,26733300,30979400,28798400,27000600,35023300,32515800,63354900,37181900,22612200,18699600,10550600,17933500,17403200,20272300,20942100,37130100,23823000,35930700,27694500,22956200,23031300,23249300,20087100,29480800,31746500,30480900,37777300,30709400,30172700,33152100,49169600,69870600,49111200,42503100,33314200,25916300,27158100,25296100,18054800,22211900,23565000,22186700,15751100,16561100,26728500,21653500,16925600,25262600,36446900,30228700,26339700,39542200,37819200,25324000,22812500,34029500,44727800,41872800,35267400,33080500,29746800,29907600,22653700,26034900,28092200,29562100,34833000,46430700,30127000,31638400,25620100,34061900,25479900,25227500,24792000,43623500,30338000,36910600,22931900,22719800,23625200,24326800,27148700,23837500,23070900,25627500,24878600,23209300,19722900,24030400,25606200,21462600,19763300,31014200,46903100,40589000,30945100,19626600,32756100,21901300,26491100,27032900,29299900,33641600,36684400,29624300,23901100,24970200,20168000,25739800,21800700,21863100,21411500,17704300,17771600,24426200,18270200,23213300,19406700,25307700,25281100,23079200,22455000,17937600,24563600,18999700,19150500,18038900,27220000,27565500,37202200,26696100,24694100,19518700,21446900,25611100,19590000,19937800,21656500,16725300,26458000,31565600,23260000,24618600,23916700,18931700,26120100,23113700,22604200,26186800,32935600,26259700,24364300,23384100,22768100,23176100,33604100,33566900,18168300,20940900,16267400,17879000,16191300,13900200,16585200,16117600,18616600,13955900,14561300,18231400,22507600,20075300,21813000,29850500,40796100,22830200,18175800,20006100,17666100,22597000,16348100,26285300,18983800,16285600,14747900,17180400,15046800,19927000,19619400,23652900,21853400,28356300,19550800,41372500,38278700,22364100,26626300,18604600,14999000,23571700,43186200,26353700,32325800,30086300,31350700,24993000,28002600,20430500,17680300,19298600,17974100,23416300,27262900,25374700,22729300,17682100,16537100,16918100,17449300,17554500,28107300,52588700,26297900,34744900,27073200,26487100,21500100],\"datetime\":[0,1,2,3,4,5,6,7,8,9,10,11,12,13,14,15,16,17,18,19,20,21,22,23,24,25,26,27,28,29,30,31,32,33,34,35,36,37,38,39,40,41,42,43,44,45,46,47,48,49,50,51,52,53,54,55,56,57,58,59,60,61,62,63,64,65,66,67,68,69,70,71,72,73,74,75,76,77,78,79,80,81,82,83,84,85,86,87,88,89,90,91,92,93,94,95,96,97,98,99,100,101,102,103,104,105,106,107,108,109,110,111,112,113,114,115,116,117,118,119,120,121,122,123,124,125,126,127,128,129,130,131,132,133,134,135,136,137,138,139,140,141,142,143,144,145,146,147,148,149,150,151,152,153,154,155,156,157,158,159,160,161,162,163,164,165,166,167,168,169,170,171,172,173,174,175,176,177,178,179,180,181,182,183,184,185,186,187,188,189,190,191,192,193,194,195,196,197,198,199,200,201,202,203,204,205,206,207,208,209,210,211,212,213,214,215,216,217,218,219,220,221,222,223,224,225,226,227,228,229,230,231,232,233,234,235,236,237,238,239,240,241,242,243,244,245,246,247,248,249,250,251,252,253,254,255,256,257,258,259,260,261,262,263,264,265,266,267,268,269,270,271,272,273,274,275,276,277,278,279,280,281,282,283,284,285,286,287,288,289,290,291,292,293,294,295,296,297,298,299,300,301,302,303,304,305,306,307,308,309,310,311,312,313,314,315,316,317,318,319,320,321,322,323,324,325,326,327,328,329,330,331,332,333,334,335,336,337,338,339,340,341,342,343,344,345,346,347,348,349,350,351,352,353,354,355,356,357,358,359,360,361,362,363,364,365,366,367,368,369,370,371,372,373,374,375,376,377,378,379,380,381,382,383,384,385,386,387,388,389,390,391,392,393,394,395,396,397,398,399,400,401,402,403,404,405,406,407,408,409,410,411,412,413,414,415,416,417,418,419,420,421,422,423,424,425,426,427,428,429,430,431,432,433,434,435,436,437,438,439,440,441,442,443,444,445,446,447,448,449,450,451,452,453,454,455,456,457,458,459,460,461,462,463,464,465,466,467,468,469,470,471,472,473,474,475,476,477,478,479,480,481,482,483,484,485,486,487,488,489,490,491,492,493,494,495,496,497,498,499,500,501,502,503,504,505,506,507,508,509,510,511,512,513,514,515,516,517,518,519,520,521,522,523,524,525,526,527,528,529,530,531,532,533,534,535,536,537,538,539,540,541,542,543,544,545,546,547,548,549,550,551,552,553,554,555,556,557,558,559,560,561,562,563,564,565,566,567,568,569,570,571,572,573,574,575,576,577,578,579,580,581,582,583,584,585,586,587,588,589,590,591,592,593,594,595,596,597,598,599,600,601,602,603,604,605,606,607,608,609,610,611,612,613,614,615,616,617,618,619,620,621,622,623,624,625,626,627,628,629,630,631,632,633,634,635,636,637,638,639,640,641,642,643,644,645,646,647,648,649,650,651,652,653,654,655,656,657,658,659,660,661,662,663,664,665,666,667,668,669,670,671,672,673,674,675,676,677,678,679,680,681,682,683,684,685,686,687,688,689,690,691,692,693,694,695,696,697,698,699,700,701,702,703,704,705,706,707,708,709,710,711,712,713,714,715,716,717,718,719,720,721,722,723,724,725,726,727,728,729,730,731,732,733,734,735,736,737,738,739,740,741,742,743,744,745,746,747,748,749,750,751,752,753,754,755,756,757,758,759,760,761,762,763,764,765,766,767,768,769,770,771,772,773,774,775,776,777,778,779,780,781,782,783,784,785,786,787,788,789,790,791,792,793,794,795,796,797,798,799,800,801,802,803,804,805,806,807,808,809,810,811,812,813,814,815,816,817,818,819,820,821,822,823,824,825,826,827,828,829,830,831,832,833,834,835,836,837,838,839,840,841,842,843,844,845,846,847,848,849,850,851,852,853,854,855,856,857,858,859,860,861,862,863,864,865,866,867,868,869,870,871,872,873,874,875,876,877,878,879,880,881,882,883,884,885,886,887,888,889,890,891,892,893,894,895,896,897,898,899,900,901,902,903,904,905,906,907,908,909,910,911,912,913,914,915,916,917,918,919,920,921,922,923,924,925,926,927,928,929,930,931,932,933,934,935,936,937,938,939,940,941,942,943,944,945,946,947,948,949,950,951,952,953,954,955,956,957,958,959,960,961,962,963,964,965,966,967,968,969,970,971,972,973,974,975,976,977,978,979,980,981,982,983,984,985,986,987,988,989,990,991,992,993,994,995,996,997,998,999,1000,1001,1002,1003,1004,1005,1006,1007,1008,1009,1010,1011,1012,1013,1014,1015,1016,1017,1018,1019,1020,1021,1022,1023,1024,1025,1026,1027,1028,1029,1030,1031,1032,1033,1034,1035,1036,1037,1038,1039,1040,1041,1042,1043,1044,1045,1046,1047,1048,1049,1050,1051,1052,1053,1054,1055,1056,1057,1058,1059,1060,1061,1062,1063,1064,1065,1066,1067,1068,1069,1070,1071,1072,1073,1074,1075,1076,1077,1078,1079,1080,1081,1082,1083,1084,1085,1086,1087,1088,1089,1090,1091,1092,1093,1094,1095,1096,1097,1098,1099,1100,1101,1102,1103,1104,1105,1106,1107,1108,1109,1110,1111,1112,1113,1114,1115,1116,1117,1118,1119,1120,1121,1122,1123,1124,1125,1126,1127,1128,1129,1130,1131,1132,1133,1134,1135,1136,1137,1138,1139,1140,1141,1142,1143,1144,1145,1146,1147,1148,1149,1150,1151,1152,1153,1154,1155,1156,1157,1158,1159,1160,1161,1162,1163,1164,1165,1166,1167,1168,1169,1170,1171,1172,1173,1174,1175,1176,1177,1178,1179,1180,1181,1182,1183,1184,1185,1186,1187,1188,1189,1190,1191,1192,1193,1194,1195,1196,1197,1198,1199,1200,1201,1202,1203,1204,1205,1206,1207,1208,1209,1210,1211,1212,1213,1214,1215,1216,1217,1218,1219,1220,1221,1222,1223,1224,1225,1226,1227,1228,1229,1230,1231,1232,1233,1234,1235,1236,1237,1238,1239,1240,1241,1242,1243,1244,1245,1246,1247,1248,1249,1250,1251,1252,1253,1254,1255,1256,1257],\"ema(100)_2_1\":{\"__ndarray__\":\"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\",\"dtype\":\"float64\",\"order\":\"little\",\"shape\":[1258]},\"ema(150)_3_1\":{\"__ndarray__\":\"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\",\"dtype\":\"float64\",\"order\":\"little\",\"shape\":[1258]},\"ema(18)_0_1\":{\"__ndarray__\":\"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\",\"dtype\":\"float64\",\"order\":\"little\",\"shape\":[1258]},\"ema(200)_4_1\":{\"__ndarray__\":\"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\",\"dtype\":\"float64\",\"order\":\"little\",\"shape\":[1258]},\"ema(50)_1_1\":{\"__ndarray__\":\"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\",\"dtype\":\"float64\",\"order\":\"little\",\"shape\":[1258]},\"inc\":[\"1\",\"1\",\"0\",\"1\",\"0\",\"1\",\"0\",\"1\",\"1\",\"1\",\"0\",\"1\",\"1\",\"0\",\"1\",\"1\",\"1\",\"0\",\"0\",\"1\",\"1\",\"0\",\"1\",\"0\",\"1\",\"1\",\"1\",\"0\",\"0\",\"0\",\"1\",\"0\",\"1\",\"0\",\"0\",\"1\",\"0\",\"1\",\"0\",\"0\",\"0\",\"1\",\"1\",\"0\",\"0\",\"1\",\"0\",\"1\",\"0\",\"0\",\"1\",\"1\",\"1\",\"1\",\"0\",\"1\",\"1\",\"0\",\"0\",\"0\",\"0\",\"1\",\"1\",\"0\",\"0\",\"1\",\"0\",\"1\",\"1\",\"1\",\"0\",\"1\",\"0\",\"1\",\"1\",\"1\",\"0\",\"0\",\"1\",\"0\",\"1\",\"1\",\"1\",\"1\",\"0\",\"0\",\"0\",\"0\",\"1\",\"0\",\"0\",\"1\",\"0\",\"1\",\"0\",\"0\",\"1\",\"1\",\"1\",\"1\",\"1\",\"0\",\"1\",\"0\",\"1\",\"0\",\"0\",\"0\",\"0\",\"0\",\"1\",\"1\",\"0\",\"1\",\"1\",\"1\",\"1\",\"0\",\"1\",\"0\",\"1\",\"0\",\"0\",\"0\",\"1\",\"0\",\"1\",\"1\",\"1\",\"0\",\"1\",\"1\",\"0\",\"1\",\"1\",\"1\",\"0\",\"0\",\"1\",\"1\",\"1\",\"0\",\"0\",\"1\",\"1\",\"1\",\"0\",\"0\",\"0\",\"1\",\"1\",\"0\",\"1\",\"1\",\"1\",\"0\",\"1\",\"0\",\"1\",\"0\",\"0\",\"1\",\"0\",\"1\",\"0\",\"1\",\"1\",\"1\",\"1\",\"0\",\"1\",\"1\",\"1\",\"1\",\"1\",\"1\",\"1\",\"1\",\"1\",\"1\",\"0\",\"0\",\"1\",\"0\",\"0\",\"0\",\"0\",\"1\",\"0\",\"1\",\"1\",\"0\",\"1\",\"1\",\"0\",\"1\",\"0\",\"1\",\"0\",\"1\",\"0\",\"0\",\"0\",\"0\",\"1\",\"1\",\"1\",\"0\",\"1\",\"0\",\"1\",\"0\",\"1\",\"0\",\"1\",\"0\",\"1\",\"0\",\"1\",\"0\",\"0\",\"1\",\"0\",\"0\",\"1\",\"1\",\"1\",\"0\",\"0\",\"1\",\"1\",\"1\",\"1\",\"0\",\"1\",\"1\",\"0\",\"1\",\"1\",\"0\",\"1\",\"1\",\"0\",\"0\",\"1\",\"0\",\"0\",\"1\",\"0\",\"0\",\"1\",\"1\",\"1\",\"0\",\"1\",\"0\",\"1\",\"1\",\"1\",\"0\",\"1\",\"0\",\"1\",\"1\",\"0\",\"1\",\"1\",\"1\",\"0\",\"1\",\"1\",\"0\",\"1\",\"1\",\"0\",\"1\",\"1\",\"1\",\"0\",\"0\",\"1\",\"0\",\"0\",\"0\",\"0\",\"1\",\"1\",\"1\",\"0\",\"0\",\"0\",\"1\",\"1\",\"1\",\"1\",\"0\",\"0\",\"0\",\"1\",\"0\",\"1\",\"1\",\"0\",\"1\",\"1\",\"0\",\"0\",\"1\",\"0\",\"0\",\"1\",\"0\",\"0\",\"0\",\"1\",\"0\",\"0\",\"1\",\"1\",\"1\",\"1\",\"1\",\"0\",\"1\",\"0\",\"0\",\"1\",\"1\",\"0\",\"0\",\"0\",\"1\",\"1\",\"0\",\"1\",\"1\",\"1\",\"1\",\"0\",\"0\",\"1\",\"0\",\"0\",\"1\",\"0\",\"0\",\"0\",\"1\",\"0\",\"0\",\"1\",\"0\",\"1\",\"1\",\"0\",\"0\",\"0\",\"1\",\"0\",\"1\",\"0\",\"1\",\"1\",\"1\",\"0\",\"0\",\"0\",\"0\",\"0\",\"1\",\"0\",\"0\",\"1\",\"0\",\"1\",\"1\",\"1\",\"0\",\"1\",\"1\",\"0\",\"1\",\"1\",\"0\",\"0\",\"1\",\"1\",\"0\",\"1\",\"0\",\"1\",\"1\",\"1\",\"0\",\"1\",\"1\",\"1\",\"1\",\"0\",\"1\",\"1\",\"1\",\"0\",\"0\",\"0\",\"1\",\"1\",\"1\",\"0\",\"1\",\"0\",\"1\",\"0\",\"1\",\"0\",\"1\",\"0\",\"1\",\"1\",\"1\",\"1\",\"1\",\"1\",\"1\",\"0\",\"1\",\"0\",\"0\",\"0\",\"1\",\"0\",\"1\",\"0\",\"0\",\"0\",\"0\",\"1\",\"1\",\"1\",\"1\",\"1\",\"1\",\"0\",\"0\",\"0\",\"1\",\"0\",\"0\",\"1\",\"0\",\"0\",\"1\",\"1\",\"1\",\"1\",\"1\",\"1\",\"1\",\"1\",\"1\",\"0\",\"1\",\"0\",\"1\",\"1\",\"1\",\"1\",\"1\",\"0\",\"1\",\"0\",\"1\",\"1\",\"1\",\"0\",\"0\",\"0\",\"1\",\"1\",\"0\",\"0\",\"0\",\"0\",\"0\",\"1\",\"0\",\"1\",\"1\",\"0\",\"1\",\"0\",\"0\",\"0\",\"1\",\"1\",\"0\",\"1\",\"1\",\"0\",\"1\",\"1\",\"0\",\"0\",\"1\",\"1\",\"1\",\"0\",\"0\",\"0\",\"0\",\"0\",\"1\",\"1\",\"0\",\"0\",\"0\",\"1\",\"1\",\"1\",\"1\",\"0\",\"1\",\"0\",\"0\",\"1\",\"0\",\"1\",\"0\",\"0\",\"0\",\"0\",\"0\",\"1\",\"1\",\"0\",\"0\",\"0\",\"1\",\"1\",\"0\",\"1\",\"1\",\"0\",\"1\",\"1\",\"0\",\"1\",\"1\",\"0\",\"1\",\"1\",\"1\",\"1\",\"1\",\"0\",\"1\",\"0\",\"0\",\"0\",\"0\",\"1\",\"1\",\"0\",\"1\",\"1\",\"0\",\"1\",\"1\",\"0\",\"1\",\"0\",\"1\",\"1\",\"1\",\"0\",\"1\",\"1\",\"0\",\"1\",\"1\",\"0\",\"0\",\"0\",\"0\",\"0\",\"0\",\"1\",\"1\",\"1\",\"1\",\"1\",\"1\",\"1\",\"0\",\"1\",\"1\",\"0\",\"1\",\"0\",\"0\",\"0\",\"0\",\"1\",\"1\",\"1\",\"0\",\"1\",\"1\",\"1\",\"1\",\"0\",\"1\",\"1\",\"0\",\"1\",\"1\",\"1\",\"1\",\"0\",\"0\",\"1\",\"0\",\"1\",\"0\",\"0\",\"1\",\"1\",\"0\",\"1\",\"1\",\"1\",\"0\",\"1\",\"1\",\"1\",\"0\",\"0\",\"0\",\"1\",\"0\",\"0\",\"0\",\"0\",\"1\",\"0\",\"0\",\"1\",\"1\",\"1\",\"1\",\"1\",\"0\",\"1\",\"1\",\"1\",\"1\",\"1\",\"1\",\"0\",\"1\",\"1\",\"0\",\"0\",\"1\",\"0\",\"0\",\"1\",\"1\",\"1\",\"1\",\"1\",\"1\",\"1\",\"1\",\"0\",\"0\",\"0\",\"1\",\"0\",\"1\",\"0\",\"1\",\"0\",\"1\",\"0\",\"1\",\"0\",\"1\",\"0\",\"0\",\"1\",\"1\",\"1\",\"0\",\"0\",\"1\",\"0\",\"0\",\"1\",\"1\",\"0\",\"1\",\"0\",\"0\",\"1\",\"0\",\"1\",\"1\",\"0\",\"0\",\"1\",\"1\",\"0\",\"0\",\"0\",\"1\",\"0\",\"0\",\"1\",\"1\",\"1\",\"1\",\"0\",\"0\",\"0\",\"1\",\"1\",\"0\",\"1\",\"0\",\"0\",\"1\",\"1\",\"0\",\"0\",\"1\",\"1\",\"0\",\"0\",\"1\",\"0\",\"0\",\"0\",\"0\",\"0\",\"1\",\"1\",\"1\",\"0\",\"0\",\"1\",\"0\",\"0\",\"0\",\"0\",\"0\",\"1\",\"1\",\"1\",\"1\",\"1\",\"1\",\"1\",\"1\",\"0\",\"0\",\"1\",\"0\",\"1\",\"1\",\"0\",\"0\",\"0\",\"1\",\"0\",\"0\",\"1\",\"1\",\"0\",\"1\",\"1\",\"1\",\"1\",\"0\",\"1\",\"1\",\"1\",\"0\",\"0\",\"1\",\"0\",\"0\",\"1\",\"1\",\"1\",\"1\",\"0\",\"1\",\"1\",\"0\",\"1\",\"0\",\"1\",\"1\",\"0\",\"0\",\"0\",\"1\",\"0\",\"1\",\"1\",\"1\",\"0\",\"0\",\"1\",\"1\",\"0\",\"1\",\"1\",\"1\",\"0\",\"0\",\"1\",\"1\",\"1\",\"0\",\"0\",\"0\",\"1\",\"0\",\"1\",\"0\",\"1\",\"1\",\"0\",\"1\",\"1\",\"0\",\"0\",\"1\",\"0\",\"0\",\"1\",\"0\",\"1\",\"1\",\"0\",\"0\",\"0\",\"1\",\"0\",\"1\",\"0\",\"1\",\"0\",\"0\",\"1\",\"0\",\"1\",\"0\",\"0\",\"0\",\"1\",\"1\",\"1\",\"1\",\"0\",\"0\",\"0\",\"1\",\"0\",\"1\",\"0\",\"0\",\"1\",\"0\",\"0\",\"1\",\"1\",\"1\",\"0\",\"0\",\"1\",\"0\",\"0\",\"1\",\"1\",\"0\",\"0\",\"1\",\"0\",\"1\",\"0\",\"1\",\"1\",\"1\",\"1\",\"1\",\"1\",\"0\",\"1\",\"1\",\"1\",\"1\",\"0\",\"0\",\"1\",\"1\",\"0\",\"1\",\"0\",\"1\",\"0\",\"0\",\"1\",\"0\",\"1\",\"1\",\"1\",\"1\",\"1\",\"0\",\"1\",\"0\",\"1\",\"0\",\"1\",\"0\",\"0\",\"0\",\"1\",\"0\",\"1\",\"0\",\"1\",\"1\",\"0\",\"1\",\"1\",\"1\",\"1\",\"0\",\"0\",\"1\",\"0\",\"0\",\"0\",\"1\",\"0\",\"1\",\"1\",\"1\",\"0\",\"1\",\"0\",\"0\",\"1\",\"1\",\"1\",\"1\",\"0\",\"1\",\"1\",\"0\",\"0\",\"0\",\"1\",\"0\",\"0\",\"1\",\"1\",\"0\",\"1\",\"0\",\"1\",\"1\",\"0\",\"1\",\"1\",\"0\",\"0\",\"1\",\"0\",\"0\",\"1\",\"0\",\"1\",\"1\",\"1\",\"1\",\"1\",\"0\",\"1\",\"0\",\"0\",\"0\",\"1\",\"1\",\"1\",\"0\",\"1\",\"0\",\"1\",\"0\",\"0\",\"1\",\"1\",\"1\",\"1\",\"0\",\"0\",\"1\",\"0\",\"1\",\"1\",\"0\",\"0\",\"1\",\"0\",\"0\",\"1\",\"0\",\"1\",\"0\",\"1\",\"1\",\"0\",\"1\",\"0\",\"1\",\"0\",\"0\",\"1\",\"1\",\"0\",\"1\",\"0\",\"1\",\"1\",\"1\",\"0\",\"1\",\"1\",\"0\",\"0\",\"1\",\"0\",\"1\",\"1\",\"1\",\"1\",\"0\",\"0\",\"1\",\"0\",\"0\",\"1\",\"1\",\"1\",\"0\",\"1\",\"1\",\"0\",\"1\",\"0\",\"1\",\"0\",\"1\",\"0\",\"0\",\"0\",\"1\",\"0\",\"0\",\"1\",\"0\",\"1\",\"1\",\"0\",\"0\",\"1\",\"1\",\"0\",\"1\",\"1\",\"0\",\"0\",\"0\",\"1\",\"0\",\"1\",\"0\",\"1\",\"1\",\"0\",\"1\",\"1\",\"0\",\"0\",\"1\",\"1\",\"0\",\"0\",\"1\",\"0\",\"0\",\"1\",\"1\",\"1\",\"1\",\"1\",\"1\",\"1\",\"1\",\"1\",\"0\",\"1\",\"1\",\"0\",\"1\",\"1\",\"0\",\"1\",\"0\",\"1\",\"0\",\"0\",\"1\",\"0\",\"0\",\"0\",\"1\",\"1\",\"0\",\"1\",\"0\",\"1\",\"1\",\"0\",\"0\",\"1\",\"1\",\"0\",\"1\",\"0\",\"1\",\"0\",\"0\",\"0\",\"0\",\"1\",\"1\",\"1\",\"0\",\"0\",\"1\",\"0\",\"1\",\"0\",\"0\",\"1\",\"0\",\"1\",\"1\",\"0\",\"1\",\"0\",\"1\",\"1\",\"1\",\"1\",\"1\",\"0\",\"1\",\"1\",\"1\",\"0\",\"1\",\"1\",\"0\",\"0\",\"0\",\"1\",\"1\",\"1\",\"1\",\"1\",\"0\",\"0\",\"1\",\"0\",\"0\",\"1\",\"1\",\"1\",\"1\",\"0\",\"0\",\"0\",\"1\",\"1\",\"1\",\"1\",\"0\",\"1\",\"1\",\"1\",\"0\",\"0\",\"0\",\"1\",\"1\",\"0\",\"0\",\"0\",\"1\",\"0\",\"1\",\"0\",\"0\",\"0\",\"1\",\"1\",\"1\",\"0\",\"0\",\"0\",\"1\",\"1\",\"1\",\"0\",\"0\",\"0\",\"0\",\"1\",\"0\",\"1\",\"1\",\"0\",\"0\",\"1\",\"0\",\"1\",\"1\",\"1\",\"1\",\"0\",\"0\",\"1\",\"0\",\"0\",\"0\",\"1\",\"1\",\"1\",\"0\",\"1\",\"1\"],\"index\":[0,1,2,3,4,5,6,7,8,9,10,11,12,13,14,15,16,17,18,19,20,21,22,23,24,25,26,27,28,29,30,31,32,33,34,35,36,37,38,39,40,41,42,43,44,45,46,47,48,49,50,51,52,53,54,55,56,57,58,59,60,61,62,63,64,65,66,67,68,69,70,71,72,73,74,75,76,77,78,79,80,81,82,83,84,85,86,87,88,89,90,91,92,93,94,95,96,97,98,99,100,101,102,103,104,105,106,107,108,109,110,111,112,113,114,115,116,117,118,119,120,121,122,123,124,125,126,127,128,129,130,131,132,133,134,135,136,137,138,139,140,141,142,143,144,145,146,147,148,149,150,151,152,153,154,155,156,157,158,159,160,161,162,163,164,165,166,167,168,169,170,171,172,173,174,175,176,177,178,179,180,181,182,183,184,185,186,187,188,189,190,191,192,193,194,195,196,197,198,199,200,201,202,203,204,205,206,207,208,209,210,211,212,213,214,215,216,217,218,219,220,221,222,223,224,225,226,227,228,229,230,231,232,233,234,235,236,237,238,239,240,241,242,243,244,245,246,247,248,249,250,251,252,253,254,255,256,257,258,259,260,261,262,263,264,265,266,267,268,269,270,271,272,273,274,275,276,277,278,279,280,281,282,283,284,285,286,287,288,289,290,291,292,293,294,295,296,297,298,299,300,301,302,303,304,305,306,307,308,309,310,311,312,313,314,315,316,317,318,319,320,321,322,323,324,325,326,327,328,329,330,331,332,333,334,335,336,337,338,339,340,341,342,343,344,345,346,347,348,349,350,351,352,353,354,355,356,357,358,359,360,361,362,363,364,365,366,367,368,369,370,371,372,373,374,375,376,377,378,379,380,381,382,383,384,385,386,387,388,389,390,391,392,393,394,395,396,397,398,399,400,401,402,403,404,405,406,407,408,409,410,411,412,413,414,415,416,417,418,419,420,421,422,423,424,425,426,427,428,429,430,431,432,433,434,435,436,437,438,439,440,441,442,443,444,445,446,447,448,449,450,451,452,453,454,455,456,457,458,459,460,461,462,463,464,465,466,467,468,469,470,471,472,473,474,475,476,477,478,479,480,481,482,483,484,485,486,487,488,489,490,491,492,493,494,495,496,497,498,499,500,501,502,503,504,505,506,507,508,509,510,511,512,513,514,515,516,517,518,519,520,521,522,523,524,525,526,527,528,529,530,531,532,533,534,535,536,537,538,539,540,541,542,543,544,545,546,547,548,549,550,551,552,553,554,555,556,557,558,559,560,561,562,563,564,565,566,567,568,569,570,571,572,573,574,575,576,577,578,579,580,581,582,583,584,585,586,587,588,589,590,591,592,593,594,595,596,597,598,599,600,601,602,603,604,605,606,607,608,609,610,611,612,613,614,615,616,617,618,619,620,621,622,623,624,625,626,627,628,629,630,631,632,633,634,635,636,637,638,639,640,641,642,643,644,645,646,647,648,649,650,651,652,653,654,655,656,657,658,659,660,661,662,663,664,665,666,667,668,669,670,671,672,673,674,675,676,677,678,679,680,681,682,683,684,685,686,687,688,689,690,691,692,693,694,695,696,697,698,699,700,701,702,703,704,705,706,707,708,709,710,711,712,713,714,715,716,717,718,719,720,721,722,723,724,725,726,727,728,729,730,731,732,733,734,735,736,737,738,739,740,741,742,743,744,745,746,747,748,749,750,751,752,753,754,755,756,757,758,759,760,761,762,763,764,765,766,767,768,769,770,771,772,773,774,775,776,777,778,779,780,781,782,783,784,785,786,787,788,789,790,791,792,793,794,795,796,797,798,799,800,801,802,803,804,805,806,807,808,809,810,811,812,813,814,815,816,817,818,819,820,821,822,823,824,825,826,827,828,829,830,831,832,833,834,835,836,837,838,839,840,841,842,843,844,845,846,847,848,849,850,851,852,853,854,855,856,857,858,859,860,861,862,863,864,865,866,867,868,869,870,871,872,873,874,875,876,877,878,879,880,881,882,883,884,885,886,887,888,889,890,891,892,893,894,895,896,897,898,899,900,901,902,903,904,905,906,907,908,909,910,911,912,913,914,915,916,917,918,919,920,921,922,923,924,925,926,927,928,929,930,931,932,933,934,935,936,937,938,939,940,941,942,943,944,945,946,947,948,949,950,951,952,953,954,955,956,957,958,959,960,961,962,963,964,965,966,967,968,969,970,971,972,973,974,975,976,977,978,979,980,981,982,983,984,985,986,987,988,989,990,991,992,993,994,995,996,997,998,999,1000,1001,1002,1003,1004,1005,1006,1007,1008,1009,1010,1011,1012,1013,1014,1015,1016,1017,1018,1019,1020,1021,1022,1023,1024,1025,1026,1027,1028,1029,1030,1031,1032,1033,1034,1035,1036,1037,1038,1039,1040,1041,1042,1043,1044,1045,1046,1047,1048,1049,1050,1051,1052,1053,1054,1055,1056,1057,1058,1059,1060,1061,1062,1063,1064,1065,1066,1067,1068,1069,1070,1071,1072,1073,1074,1075,1076,1077,1078,1079,1080,1081,1082,1083,1084,1085,1086,1087,1088,1089,1090,1091,1092,1093,1094,1095,1096,1097,1098,1099,1100,1101,1102,1103,1104,1105,1106,1107,1108,1109,1110,1111,1112,1113,1114,1115,1116,1117,1118,1119,1120,1121,1122,1123,1124,1125,1126,1127,1128,1129,1130,1131,1132,1133,1134,1135,1136,1137,1138,1139,1140,1141,1142,1143,1144,1145,1146,1147,1148,1149,1150,1151,1152,1153,1154,1155,1156,1157,1158,1159,1160,1161,1162,1163,1164,1165,1166,1167,1168,1169,1170,1171,1172,1173,1174,1175,1176,1177,1178,1179,1180,1181,1182,1183,1184,1185,1186,1187,1188,1189,1190,1191,1192,1193,1194,1195,1196,1197,1198,1199,1200,1201,1202,1203,1204,1205,1206,1207,1208,1209,1210,1211,1212,1213,1214,1215,1216,1217,1218,1219,1220,1221,1222,1223,1224,1225,1226,1227,1228,1229,1230,1231,1232,1233,1234,1235,1236,1237,1238,1239,1240,1241,1242,1243,1244,1245,1246,1247,1248,1249,1250,1251,1252,1253,1254,1255,1256,1257],\"ohlc_high\":{\"__ndarray__\":\"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\",\"dtype\":\"float64\",\"order\":\"little\",\"shape\":[1258]},\"ohlc_low\":{\"__ndarray__\":\"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\",\"dtype\":\"float64\",\"order\":\"little\",\"shape\":[1258]}},\"selected\":{\"id\":\"1818\"},\"selection_policy\":{\"id\":\"1817\"}},\"id\":\"1691\",\"type\":\"ColumnDataSource\"},{\"attributes\":{\"coordinates\":null,\"data_source\":{\"id\":\"1691\"},\"glyph\":{\"id\":\"1798\"},\"group\":null,\"hover_glyph\":null,\"muted_glyph\":{\"id\":\"1800\"},\"nonselection_glyph\":{\"id\":\"1799\"},\"view\":{\"id\":\"1802\"}},\"id\":\"1801\",\"type\":\"GlyphRenderer\"},{\"attributes\":{},\"id\":\"1718\",\"type\":\"SaveTool\"},{\"attributes\":{\"coordinates\":null,\"group\":null},\"id\":\"1934\",\"type\":\"Title\"},{\"attributes\":{\"axis_label\":\"Volume\",\"coordinates\":null,\"formatter\":{\"id\":\"1789\"},\"group\":null,\"major_label_policy\":{\"id\":\"1964\"},\"minor_tick_line_color\":null,\"ticker\":{\"id\":\"1760\"}},\"id\":\"1759\",\"type\":\"LinearAxis\"},{\"attributes\":{\"toolbar\":{\"id\":\"1972\"}},\"id\":\"1973\",\"type\":\"ToolbarBox\"},{\"attributes\":{},\"id\":\"1698\",\"type\":\"DataRange1d\"},{\"attributes\":{\"coordinates\":null,\"data_source\":{\"id\":\"1691\"},\"glyph\":{\"id\":\"1792\"},\"group\":null,\"hover_glyph\":null,\"muted_glyph\":{\"id\":\"1794\"},\"nonselection_glyph\":{\"id\":\"1793\"},\"view\":{\"id\":\"1796\"}},\"id\":\"1795\",\"type\":\"GlyphRenderer\"},{\"attributes\":{\"axis\":{\"id\":\"1667\"},\"coordinates\":null,\"group\":null,\"ticker\":null},\"id\":\"1670\",\"type\":\"Grid\"},{\"attributes\":{\"line_alpha\":0.2,\"line_color\":\"#ff7f0e\",\"line_width\":1.3,\"x\":{\"field\":\"index\"},\"y\":{\"field\":\"ema(50)_1_1\"}},\"id\":\"1847\",\"type\":\"Line\"},{\"attributes\":{},\"id\":\"1816\",\"type\":\"AllLabels\"},{\"attributes\":{},\"id\":\"1779\",\"type\":\"BasicTickFormatter\"},{\"attributes\":{\"axis\":{\"id\":\"1755\"},\"coordinates\":null,\"group\":null,\"ticker\":null},\"id\":\"1758\",\"type\":\"Grid\"},{\"attributes\":{\"line_alpha\":{\"value\":0.1},\"x0\":{\"field\":\"index\"},\"x1\":{\"field\":\"index\"},\"y0\":{\"field\":\"High\"},\"y1\":{\"field\":\"Low\"}},\"id\":\"1793\",\"type\":\"Segment\"},{\"attributes\":{},\"id\":\"1680\",\"type\":\"ResetTool\"},{\"attributes\":{\"axis_label\":\"Profit / Loss\",\"coordinates\":null,\"formatter\":{\"id\":\"1745\"},\"group\":null,\"major_label_policy\":{\"id\":\"1937\"},\"minor_tick_line_color\":null,\"ticker\":{\"id\":\"1709\"}},\"id\":\"1708\",\"type\":\"LinearAxis\"},{\"attributes\":{\"dimensions\":\"width\"},\"id\":\"1675\",\"type\":\"PanTool\"},{\"attributes\":{\"bottom\":{\"field\":\"Close\"},\"fill_alpha\":{\"value\":0.1},\"fill_color\":{\"field\":\"inc\",\"transform\":{\"id\":\"1693\"}},\"hatch_alpha\":{\"value\":0.1},\"line_alpha\":{\"value\":0.1},\"top\":{\"field\":\"Open\"},\"width\":{\"value\":0.8},\"x\":{\"field\":\"index\"}},\"id\":\"1799\",\"type\":\"VBar\"},{\"attributes\":{\"coordinates\":null,\"data_source\":{\"id\":\"1691\"},\"glyph\":{\"id\":\"1865\"},\"group\":null,\"hover_glyph\":null,\"muted_glyph\":{\"id\":\"1867\"},\"nonselection_glyph\":{\"id\":\"1866\"},\"view\":{\"id\":\"1869\"}},\"id\":\"1868\",\"type\":\"GlyphRenderer\"},{\"attributes\":{},\"id\":\"1813\",\"type\":\"AllLabels\"},{\"attributes\":{},\"id\":\"1927\",\"type\":\"CrosshairTool\"},{\"attributes\":{\"dimensions\":\"width\",\"maintain_focus\":false},\"id\":\"1676\",\"type\":\"WheelZoomTool\"},{\"attributes\":{\"line_alpha\":{\"value\":0.2},\"line_color\":{\"field\":\"returns_positive\",\"transform\":{\"id\":\"1695\"}},\"line_dash\":{\"value\":\"dotted\"},\"line_width\":{\"value\":8},\"xs\":{\"field\":\"position_lines_xs\"},\"ys\":{\"field\":\"position_lines_ys\"}},\"id\":\"1806\",\"type\":\"MultiLine\"},{\"attributes\":{},\"id\":\"1663\",\"type\":\"LinearScale\"},{\"attributes\":{\"coordinates\":null,\"data_source\":{\"id\":\"1691\"},\"glyph\":{\"id\":\"1885\"},\"group\":null,\"hover_glyph\":null,\"muted_glyph\":{\"id\":\"1887\"},\"nonselection_glyph\":{\"id\":\"1886\"},\"view\":{\"id\":\"1889\"}},\"id\":\"1888\",\"type\":\"GlyphRenderer\"},{\"attributes\":{},\"id\":\"1678\",\"type\":\"UndoTool\"},{\"attributes\":{\"fill_color\":{\"field\":\"returns_positive\",\"transform\":{\"id\":\"1694\"}},\"marker\":{\"value\":\"triangle\"},\"size\":{\"field\":\"marker_size\"},\"x\":{\"field\":\"index\"},\"y\":{\"field\":\"returns_long\"}},\"id\":\"1730\",\"type\":\"Scatter\"},{\"attributes\":{\"label\":{\"value\":\"ema(50)\"},\"renderers\":[{\"id\":\"1848\"}]},\"id\":\"1863\",\"type\":\"LegendItem\"},{\"attributes\":{\"coordinates\":null,\"formatter\":{\"id\":\"1812\"},\"group\":null,\"major_label_policy\":{\"id\":\"1813\"},\"ticker\":{\"id\":\"1672\"}},\"id\":\"1671\",\"type\":\"LinearAxis\"},{\"attributes\":{\"coordinates\":null,\"formatter\":{\"id\":\"1939\"},\"group\":null,\"major_label_policy\":{\"id\":\"1940\"},\"ticker\":{\"id\":\"1705\"},\"visible\":false},\"id\":\"1704\",\"type\":\"LinearAxis\"},{\"attributes\":{},\"id\":\"1940\",\"type\":\"AllLabels\"},{\"attributes\":{},\"id\":\"1937\",\"type\":\"AllLabels\"},{\"attributes\":{\"label\":{\"value\":\"Trades (19)\"},\"renderers\":[{\"id\":\"1807\"}]},\"id\":\"1823\",\"type\":\"LegendItem\"},{\"attributes\":{},\"id\":\"1705\",\"type\":\"BasicTicker\"},{\"attributes\":{\"source\":{\"id\":\"1691\"}},\"id\":\"1786\",\"type\":\"CDSView\"},{\"attributes\":{},\"id\":\"1817\",\"type\":\"UnionRenderers\"},{\"attributes\":{},\"id\":\"1681\",\"type\":\"SaveTool\"},{\"attributes\":{},\"id\":\"1818\",\"type\":\"Selection\"},{\"attributes\":{\"factors\":[\"0\",\"1\"],\"palette\":[\"rgb(178, 27, 0)\",\"rgb(0, 178, 0)\"]},\"id\":\"1695\",\"type\":\"CategoricalColorMapper\"},{\"attributes\":{},\"id\":\"1700\",\"type\":\"LinearScale\"},{\"attributes\":{\"line_color\":\"#2ca02c\",\"line_width\":1.3,\"x\":{\"field\":\"index\"},\"y\":{\"field\":\"ema(100)_2_1\"}},\"id\":\"1865\",\"type\":\"Line\"},{\"attributes\":{},\"id\":\"1760\",\"type\":\"BasicTicker\"},{\"attributes\":{},\"id\":\"1679\",\"type\":\"RedoTool\"},{\"attributes\":{\"overlay\":{\"id\":\"1770\"}},\"id\":\"1765\",\"type\":\"BoxZoomTool\"},{\"attributes\":{\"callback\":null,\"mode\":\"vline\",\"point_policy\":\"follow_mouse\",\"renderers\":[{\"id\":\"1785\"}],\"tooltips\":[[\"#\",\"@index\"],[\"Volume\",\"@Volume{0.00 a}\"]]},\"id\":\"1787\",\"type\":\"HoverTool\"},{\"attributes\":{\"below\":[{\"id\":\"1704\"}],\"center\":[{\"id\":\"1707\"},{\"id\":\"1711\"},{\"id\":\"1728\"}],\"height\":90,\"left\":[{\"id\":\"1708\"}],\"min_border_bottom\":6,\"min_border_left\":0,\"min_border_right\":10,\"min_border_top\":3,\"outline_line_color\":\"#666666\",\"renderers\":[{\"id\":\"1733\"},{\"id\":\"1739\"}],\"sizing_mode\":\"stretch_width\",\"title\":{\"id\":\"1934\"},\"toolbar\":{\"id\":\"1720\"},\"toolbar_location\":null,\"width\":null,\"x_range\":{\"id\":\"1658\"},\"x_scale\":{\"id\":\"1700\"},\"y_range\":{\"id\":\"1698\"},\"y_scale\":{\"id\":\"1702\"}},\"id\":\"1696\",\"subtype\":\"Figure\",\"type\":\"Plot\"},{\"attributes\":{\"coordinates\":null,\"formatter\":{\"id\":\"1779\"},\"group\":null,\"major_label_policy\":{\"id\":\"1816\"},\"ticker\":{\"id\":\"1668\"},\"visible\":false},\"id\":\"1667\",\"type\":\"LinearAxis\"},{\"attributes\":{\"line_alpha\":{\"value\":0.2},\"x0\":{\"field\":\"index\"},\"x1\":{\"field\":\"index\"},\"y0\":{\"field\":\"High\"},\"y1\":{\"field\":\"Low\"}},\"id\":\"1794\",\"type\":\"Segment\"},{\"attributes\":{},\"id\":\"1715\",\"type\":\"UndoTool\"},{\"attributes\":{\"source\":{\"id\":\"1692\"}},\"id\":\"1808\",\"type\":\"CDSView\"},{\"attributes\":{},\"id\":\"1668\",\"type\":\"BasicTicker\"},{\"attributes\":{},\"id\":\"1709\",\"type\":\"BasicTicker\"},{\"attributes\":{\"line_alpha\":{\"value\":0.1},\"line_color\":{\"field\":\"returns_positive\",\"transform\":{\"id\":\"1695\"}},\"line_dash\":{\"value\":\"dotted\"},\"line_width\":{\"value\":8},\"xs\":{\"field\":\"position_lines_xs\"},\"ys\":{\"field\":\"position_lines_ys\"}},\"id\":\"1805\",\"type\":\"MultiLine\"},{\"attributes\":{\"line_color\":\"#d62728\",\"line_width\":1.3,\"x\":{\"field\":\"index\"},\"y\":{\"field\":\"ema(150)_3_1\"}},\"id\":\"1885\",\"type\":\"Line\"},{\"attributes\":{\"source\":{\"id\":\"1691\"}},\"id\":\"1796\",\"type\":\"CDSView\"},{\"attributes\":{\"overlay\":{\"id\":\"1719\"}},\"id\":\"1714\",\"type\":\"BoxZoomTool\"},{\"attributes\":{},\"id\":\"1812\",\"type\":\"BasicTickFormatter\"}],\"root_ids\":[\"1974\"]},\"title\":\"Bokeh Application\",\"version\":\"2.4.1\"}};\n",
       "  const render_items = [{\"docid\":\"690ec696-5804-4c2d-9a6b-861357b42d23\",\"root_ids\":[\"1974\"],\"roots\":{\"1974\":\"968ec7a6-f341-4a2b-82bf-cd1ed0279620\"}}];\n",
       "  root.Bokeh.embed.embed_items_notebook(docs_json, render_items);\n",
       "\n",
       "  }\n",
       "  if (root.Bokeh !== undefined) {\n",
       "    embed_document(root);\n",
       "  } else {\n",
       "    let attempts = 0;\n",
       "    const timer = setInterval(function(root) {\n",
       "      if (root.Bokeh !== undefined) {\n",
       "        clearInterval(timer);\n",
       "        embed_document(root);\n",
       "      } else {\n",
       "        attempts++;\n",
       "        if (attempts > 100) {\n",
       "          clearInterval(timer);\n",
       "          console.log(\"Bokeh: ERROR: Unable to run BokehJS code because BokehJS library is missing\");\n",
       "        }\n",
       "      }\n",
       "    }, 10, root)\n",
       "  }\n",
       "})(window);"
      ],
      "application/vnd.bokehjs_exec.v0+json": ""
     },
     "metadata": {
      "application/vnd.bokehjs_exec.v0+json": {
       "id": "1974"
      }
     },
     "output_type": "display_data"
    },
    {
     "data": {
      "text/html": [
       "<div style=\"display: table;\"><div style=\"display: table-row;\"><div style=\"display: table-cell;\"><b title=\"bokeh.models.layouts.Row\">Row</b>(</div><div style=\"display: table-cell;\">id&nbsp;=&nbsp;'1974', <span id=\"2144\" style=\"cursor: pointer;\">&hellip;)</span></div></div><div class=\"2143\" style=\"display: none;\"><div style=\"display: table-cell;\"></div><div style=\"display: table-cell;\">align&nbsp;=&nbsp;'start',</div></div><div class=\"2143\" style=\"display: none;\"><div style=\"display: table-cell;\"></div><div style=\"display: table-cell;\">aspect_ratio&nbsp;=&nbsp;None,</div></div><div class=\"2143\" style=\"display: none;\"><div style=\"display: table-cell;\"></div><div style=\"display: table-cell;\">background&nbsp;=&nbsp;None,</div></div><div class=\"2143\" style=\"display: none;\"><div style=\"display: table-cell;\"></div><div style=\"display: table-cell;\">children&nbsp;=&nbsp;[GridBox(id='1971', ...), ToolbarBox(id='1973', ...)],</div></div><div class=\"2143\" style=\"display: none;\"><div style=\"display: table-cell;\"></div><div style=\"display: table-cell;\">cols&nbsp;=&nbsp;'auto',</div></div><div class=\"2143\" style=\"display: none;\"><div style=\"display: table-cell;\"></div><div style=\"display: table-cell;\">css_classes&nbsp;=&nbsp;[],</div></div><div class=\"2143\" style=\"display: none;\"><div style=\"display: table-cell;\"></div><div style=\"display: table-cell;\">disabled&nbsp;=&nbsp;False,</div></div><div class=\"2143\" style=\"display: none;\"><div style=\"display: table-cell;\"></div><div style=\"display: table-cell;\">height&nbsp;=&nbsp;None,</div></div><div class=\"2143\" style=\"display: none;\"><div style=\"display: table-cell;\"></div><div style=\"display: table-cell;\">height_policy&nbsp;=&nbsp;'auto',</div></div><div class=\"2143\" style=\"display: none;\"><div style=\"display: table-cell;\"></div><div style=\"display: table-cell;\">js_event_callbacks&nbsp;=&nbsp;{},</div></div><div class=\"2143\" style=\"display: none;\"><div style=\"display: table-cell;\"></div><div style=\"display: table-cell;\">js_property_callbacks&nbsp;=&nbsp;{},</div></div><div class=\"2143\" style=\"display: none;\"><div style=\"display: table-cell;\"></div><div style=\"display: table-cell;\">margin&nbsp;=&nbsp;(0, 0, 0, 0),</div></div><div class=\"2143\" style=\"display: none;\"><div style=\"display: table-cell;\"></div><div style=\"display: table-cell;\">max_height&nbsp;=&nbsp;None,</div></div><div class=\"2143\" style=\"display: none;\"><div style=\"display: table-cell;\"></div><div style=\"display: table-cell;\">max_width&nbsp;=&nbsp;None,</div></div><div class=\"2143\" style=\"display: none;\"><div style=\"display: table-cell;\"></div><div style=\"display: table-cell;\">min_height&nbsp;=&nbsp;None,</div></div><div class=\"2143\" style=\"display: none;\"><div style=\"display: table-cell;\"></div><div style=\"display: table-cell;\">min_width&nbsp;=&nbsp;None,</div></div><div class=\"2143\" style=\"display: none;\"><div style=\"display: table-cell;\"></div><div style=\"display: table-cell;\">name&nbsp;=&nbsp;None,</div></div><div class=\"2143\" style=\"display: none;\"><div style=\"display: table-cell;\"></div><div style=\"display: table-cell;\">sizing_mode&nbsp;=&nbsp;'stretch_width',</div></div><div class=\"2143\" style=\"display: none;\"><div style=\"display: table-cell;\"></div><div style=\"display: table-cell;\">spacing&nbsp;=&nbsp;0,</div></div><div class=\"2143\" style=\"display: none;\"><div style=\"display: table-cell;\"></div><div style=\"display: table-cell;\">subscribed_events&nbsp;=&nbsp;[],</div></div><div class=\"2143\" style=\"display: none;\"><div style=\"display: table-cell;\"></div><div style=\"display: table-cell;\">syncable&nbsp;=&nbsp;True,</div></div><div class=\"2143\" style=\"display: none;\"><div style=\"display: table-cell;\"></div><div style=\"display: table-cell;\">tags&nbsp;=&nbsp;[],</div></div><div class=\"2143\" style=\"display: none;\"><div style=\"display: table-cell;\"></div><div style=\"display: table-cell;\">visible&nbsp;=&nbsp;True,</div></div><div class=\"2143\" style=\"display: none;\"><div style=\"display: table-cell;\"></div><div style=\"display: table-cell;\">width&nbsp;=&nbsp;None,</div></div><div class=\"2143\" style=\"display: none;\"><div style=\"display: table-cell;\"></div><div style=\"display: table-cell;\">width_policy&nbsp;=&nbsp;'auto')</div></div></div>\n",
       "<script>\n",
       "(function() {\n",
       "  let expanded = false;\n",
       "  const ellipsis = document.getElementById(\"2144\");\n",
       "  ellipsis.addEventListener(\"click\", function() {\n",
       "    const rows = document.getElementsByClassName(\"2143\");\n",
       "    for (let i = 0; i < rows.length; i++) {\n",
       "      const el = rows[i];\n",
       "      el.style.display = expanded ? \"none\" : \"table-row\";\n",
       "    }\n",
       "    ellipsis.innerHTML = expanded ? \"&hellip;)\" : \"&lsaquo;&lsaquo;&lsaquo;\";\n",
       "    expanded = !expanded;\n",
       "  });\n",
       "})();\n",
       "</script>\n"
      ],
      "text/plain": [
       "Row(id='1974', ...)"
      ]
     },
     "execution_count": 24,
     "metadata": {},
     "output_type": "execute_result"
    }
   ],
   "source": [
    "plot(results=results, df=df, indicators=results._strategy._indicators)"
   ]
  },
  {
   "cell_type": "code",
   "execution_count": 40,
   "id": "1771f6b5-bdc5-495b-8ed7-38f06d8751f2",
   "metadata": {},
   "outputs": [
    {
     "ename": "ValueError",
     "evalue": "file already exist set override to true if you want to override!",
     "output_type": "error",
     "traceback": [
      "\u001b[0;31m---------------------------------------------------------------------------\u001b[0m",
      "\u001b[0;31mValueError\u001b[0m                                Traceback (most recent call last)",
      "\u001b[0;32m/tmp/ipykernel_10918/2271093376.py\u001b[0m in \u001b[0;36m<module>\u001b[0;34m\u001b[0m\n\u001b[0;32m----> 1\u001b[0;31m \u001b[0mbt\u001b[0m\u001b[0;34m.\u001b[0m\u001b[0mlog_results\u001b[0m\u001b[0;34m(\u001b[0m\u001b[0mbacktest_results\u001b[0m\u001b[0;34m=\u001b[0m\u001b[0mresults\u001b[0m\u001b[0;34m,\u001b[0m \u001b[0mbacktest_name\u001b[0m\u001b[0;34m=\u001b[0m\u001b[0;34m\"bounce\"\u001b[0m\u001b[0;34m)\u001b[0m\u001b[0;34m\u001b[0m\u001b[0;34m\u001b[0m\u001b[0m\n\u001b[0m",
      "\u001b[0;32m~/Workspace/PythonProjects/just-trade-it/t_nachine/backtester/wrapper/backtest.py\u001b[0m in \u001b[0;36mlog_results\u001b[0;34m(self, backtest_results, backtest_name, ext, override)\u001b[0m\n\u001b[1;32m     94\u001b[0m             \u001b[0mext\u001b[0m \u001b[0;34m(\u001b[0m\u001b[0mstr\u001b[0m\u001b[0;34m)\u001b[0m\u001b[0;34m:\u001b[0m \u001b[0mextension\u001b[0m \u001b[0mof\u001b[0m \u001b[0mthe\u001b[0m \u001b[0mfile\u001b[0m\u001b[0;34m\u001b[0m\u001b[0;34m\u001b[0m\u001b[0m\n\u001b[1;32m     95\u001b[0m             \u001b[0moverride\u001b[0m \u001b[0;34m(\u001b[0m\u001b[0mbool\u001b[0m\u001b[0;34m)\u001b[0m\u001b[0;34m:\u001b[0m \u001b[0moverride\u001b[0m \u001b[0mthe\u001b[0m \u001b[0mfile\u001b[0m\u001b[0;34m\u001b[0m\u001b[0;34m\u001b[0m\u001b[0m\n\u001b[0;32m---> 96\u001b[0;31m         \"\"\"\n\u001b[0m\u001b[1;32m     97\u001b[0m         \u001b[0mfolder\u001b[0m \u001b[0;34m=\u001b[0m \u001b[0mset_log_folder\u001b[0m\u001b[0;34m(\u001b[0m\u001b[0mlog_folder\u001b[0m\u001b[0;34m=\u001b[0m\u001b[0mself\u001b[0m\u001b[0;34m.\u001b[0m\u001b[0m_log_folder\u001b[0m\u001b[0;34m)\u001b[0m\u001b[0;34m\u001b[0m\u001b[0;34m\u001b[0m\u001b[0m\n\u001b[1;32m     98\u001b[0m \u001b[0;34m\u001b[0m\u001b[0m\n",
      "\u001b[0;31mValueError\u001b[0m: file already exist set override to true if you want to override!"
     ]
    }
   ],
   "source": [
    "bt.log_results(backtest_results=results, backtest_name=\"bounce\")"
   ]
  },
  {
   "cell_type": "markdown",
   "id": "7cf401d0-a7a4-4d3f-a21b-97cc57087959",
   "metadata": {},
   "source": [
    "###  Extreme Rsi"
   ]
  },
  {
   "cell_type": "code",
   "execution_count": 4,
   "id": "7cf51a49-2094-432d-92ad-7b975d4f0071",
   "metadata": {},
   "outputs": [
    {
     "name": "stderr",
     "output_type": "stream",
     "text": [
      "100%|███████████████████████████████████████| 7124/7124 [20:21<00:00,  5.83it/s]\n"
     ]
    }
   ],
   "source": [
    "extreme_results = bt.run(strategy=ExtremeRSI, stock_path=\"archive/Stocks/\")"
   ]
  },
  {
   "cell_type": "code",
   "execution_count": 6,
   "id": "51e68011-0541-45cc-a113-2a25e12a092f",
   "metadata": {},
   "outputs": [],
   "source": [
    "extreme_results.Volume = extreme_results.Volume.astype(int)\n",
    "extreme_results.EntryBar = extreme_results.EntryBar.astype(int)\n",
    "extreme_results.ExitBar = extreme_results.ExitBar.astype(int)\n",
    "extreme_results.Size = extreme_results.Size.astype(int)"
   ]
  },
  {
   "cell_type": "code",
   "execution_count": 8,
   "id": "ea2a5bf3-e46d-4bc9-bfd2-7906e5192e58",
   "metadata": {},
   "outputs": [],
   "source": [
    "bt.log_results(backtest_results=extreme_results, backtest_name=\"extreme_rsi\")"
   ]
  },
  {
   "cell_type": "markdown",
   "id": "dbda680c-a5b1-482a-bdbe-c2c4782f36a7",
   "metadata": {},
   "source": [
    "## Build Dataset "
   ]
  },
  {
   "cell_type": "code",
   "execution_count": 369,
   "id": "fa1fd7e5-91eb-4077-bafe-54b6baabd3ce",
   "metadata": {},
   "outputs": [],
   "source": [
    "def STOCHASTICS(data, period, k):\n",
    "    close, low, high = data.Close, data.Low, data.High\n",
    "    l_period = low.rolling(window=period).min()\n",
    "    h_period = high.rolling(window=period).max()\n",
    "    per_k = 100*(close - l_period) / (h_period - l_period)\n",
    "    per_k = per_k.rolling(window = k).mean()\n",
    "    return per_k\n",
    "\n",
    "\n",
    "def RSI(price, n=14)  -> pd.Series:\n",
    "    prices = price\n",
    "    deltas = np.diff(prices)\n",
    "    seed = deltas[:n+1]\n",
    "    up = seed[seed >= 0].sum()/n\n",
    "    down = -seed[seed < 0].sum()/n\n",
    "    rs = up/down\n",
    "    rsi = np.zeros_like(prices)\n",
    "    rsi[:n] = 100. - 100./(1.+rs)\n",
    "    for i in range(n, len(prices)):\n",
    "        delta = deltas[i-1]  # The diff is 1 shorter\n",
    "        if delta > 0:\n",
    "            upval = delta\n",
    "            downval = 0.\n",
    "        else:\n",
    "            upval = 0.\n",
    "            downval = -delta\n",
    "        up = (up*(n-1) + upval)/n\n",
    "        down = (down*(n-1) + downval)/n\n",
    "        rs = up/down\n",
    "        rsi[i] = 100. - 100./(1.+rs)\n",
    "    return pd.Series(rsi)"
   ]
  },
  {
   "cell_type": "code",
   "execution_count": 372,
   "id": "4c9c63b9-febc-45d3-b091-2ae9eba51fe9",
   "metadata": {},
   "outputs": [],
   "source": [
    "FEATURES = ['stochs', 'rsi', 'macd50_100', 'macd50_100_signal', 'bullish']\n",
    "HISTORY = 10\n"
   ]
  },
  {
   "cell_type": "code",
   "execution_count": 373,
   "id": "b4954d48-76bd-45d9-8c35-c354fd4a4119",
   "metadata": {},
   "outputs": [
    {
     "data": {
      "text/plain": [
       "5"
      ]
     },
     "execution_count": 373,
     "metadata": {},
     "output_type": "execute_result"
    }
   ],
   "source": [
    "len(FEATURES)"
   ]
  },
  {
   "cell_type": "code",
   "execution_count": 429,
   "id": "5ae6758f-aada-4617-9bdb-a982f1e685d9",
   "metadata": {},
   "outputs": [
    {
     "name": "stderr",
     "output_type": "stream",
     "text": [
      "100%|███████████████████████████████████████| 5426/5426 [15:42<00:00,  5.76it/s]\n"
     ]
    }
   ],
   "source": [
    "X, Y = build_features(path=path, bt_results=enriched_btr)"
   ]
  },
  {
   "cell_type": "code",
   "execution_count": 430,
   "id": "087e657c-fd77-45b1-94d6-59cad1aa01ac",
   "metadata": {},
   "outputs": [],
   "source": [
    "for j in range(len(FEATURES)):\n",
    "    \n",
    "    for i in range(HISTORY):\n",
    "        X.rename(columns={j + i * len(FEATURES): FEATURES[j] + f\"_{i}\"}, inplace=True)"
   ]
  },
  {
   "cell_type": "code",
   "execution_count": 431,
   "id": "2230395d-4a58-475a-a8b9-1d2970b4edc9",
   "metadata": {},
   "outputs": [],
   "source": [
    "Y.rename(columns={0: \"label\"}, inplace=True)"
   ]
  },
  {
   "cell_type": "code",
   "execution_count": 432,
   "id": "6e029c46-7613-47b3-bb58-684b8444316d",
   "metadata": {},
   "outputs": [],
   "source": [
    "X.to_csv('bounce_features.csv', index=False)"
   ]
  },
  {
   "cell_type": "code",
   "execution_count": 433,
   "id": "6d2b0953-5943-4b4a-bf99-22b1ea70c563",
   "metadata": {},
   "outputs": [],
   "source": [
    "Y.to_csv('bounce_labels.csv', index=False)\n"
   ]
  },
  {
   "cell_type": "markdown",
   "id": "b1184d41-4a7b-4e8a-9c54-fab6aef9d156",
   "metadata": {},
   "source": [
    "## Read data "
   ]
  },
  {
   "cell_type": "code",
   "execution_count": 596,
   "id": "92ffbe41-0bd7-48eb-be66-7259d5291015",
   "metadata": {},
   "outputs": [],
   "source": [
    "X = pd.read_csv('bounce_features.csv')\n",
    "Y = pd.read_csv('bounce_labels.csv')"
   ]
  },
  {
   "cell_type": "code",
   "execution_count": 597,
   "id": "a2bdfa0d-a4a1-4b43-93ed-a4411b20112f",
   "metadata": {},
   "outputs": [
    {
     "data": {
      "text/plain": [
       "((59019, 53), (59019, 4))"
      ]
     },
     "execution_count": 597,
     "metadata": {},
     "output_type": "execute_result"
    }
   ],
   "source": [
    "X.shape, Y.shape"
   ]
  },
  {
   "cell_type": "code",
   "execution_count": 598,
   "id": "2edca41a-6b28-4da9-9f7d-c7465eaf2179",
   "metadata": {},
   "outputs": [],
   "source": [
    "X_sorted = X.sort_values(by=['EntryTime'])\n",
    "Y_sorted = Y.sort_values(by=['EntryTime'])"
   ]
  },
  {
   "cell_type": "code",
   "execution_count": 599,
   "id": "63afe684-cb9f-466d-b6ac-5fba19e822b2",
   "metadata": {},
   "outputs": [],
   "source": [
    "X_sorted['EntryTime'] = pd.to_datetime(X_sorted['EntryTime'])\n",
    "X_sorted['ExitTime'] = pd.to_datetime(X_sorted['ExitTime'])\n",
    "\n",
    "Y_sorted['EntryTime'] = pd.to_datetime(Y_sorted['EntryTime'])\n",
    "Y_sorted['ExitTime'] = pd.to_datetime(Y_sorted['ExitTime'])"
   ]
  },
  {
   "cell_type": "code",
   "execution_count": 600,
   "id": "c0b9e535-d103-4682-8c40-c13b89164d7e",
   "metadata": {},
   "outputs": [],
   "source": [
    "X_sorted['EntryYear'] = X_sorted['EntryTime'].dt.year\n",
    "X_sorted['ExitYear'] = X_sorted['ExitTime'].dt.year\n",
    "\n",
    "Y_sorted['EntryYear'] = Y_sorted['EntryTime'].dt.year\n",
    "Y_sorted['ExitYear'] = Y_sorted['ExitTime'].dt.year"
   ]
  },
  {
   "cell_type": "code",
   "execution_count": null,
   "id": "7a7c2939-633e-413b-b62c-5e4103d117ab",
   "metadata": {},
   "outputs": [],
   "source": []
  },
  {
   "cell_type": "code",
   "execution_count": 601,
   "id": "af71b467-8084-4228-b293-c34c9d518d1b",
   "metadata": {},
   "outputs": [],
   "source": [
    "# train before 2015\n",
    "\n",
    "X_train = X_sorted[X_sorted.EntryYear <= 2015].drop(columns=['EntryTime', 'EntryYear', 'ExitTime', 'ExitYear', 'Symbol'])\n",
    "X_test = X_sorted[X_sorted.EntryYear > 2015].drop(columns=['EntryTime', 'EntryYear', 'ExitTime', 'ExitYear', 'Symbol'])\n",
    "\n",
    "Y_train = Y_sorted[Y_sorted.EntryYear <= 2015]['label']\n",
    "Y_test = Y_sorted[Y_sorted.EntryYear > 2015][\"label\"]"
   ]
  },
  {
   "cell_type": "code",
   "execution_count": 602,
   "id": "e3dd6cbe-acad-464d-abef-20357899f0ee",
   "metadata": {},
   "outputs": [
    {
     "data": {
      "text/plain": [
       "((48508,), (48508, 50), (10511, 50), (10511,))"
      ]
     },
     "execution_count": 602,
     "metadata": {},
     "output_type": "execute_result"
    }
   ],
   "source": [
    "Y_train.shape, X_train.shape, X_test.shape, Y_test.shape"
   ]
  },
  {
   "cell_type": "code",
   "execution_count": 603,
   "id": "4bdb0941-9180-41fe-ad11-7f33bbb88e38",
   "metadata": {},
   "outputs": [],
   "source": [
    "cols2use = [col for col in X_train.columns if \"macd\" not in col]"
   ]
  },
  {
   "cell_type": "code",
   "execution_count": 610,
   "id": "ae8ae7e0-3fdb-4b80-a4e7-6c16c3358936",
   "metadata": {},
   "outputs": [],
   "source": [
    "from sklearn.metrics import recall_score, precision_score\n",
    "\n",
    "def evalute(model, x_train, x_test):\n",
    "    \n",
    "    y_pred_train = model.predict(x_train)\n",
    "    y_pred_test = model.predict(x_test)\n",
    "    pr_train = precision_score(y_pred_train,Y_train)\n",
    "    pr_test = precision_score(y_pred_test,Y_test)\n",
    "    re_train = recall_score(y_pred_train,Y_train)\n",
    "    re_test = recall_score(y_pred_test, Y_test)\n",
    "\n",
    "    print('Train Precision is:', pr_train*100)\n",
    "    print('Test Precision is:', pr_test*100)\n",
    "    print('Train Recall is:', re_train*100)\n",
    "    print('Test Recall is:', re_test*100)"
   ]
  },
  {
   "cell_type": "code",
   "execution_count": 611,
   "id": "7c3ae50a-4862-4dc2-acb4-435c789f9fca",
   "metadata": {},
   "outputs": [],
   "source": [
    "from lightgbm import LGBMClassifier"
   ]
  },
  {
   "cell_type": "code",
   "execution_count": 621,
   "id": "0bfc9067-cdb5-4141-8d46-751b7dc49da4",
   "metadata": {},
   "outputs": [],
   "source": [
    "clf = LGBMClassifier(random_state = 2,\n",
    "                     n_estimators = 500,\n",
    "                     learning_rate=0.6,\n",
    "                    )"
   ]
  },
  {
   "cell_type": "code",
   "execution_count": 622,
   "id": "ba1ad6a6-f4a5-44d5-b284-8cf80b7271f3",
   "metadata": {},
   "outputs": [
    {
     "data": {
      "text/plain": [
       "LGBMClassifier(learning_rate=0.6, n_estimators=500, random_state=2)"
      ]
     },
     "execution_count": 622,
     "metadata": {},
     "output_type": "execute_result"
    }
   ],
   "source": [
    "clf.fit(X_train, Y_train)"
   ]
  },
  {
   "cell_type": "code",
   "execution_count": 623,
   "id": "0adc9d72-e5c3-4674-978e-f721df78add7",
   "metadata": {},
   "outputs": [
    {
     "name": "stdout",
     "output_type": "stream",
     "text": [
      "Train Precision is: 98.31823360277762\n",
      "Test Precision is: 30.014292520247736\n",
      "Train Recall is: 99.72486656028174\n",
      "Test Recall is: 40.723981900452486\n"
     ]
    }
   ],
   "source": [
    "evalute(clf, X_train, X_test)"
   ]
  },
  {
   "cell_type": "code",
   "execution_count": null,
   "id": "51e3ca68-e1a4-404f-b768-446a5230bbb5",
   "metadata": {},
   "outputs": [],
   "source": []
  },
  {
   "cell_type": "code",
   "execution_count": null,
   "id": "427ab239-f791-43e8-8fc2-b6eec1151069",
   "metadata": {},
   "outputs": [],
   "source": []
  },
  {
   "cell_type": "code",
   "execution_count": null,
   "id": "df79745c-3711-4739-a17a-8b0bdc4f9cca",
   "metadata": {},
   "outputs": [],
   "source": []
  },
  {
   "cell_type": "code",
   "execution_count": null,
   "id": "5f4f85ea-5dbe-4761-a1e4-ea1f399effef",
   "metadata": {},
   "outputs": [],
   "source": []
  },
  {
   "cell_type": "code",
   "execution_count": null,
   "id": "c199bc0f-a114-4e5b-8530-82442e98991c",
   "metadata": {},
   "outputs": [],
   "source": []
  },
  {
   "cell_type": "code",
   "execution_count": null,
   "id": "30563f59-adec-4c14-9f9d-4ec841f3f972",
   "metadata": {},
   "outputs": [],
   "source": []
  },
  {
   "cell_type": "code",
   "execution_count": null,
   "id": "d3aaa05a-a5f0-431d-a95f-f2d790b26ba6",
   "metadata": {},
   "outputs": [],
   "source": []
  },
  {
   "cell_type": "code",
   "execution_count": null,
   "id": "524dc4af-ca95-4588-bf5d-773b54a44bfc",
   "metadata": {},
   "outputs": [],
   "source": []
  },
  {
   "cell_type": "code",
   "execution_count": 543,
   "id": "6c62df63-5c01-4d77-a691-0959ba0a5766",
   "metadata": {},
   "outputs": [],
   "source": [
    "sample_df = pd.read_csv('yahoo.csv')"
   ]
  },
  {
   "cell_type": "markdown",
   "id": "af0b1fc6-645a-4408-a944-1f307709540d",
   "metadata": {},
   "source": [
    "## Backtest From 2018"
   ]
  },
  {
   "cell_type": "code",
   "execution_count": 145,
   "id": "68875476-ef2d-4020-be49-cb30b747853d",
   "metadata": {},
   "outputs": [],
   "source": [
    "bt = Backtest()"
   ]
  },
  {
   "cell_type": "code",
   "execution_count": 545,
   "id": "315977ef-81a9-412a-915d-cf9e0798f661",
   "metadata": {},
   "outputs": [],
   "source": [
    "ress = pd.DataFrame()\n",
    "\n",
    "for s in sample_df.Symbol.unique():\n",
    "    try:\n",
    "        data = sample_df[sample_df.Symbol == s]\n",
    "        data = data[data['Date']>pd.to_datetime('2018-01-01')]\n",
    "        data.set_index('Date', inplace=True)\n",
    "        res = bt.run(strategy=Bouncing, data=data)._trades\n",
    "        res['Symbol'] = [s for _ in range(len(res))]\n",
    "        ress = ress.append(res)\n",
    "    \n",
    "    except:\n",
    "        pass"
   ]
  },
  {
   "cell_type": "code",
   "execution_count": 546,
   "id": "446eaa0c-bdf0-46bf-ade8-b540110e624c",
   "metadata": {},
   "outputs": [
    {
     "data": {
      "text/html": [
       "<div>\n",
       "<style scoped>\n",
       "    .dataframe tbody tr th:only-of-type {\n",
       "        vertical-align: middle;\n",
       "    }\n",
       "\n",
       "    .dataframe tbody tr th {\n",
       "        vertical-align: top;\n",
       "    }\n",
       "\n",
       "    .dataframe thead th {\n",
       "        text-align: right;\n",
       "    }\n",
       "</style>\n",
       "<table border=\"1\" class=\"dataframe\">\n",
       "  <thead>\n",
       "    <tr style=\"text-align: right;\">\n",
       "      <th></th>\n",
       "    </tr>\n",
       "  </thead>\n",
       "  <tbody>\n",
       "  </tbody>\n",
       "</table>\n",
       "</div>"
      ],
      "text/plain": [
       "Empty DataFrame\n",
       "Columns: []\n",
       "Index: []"
      ]
     },
     "execution_count": 546,
     "metadata": {},
     "output_type": "execute_result"
    }
   ],
   "source": [
    "ress"
   ]
  },
  {
   "cell_type": "code",
   "execution_count": 180,
   "id": "a31e5a98-9080-4f0f-be5c-c7225fc00f29",
   "metadata": {},
   "outputs": [
    {
     "data": {
      "text/plain": [
       "0.3754361479413817"
      ]
     },
     "execution_count": 180,
     "metadata": {},
     "output_type": "execute_result"
    }
   ],
   "source": [
    "(ress.PnL >= 0).mean()"
   ]
  },
  {
   "cell_type": "code",
   "execution_count": 181,
   "id": "f080df0b-82cf-473e-9c1e-d819586950ef",
   "metadata": {},
   "outputs": [],
   "source": [
    "ress.drop_duplicates(inplace=True)"
   ]
  },
  {
   "cell_type": "code",
   "execution_count": 200,
   "id": "1156f649-cc90-4c4a-9895-d759e0400382",
   "metadata": {},
   "outputs": [
    {
     "data": {
      "text/plain": [
       "3853"
      ]
     },
     "execution_count": 200,
     "metadata": {},
     "output_type": "execute_result"
    }
   ],
   "source": [
    "len(ress)"
   ]
  },
  {
   "cell_type": "code",
   "execution_count": 215,
   "id": "9150a2f1-82a5-4573-a1d0-5b5983c9050b",
   "metadata": {},
   "outputs": [],
   "source": [
    "X = np.array(np.zeros((1,history * len(features))))\n",
    "Y = np.array(np.zeros(1,))"
   ]
  },
  {
   "cell_type": "code",
   "execution_count": 216,
   "id": "e70f04e2-f146-4904-b3d4-744f5cb23ff4",
   "metadata": {},
   "outputs": [
    {
     "name": "stderr",
     "output_type": "stream",
     "text": [
      "100%|█████████████████████████████████████████| 856/856 [07:15<00:00,  1.97it/s]\n"
     ]
    }
   ],
   "source": [
    "stock_names = ress.Symbol.unique()\n",
    "\n",
    "for symbol in tqdm(stock_names):\n",
    "    trades = ress[ress.Symbol == symbol]\n",
    "    df = sample_df[sample_df.Symbol == symbol]\n",
    "    df.index = range(len(df))\n",
    "    ## supports \n",
    "    for i in [18,50,100, 150, 200]:\n",
    "        df['EMA' + str(i)] = df['Close'].ewm(span = i, adjust = False).mean()\n",
    "\n",
    "    df['stochs'] = STOCHASTICS(df, 5, 3)/100\n",
    "    df['rsi'] = RSI(df['Close'], n = 2)/100\n",
    "    df['macd50_100'] = df['EMA50'] - df['EMA100'] \n",
    "    \n",
    "    for f in  ['Open','High','Low','Close']:\n",
    "        df[f] = (df[f].pct_change(1)).cumsum()\n",
    "        df.dropna(inplace = True)\n",
    "\n",
    "    ## supports \n",
    "    for i in [18,50,100, 150, 200]:\n",
    "        df['EMA' + str(i)] = df['Close'].ewm(span = i, adjust = False).mean()\n",
    "    \n",
    "    \n",
    "    for i, t in trades.iterrows():\n",
    "        try:\n",
    "        \n",
    "            df_history = df.iloc[int(t.EntryBar) - history: int(t.EntryBar)]\n",
    "            X = np.append(X, df_history[features].to_numpy().reshape((1, history * len(features))), axis = 0)\n",
    "            Y = np.append(Y, t.PnL>0)\n",
    "        \n",
    "        except:\n",
    "            pass "
   ]
  },
  {
   "cell_type": "code",
   "execution_count": 217,
   "id": "83934f00-2037-4959-bccc-dbf36ab52ce4",
   "metadata": {},
   "outputs": [
    {
     "data": {
      "text/plain": [
       "((3835, 80), (3835,))"
      ]
     },
     "execution_count": 217,
     "metadata": {},
     "output_type": "execute_result"
    }
   ],
   "source": [
    "X = X[1:]\n",
    "Y = Y[1:]\n",
    "X.shape, Y.shape"
   ]
  },
  {
   "cell_type": "code",
   "execution_count": 218,
   "id": "5fac3a01-941d-4686-bbb4-f98641d94c40",
   "metadata": {},
   "outputs": [],
   "source": [
    "X_df = pd.DataFrame(X)\n",
    "Y_df = pd.DataFrame(Y)"
   ]
  },
  {
   "cell_type": "code",
   "execution_count": 219,
   "id": "4ef869f2-6b60-443b-9d3a-655c1b29fbe6",
   "metadata": {},
   "outputs": [],
   "source": [
    "X_df = X_df.replace([np.inf, -np.inf], np.nan)"
   ]
  },
  {
   "cell_type": "code",
   "execution_count": 220,
   "id": "48a45599-6b78-405e-9b26-95c3e147cafe",
   "metadata": {},
   "outputs": [],
   "source": [
    "Y_df = Y_df.iloc[X_df.index]"
   ]
  },
  {
   "cell_type": "code",
   "execution_count": 221,
   "id": "d913539b-83a7-47ca-9189-87216425222f",
   "metadata": {},
   "outputs": [
    {
     "data": {
      "text/plain": [
       "array([0., 0., 1., ..., 0., 1., 0.])"
      ]
     },
     "execution_count": 221,
     "metadata": {},
     "output_type": "execute_result"
    }
   ],
   "source": [
    "clf.predict(X_df)"
   ]
  },
  {
   "cell_type": "code",
   "execution_count": 229,
   "id": "9dc73257-a16b-4a29-ae4b-9adacc5857c6",
   "metadata": {},
   "outputs": [
    {
     "data": {
      "text/plain": [
       "(0.2364394993045897, 0.396732788798133)"
      ]
     },
     "execution_count": 229,
     "metadata": {},
     "output_type": "execute_result"
    }
   ],
   "source": [
    "recall_score(Y_df, clf.predict(X_df)), precision_score(Y_df, clf.predict(X_df))"
   ]
  },
  {
   "cell_type": "markdown",
   "id": "041a5f0d-8129-476f-8372-0f3429de0151",
   "metadata": {},
   "source": [
    "## Checks up"
   ]
  },
  {
   "cell_type": "code",
   "execution_count": 91,
   "id": "4da34fdc-b591-48e2-94ef-cf4e2c98de6b",
   "metadata": {},
   "outputs": [
    {
     "data": {
      "text/plain": [
       "'bcs_d.us.txt'"
      ]
     },
     "execution_count": 91,
     "metadata": {},
     "output_type": "execute_result"
    }
   ],
   "source": [
    "symbol = np.random.choice(stock_names)\n",
    "symbol"
   ]
  },
  {
   "cell_type": "code",
   "execution_count": 92,
   "id": "b8808afe-3d2d-4779-afa2-e12740dab117",
   "metadata": {},
   "outputs": [],
   "source": [
    "trades = enriched_btr[enriched_btr.Symbol == symbol]\n",
    "df = pd.read_csv(f\"{path}/{symbol}\")\n",
    "\n"
   ]
  },
  {
   "cell_type": "code",
   "execution_count": 93,
   "id": "e1f3e33f-d861-4b34-97d3-8a2badd87b90",
   "metadata": {},
   "outputs": [
    {
     "data": {
      "text/plain": [
       "4"
      ]
     },
     "execution_count": 93,
     "metadata": {},
     "output_type": "execute_result"
    }
   ],
   "source": [
    "len(trades)"
   ]
  }
 ],
 "metadata": {
  "kernelspec": {
   "display_name": "Python 3 (ipykernel)",
   "language": "python",
   "name": "python3"
  },
  "language_info": {
   "codemirror_mode": {
    "name": "ipython",
    "version": 3
   },
   "file_extension": ".py",
   "mimetype": "text/x-python",
   "name": "python",
   "nbconvert_exporter": "python",
   "pygments_lexer": "ipython3",
   "version": "3.8.10"
  }
 },
 "nbformat": 4,
 "nbformat_minor": 5
}
