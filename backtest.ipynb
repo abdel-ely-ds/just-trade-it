{
 "cells": [
  {
   "cell_type": "code",
   "execution_count": 1,
   "id": "dbb8e414",
   "metadata": {},
   "outputs": [],
   "source": [
    "%load_ext autoreload\n",
    "%autoreload 2"
   ]
  },
  {
   "cell_type": "code",
   "execution_count": 2,
   "id": "9e40c531-e3ec-468d-840d-dddd6ad7fa26",
   "metadata": {
    "tags": []
   },
   "outputs": [
    {
     "name": "stderr",
     "output_type": "stream",
     "text": [
      "/home/abdelelyds/Workspace/PythonProjects/just-trade-it/t_nachine/backtester/core/_plotting.py:43: UserWarning: Jupyter Notebook detected. Setting Bokeh output to notebook. This may not work in Jupyter clients without JavaScript support (e.g. PyCharm, Spyder IDE). Reset with `core.set_bokeh_output(notebook=False)`.\n",
      "  warnings.warn(\n"
     ]
    },
    {
     "data": {
      "text/html": [
       "\n",
       "    <div class=\"bk-root\">\n",
       "        <a href=\"https://bokeh.org\" target=\"_blank\" class=\"bk-logo bk-logo-small bk-logo-notebook\"></a>\n",
       "        <span id=\"1002\">Loading BokehJS ...</span>\n",
       "    </div>"
      ]
     },
     "metadata": {},
     "output_type": "display_data"
    },
    {
     "data": {
      "application/javascript": [
       "\n",
       "(function(root) {\n",
       "  function now() {\n",
       "    return new Date();\n",
       "  }\n",
       "\n",
       "  const force = true;\n",
       "\n",
       "  if (typeof root._bokeh_onload_callbacks === \"undefined\" || force === true) {\n",
       "    root._bokeh_onload_callbacks = [];\n",
       "    root._bokeh_is_loading = undefined;\n",
       "  }\n",
       "\n",
       "  const JS_MIME_TYPE = 'application/javascript';\n",
       "  const HTML_MIME_TYPE = 'text/html';\n",
       "  const EXEC_MIME_TYPE = 'application/vnd.bokehjs_exec.v0+json';\n",
       "  const CLASS_NAME = 'output_bokeh rendered_html';\n",
       "\n",
       "  /**\n",
       "   * Render data to the DOM node\n",
       "   */\n",
       "  function render(props, node) {\n",
       "    const script = document.createElement(\"script\");\n",
       "    node.appendChild(script);\n",
       "  }\n",
       "\n",
       "  /**\n",
       "   * Handle when an output is cleared or removed\n",
       "   */\n",
       "  function handleClearOutput(event, handle) {\n",
       "    const cell = handle.cell;\n",
       "\n",
       "    const id = cell.output_area._bokeh_element_id;\n",
       "    const server_id = cell.output_area._bokeh_server_id;\n",
       "    // Clean up Bokeh references\n",
       "    if (id != null && id in Bokeh.index) {\n",
       "      Bokeh.index[id].model.document.clear();\n",
       "      delete Bokeh.index[id];\n",
       "    }\n",
       "\n",
       "    if (server_id !== undefined) {\n",
       "      // Clean up Bokeh references\n",
       "      const cmd_clean = \"from bokeh.io.state import curstate; print(curstate().uuid_to_server['\" + server_id + \"'].get_sessions()[0].document.roots[0]._id)\";\n",
       "      cell.notebook.kernel.execute(cmd_clean, {\n",
       "        iopub: {\n",
       "          output: function(msg) {\n",
       "            const id = msg.content.text.trim();\n",
       "            if (id in Bokeh.index) {\n",
       "              Bokeh.index[id].model.document.clear();\n",
       "              delete Bokeh.index[id];\n",
       "            }\n",
       "          }\n",
       "        }\n",
       "      });\n",
       "      // Destroy server and session\n",
       "      const cmd_destroy = \"import bokeh.io.notebook as ion; ion.destroy_server('\" + server_id + \"')\";\n",
       "      cell.notebook.kernel.execute(cmd_destroy);\n",
       "    }\n",
       "  }\n",
       "\n",
       "  /**\n",
       "   * Handle when a new output is added\n",
       "   */\n",
       "  function handleAddOutput(event, handle) {\n",
       "    const output_area = handle.output_area;\n",
       "    const output = handle.output;\n",
       "\n",
       "    // limit handleAddOutput to display_data with EXEC_MIME_TYPE content only\n",
       "    if ((output.output_type != \"display_data\") || (!Object.prototype.hasOwnProperty.call(output.data, EXEC_MIME_TYPE))) {\n",
       "      return\n",
       "    }\n",
       "\n",
       "    const toinsert = output_area.element.find(\".\" + CLASS_NAME.split(' ')[0]);\n",
       "\n",
       "    if (output.metadata[EXEC_MIME_TYPE][\"id\"] !== undefined) {\n",
       "      toinsert[toinsert.length - 1].firstChild.textContent = output.data[JS_MIME_TYPE];\n",
       "      // store reference to embed id on output_area\n",
       "      output_area._bokeh_element_id = output.metadata[EXEC_MIME_TYPE][\"id\"];\n",
       "    }\n",
       "    if (output.metadata[EXEC_MIME_TYPE][\"server_id\"] !== undefined) {\n",
       "      const bk_div = document.createElement(\"div\");\n",
       "      bk_div.innerHTML = output.data[HTML_MIME_TYPE];\n",
       "      const script_attrs = bk_div.children[0].attributes;\n",
       "      for (let i = 0; i < script_attrs.length; i++) {\n",
       "        toinsert[toinsert.length - 1].firstChild.setAttribute(script_attrs[i].name, script_attrs[i].value);\n",
       "        toinsert[toinsert.length - 1].firstChild.textContent = bk_div.children[0].textContent\n",
       "      }\n",
       "      // store reference to server id on output_area\n",
       "      output_area._bokeh_server_id = output.metadata[EXEC_MIME_TYPE][\"server_id\"];\n",
       "    }\n",
       "  }\n",
       "\n",
       "  function register_renderer(events, OutputArea) {\n",
       "\n",
       "    function append_mime(data, metadata, element) {\n",
       "      // create a DOM node to render to\n",
       "      const toinsert = this.create_output_subarea(\n",
       "        metadata,\n",
       "        CLASS_NAME,\n",
       "        EXEC_MIME_TYPE\n",
       "      );\n",
       "      this.keyboard_manager.register_events(toinsert);\n",
       "      // Render to node\n",
       "      const props = {data: data, metadata: metadata[EXEC_MIME_TYPE]};\n",
       "      render(props, toinsert[toinsert.length - 1]);\n",
       "      element.append(toinsert);\n",
       "      return toinsert\n",
       "    }\n",
       "\n",
       "    /* Handle when an output is cleared or removed */\n",
       "    events.on('clear_output.CodeCell', handleClearOutput);\n",
       "    events.on('delete.Cell', handleClearOutput);\n",
       "\n",
       "    /* Handle when a new output is added */\n",
       "    events.on('output_added.OutputArea', handleAddOutput);\n",
       "\n",
       "    /**\n",
       "     * Register the mime type and append_mime function with output_area\n",
       "     */\n",
       "    OutputArea.prototype.register_mime_type(EXEC_MIME_TYPE, append_mime, {\n",
       "      /* Is output safe? */\n",
       "      safe: true,\n",
       "      /* Index of renderer in `output_area.display_order` */\n",
       "      index: 0\n",
       "    });\n",
       "  }\n",
       "\n",
       "  // register the mime type if in Jupyter Notebook environment and previously unregistered\n",
       "  if (root.Jupyter !== undefined) {\n",
       "    const events = require('base/js/events');\n",
       "    const OutputArea = require('notebook/js/outputarea').OutputArea;\n",
       "\n",
       "    if (OutputArea.prototype.mime_types().indexOf(EXEC_MIME_TYPE) == -1) {\n",
       "      register_renderer(events, OutputArea);\n",
       "    }\n",
       "  }\n",
       "\n",
       "  \n",
       "  if (typeof (root._bokeh_timeout) === \"undefined\" || force === true) {\n",
       "    root._bokeh_timeout = Date.now() + 5000;\n",
       "    root._bokeh_failed_load = false;\n",
       "  }\n",
       "\n",
       "  const NB_LOAD_WARNING = {'data': {'text/html':\n",
       "     \"<div style='background-color: #fdd'>\\n\"+\n",
       "     \"<p>\\n\"+\n",
       "     \"BokehJS does not appear to have successfully loaded. If loading BokehJS from CDN, this \\n\"+\n",
       "     \"may be due to a slow or bad network connection. Possible fixes:\\n\"+\n",
       "     \"</p>\\n\"+\n",
       "     \"<ul>\\n\"+\n",
       "     \"<li>re-rerun `output_notebook()` to attempt to load from CDN again, or</li>\\n\"+\n",
       "     \"<li>use INLINE resources instead, as so:</li>\\n\"+\n",
       "     \"</ul>\\n\"+\n",
       "     \"<code>\\n\"+\n",
       "     \"from bokeh.resources import INLINE\\n\"+\n",
       "     \"output_notebook(resources=INLINE)\\n\"+\n",
       "     \"</code>\\n\"+\n",
       "     \"</div>\"}};\n",
       "\n",
       "  function display_loaded() {\n",
       "    const el = document.getElementById(\"1002\");\n",
       "    if (el != null) {\n",
       "      el.textContent = \"BokehJS is loading...\";\n",
       "    }\n",
       "    if (root.Bokeh !== undefined) {\n",
       "      if (el != null) {\n",
       "        el.textContent = \"BokehJS \" + root.Bokeh.version + \" successfully loaded.\";\n",
       "      }\n",
       "    } else if (Date.now() < root._bokeh_timeout) {\n",
       "      setTimeout(display_loaded, 100)\n",
       "    }\n",
       "  }\n",
       "\n",
       "\n",
       "  function run_callbacks() {\n",
       "    try {\n",
       "      root._bokeh_onload_callbacks.forEach(function(callback) {\n",
       "        if (callback != null)\n",
       "          callback();\n",
       "      });\n",
       "    } finally {\n",
       "      delete root._bokeh_onload_callbacks\n",
       "    }\n",
       "    console.debug(\"Bokeh: all callbacks have finished\");\n",
       "  }\n",
       "\n",
       "  function load_libs(css_urls, js_urls, callback) {\n",
       "    if (css_urls == null) css_urls = [];\n",
       "    if (js_urls == null) js_urls = [];\n",
       "\n",
       "    root._bokeh_onload_callbacks.push(callback);\n",
       "    if (root._bokeh_is_loading > 0) {\n",
       "      console.debug(\"Bokeh: BokehJS is being loaded, scheduling callback at\", now());\n",
       "      return null;\n",
       "    }\n",
       "    if (js_urls == null || js_urls.length === 0) {\n",
       "      run_callbacks();\n",
       "      return null;\n",
       "    }\n",
       "    console.debug(\"Bokeh: BokehJS not loaded, scheduling load and callback at\", now());\n",
       "    root._bokeh_is_loading = css_urls.length + js_urls.length;\n",
       "\n",
       "    function on_load() {\n",
       "      root._bokeh_is_loading--;\n",
       "      if (root._bokeh_is_loading === 0) {\n",
       "        console.debug(\"Bokeh: all BokehJS libraries/stylesheets loaded\");\n",
       "        run_callbacks()\n",
       "      }\n",
       "    }\n",
       "\n",
       "    function on_error(url) {\n",
       "      console.error(\"failed to load \" + url);\n",
       "    }\n",
       "\n",
       "    for (let i = 0; i < css_urls.length; i++) {\n",
       "      const url = css_urls[i];\n",
       "      const element = document.createElement(\"link\");\n",
       "      element.onload = on_load;\n",
       "      element.onerror = on_error.bind(null, url);\n",
       "      element.rel = \"stylesheet\";\n",
       "      element.type = \"text/css\";\n",
       "      element.href = url;\n",
       "      console.debug(\"Bokeh: injecting link tag for BokehJS stylesheet: \", url);\n",
       "      document.body.appendChild(element);\n",
       "    }\n",
       "\n",
       "    for (let i = 0; i < js_urls.length; i++) {\n",
       "      const url = js_urls[i];\n",
       "      const element = document.createElement('script');\n",
       "      element.onload = on_load;\n",
       "      element.onerror = on_error.bind(null, url);\n",
       "      element.async = false;\n",
       "      element.src = url;\n",
       "      console.debug(\"Bokeh: injecting script tag for BokehJS library: \", url);\n",
       "      document.head.appendChild(element);\n",
       "    }\n",
       "  };\n",
       "\n",
       "  function inject_raw_css(css) {\n",
       "    const element = document.createElement(\"style\");\n",
       "    element.appendChild(document.createTextNode(css));\n",
       "    document.body.appendChild(element);\n",
       "  }\n",
       "\n",
       "  \n",
       "  const js_urls = [\"https://cdn.bokeh.org/bokeh/release/bokeh-2.4.1.min.js\", \"https://cdn.bokeh.org/bokeh/release/bokeh-gl-2.4.1.min.js\", \"https://cdn.bokeh.org/bokeh/release/bokeh-widgets-2.4.1.min.js\", \"https://cdn.bokeh.org/bokeh/release/bokeh-tables-2.4.1.min.js\", \"https://cdn.bokeh.org/bokeh/release/bokeh-mathjax-2.4.1.min.js\"];\n",
       "  const css_urls = [];\n",
       "  \n",
       "\n",
       "  const inline_js = [\n",
       "    function(Bokeh) {\n",
       "      Bokeh.set_log_level(\"info\");\n",
       "    },\n",
       "    function(Bokeh) {\n",
       "    \n",
       "    \n",
       "    }\n",
       "  ];\n",
       "\n",
       "  function run_inline_js() {\n",
       "    \n",
       "    if (root.Bokeh !== undefined || force === true) {\n",
       "      \n",
       "    for (let i = 0; i < inline_js.length; i++) {\n",
       "      inline_js[i].call(root, root.Bokeh);\n",
       "    }\n",
       "    if (force === true) {\n",
       "        display_loaded();\n",
       "      }} else if (Date.now() < root._bokeh_timeout) {\n",
       "      setTimeout(run_inline_js, 100);\n",
       "    } else if (!root._bokeh_failed_load) {\n",
       "      console.log(\"Bokeh: BokehJS failed to load within specified timeout.\");\n",
       "      root._bokeh_failed_load = true;\n",
       "    } else if (force !== true) {\n",
       "      const cell = $(document.getElementById(\"1002\")).parents('.cell').data().cell;\n",
       "      cell.output_area.append_execute_result(NB_LOAD_WARNING)\n",
       "    }\n",
       "\n",
       "  }\n",
       "\n",
       "  if (root._bokeh_is_loading === 0) {\n",
       "    console.debug(\"Bokeh: BokehJS loaded, going straight to plotting\");\n",
       "    run_inline_js();\n",
       "  } else {\n",
       "    load_libs(css_urls, js_urls, function() {\n",
       "      console.debug(\"Bokeh: BokehJS plotting callback run at\", now());\n",
       "      run_inline_js();\n",
       "    });\n",
       "  }\n",
       "}(window));"
      ],
      "application/vnd.bokehjs_load.v0+json": "\n(function(root) {\n  function now() {\n    return new Date();\n  }\n\n  const force = true;\n\n  if (typeof root._bokeh_onload_callbacks === \"undefined\" || force === true) {\n    root._bokeh_onload_callbacks = [];\n    root._bokeh_is_loading = undefined;\n  }\n\n  \n\n  \n  if (typeof (root._bokeh_timeout) === \"undefined\" || force === true) {\n    root._bokeh_timeout = Date.now() + 5000;\n    root._bokeh_failed_load = false;\n  }\n\n  const NB_LOAD_WARNING = {'data': {'text/html':\n     \"<div style='background-color: #fdd'>\\n\"+\n     \"<p>\\n\"+\n     \"BokehJS does not appear to have successfully loaded. If loading BokehJS from CDN, this \\n\"+\n     \"may be due to a slow or bad network connection. Possible fixes:\\n\"+\n     \"</p>\\n\"+\n     \"<ul>\\n\"+\n     \"<li>re-rerun `output_notebook()` to attempt to load from CDN again, or</li>\\n\"+\n     \"<li>use INLINE resources instead, as so:</li>\\n\"+\n     \"</ul>\\n\"+\n     \"<code>\\n\"+\n     \"from bokeh.resources import INLINE\\n\"+\n     \"output_notebook(resources=INLINE)\\n\"+\n     \"</code>\\n\"+\n     \"</div>\"}};\n\n  function display_loaded() {\n    const el = document.getElementById(\"1002\");\n    if (el != null) {\n      el.textContent = \"BokehJS is loading...\";\n    }\n    if (root.Bokeh !== undefined) {\n      if (el != null) {\n        el.textContent = \"BokehJS \" + root.Bokeh.version + \" successfully loaded.\";\n      }\n    } else if (Date.now() < root._bokeh_timeout) {\n      setTimeout(display_loaded, 100)\n    }\n  }\n\n\n  function run_callbacks() {\n    try {\n      root._bokeh_onload_callbacks.forEach(function(callback) {\n        if (callback != null)\n          callback();\n      });\n    } finally {\n      delete root._bokeh_onload_callbacks\n    }\n    console.debug(\"Bokeh: all callbacks have finished\");\n  }\n\n  function load_libs(css_urls, js_urls, callback) {\n    if (css_urls == null) css_urls = [];\n    if (js_urls == null) js_urls = [];\n\n    root._bokeh_onload_callbacks.push(callback);\n    if (root._bokeh_is_loading > 0) {\n      console.debug(\"Bokeh: BokehJS is being loaded, scheduling callback at\", now());\n      return null;\n    }\n    if (js_urls == null || js_urls.length === 0) {\n      run_callbacks();\n      return null;\n    }\n    console.debug(\"Bokeh: BokehJS not loaded, scheduling load and callback at\", now());\n    root._bokeh_is_loading = css_urls.length + js_urls.length;\n\n    function on_load() {\n      root._bokeh_is_loading--;\n      if (root._bokeh_is_loading === 0) {\n        console.debug(\"Bokeh: all BokehJS libraries/stylesheets loaded\");\n        run_callbacks()\n      }\n    }\n\n    function on_error(url) {\n      console.error(\"failed to load \" + url);\n    }\n\n    for (let i = 0; i < css_urls.length; i++) {\n      const url = css_urls[i];\n      const element = document.createElement(\"link\");\n      element.onload = on_load;\n      element.onerror = on_error.bind(null, url);\n      element.rel = \"stylesheet\";\n      element.type = \"text/css\";\n      element.href = url;\n      console.debug(\"Bokeh: injecting link tag for BokehJS stylesheet: \", url);\n      document.body.appendChild(element);\n    }\n\n    for (let i = 0; i < js_urls.length; i++) {\n      const url = js_urls[i];\n      const element = document.createElement('script');\n      element.onload = on_load;\n      element.onerror = on_error.bind(null, url);\n      element.async = false;\n      element.src = url;\n      console.debug(\"Bokeh: injecting script tag for BokehJS library: \", url);\n      document.head.appendChild(element);\n    }\n  };\n\n  function inject_raw_css(css) {\n    const element = document.createElement(\"style\");\n    element.appendChild(document.createTextNode(css));\n    document.body.appendChild(element);\n  }\n\n  \n  const js_urls = [\"https://cdn.bokeh.org/bokeh/release/bokeh-2.4.1.min.js\", \"https://cdn.bokeh.org/bokeh/release/bokeh-gl-2.4.1.min.js\", \"https://cdn.bokeh.org/bokeh/release/bokeh-widgets-2.4.1.min.js\", \"https://cdn.bokeh.org/bokeh/release/bokeh-tables-2.4.1.min.js\", \"https://cdn.bokeh.org/bokeh/release/bokeh-mathjax-2.4.1.min.js\"];\n  const css_urls = [];\n  \n\n  const inline_js = [\n    function(Bokeh) {\n      Bokeh.set_log_level(\"info\");\n    },\n    function(Bokeh) {\n    \n    \n    }\n  ];\n\n  function run_inline_js() {\n    \n    if (root.Bokeh !== undefined || force === true) {\n      \n    for (let i = 0; i < inline_js.length; i++) {\n      inline_js[i].call(root, root.Bokeh);\n    }\n    if (force === true) {\n        display_loaded();\n      }} else if (Date.now() < root._bokeh_timeout) {\n      setTimeout(run_inline_js, 100);\n    } else if (!root._bokeh_failed_load) {\n      console.log(\"Bokeh: BokehJS failed to load within specified timeout.\");\n      root._bokeh_failed_load = true;\n    } else if (force !== true) {\n      const cell = $(document.getElementById(\"1002\")).parents('.cell').data().cell;\n      cell.output_area.append_execute_result(NB_LOAD_WARNING)\n    }\n\n  }\n\n  if (root._bokeh_is_loading === 0) {\n    console.debug(\"Bokeh: BokehJS loaded, going straight to plotting\");\n    run_inline_js();\n  } else {\n    load_libs(css_urls, js_urls, function() {\n      console.debug(\"Bokeh: BokehJS plotting callback run at\", now());\n      run_inline_js();\n    });\n  }\n}(window));"
     },
     "metadata": {},
     "output_type": "display_data"
    }
   ],
   "source": [
    "from t_nachine.backtester import Backtest\n",
    "from t_nachine.strategies import Bouncing, ExtremeRSI\n",
    "import warnings\n",
    "warnings.filterwarnings(\"ignore\")\n",
    "from tqdm import tqdm\n",
    "import os \n",
    "import pandas as pd\n",
    "import numpy as np"
   ]
  },
  {
   "cell_type": "markdown",
   "id": "2910abfa-5a65-40a0-b56e-2f9c4bfbf5b2",
   "metadata": {},
   "source": [
    "## Backtest"
   ]
  },
  {
   "cell_type": "code",
   "execution_count": 3,
   "id": "8ed1615e-04b9-4ecc-90a6-3660a7d53ddf",
   "metadata": {},
   "outputs": [],
   "source": [
    "bt = Backtest(cash=20_000)"
   ]
  },
  {
   "cell_type": "code",
   "execution_count": 7,
   "id": "0a003ce3-87e0-4874-b9a2-d8ae8dda1704",
   "metadata": {
    "collapsed": true,
    "jupyter": {
     "outputs_hidden": true
    },
    "tags": []
   },
   "outputs": [
    {
     "name": "stderr",
     "output_type": "stream",
     "text": [
      "  0%|                                          | 9/7125 [00:02<28:14,  4.20it/s]\n"
     ]
    },
    {
     "ename": "KeyboardInterrupt",
     "evalue": "",
     "output_type": "error",
     "traceback": [
      "\u001b[0;31m---------------------------------------------------------------------------\u001b[0m",
      "\u001b[0;31mKeyboardInterrupt\u001b[0m                         Traceback (most recent call last)",
      "\u001b[0;32m/tmp/ipykernel_3501/2554744748.py\u001b[0m in \u001b[0;36m<module>\u001b[0;34m\u001b[0m\n\u001b[0;32m----> 1\u001b[0;31m \u001b[0mresults\u001b[0m \u001b[0;34m=\u001b[0m \u001b[0mbt\u001b[0m\u001b[0;34m.\u001b[0m\u001b[0mrun\u001b[0m\u001b[0;34m(\u001b[0m\u001b[0mstrategy\u001b[0m\u001b[0;34m=\u001b[0m\u001b[0mBouncing\u001b[0m\u001b[0;34m,\u001b[0m \u001b[0mstock_path\u001b[0m\u001b[0;34m=\u001b[0m\u001b[0;34m\"archive/Stocks\"\u001b[0m\u001b[0;34m)\u001b[0m\u001b[0;34m\u001b[0m\u001b[0;34m\u001b[0m\u001b[0m\n\u001b[0m",
      "\u001b[0;32m~/Workspace/PythonProjects/just-trade-it/t_nachine/backtester/wrapper/backtest.py\u001b[0m in \u001b[0;36mrun\u001b[0;34m(self, strategy, stock_path)\u001b[0m\n\u001b[1;32m     78\u001b[0m             \u001b[0;32mtry\u001b[0m\u001b[0;34m:\u001b[0m\u001b[0;34m\u001b[0m\u001b[0;34m\u001b[0m\u001b[0m\n\u001b[1;32m     79\u001b[0m                 backtest_results = backtest_results.append(\n\u001b[0;32m---> 80\u001b[0;31m                     self._run(\n\u001b[0m\u001b[1;32m     81\u001b[0m                         \u001b[0mstrategy\u001b[0m\u001b[0;34m,\u001b[0m\u001b[0;34m\u001b[0m\u001b[0;34m\u001b[0m\u001b[0m\n\u001b[1;32m     82\u001b[0m                         \u001b[0mos\u001b[0m\u001b[0;34m.\u001b[0m\u001b[0mpath\u001b[0m\u001b[0;34m.\u001b[0m\u001b[0mjoin\u001b[0m\u001b[0;34m(\u001b[0m\u001b[0mprefix_path\u001b[0m\u001b[0;34m,\u001b[0m \u001b[0mstock_name\u001b[0m\u001b[0;34m)\u001b[0m\u001b[0;34m,\u001b[0m\u001b[0;34m\u001b[0m\u001b[0;34m\u001b[0m\u001b[0m\n",
      "\u001b[0;32m~/Workspace/PythonProjects/just-trade-it/t_nachine/backtester/wrapper/backtest.py\u001b[0m in \u001b[0;36m_run\u001b[0;34m(self, strategy, stock_path, symbol)\u001b[0m\n\u001b[1;32m     57\u001b[0m     ) -> pd.DataFrame:\n\u001b[1;32m     58\u001b[0m \u001b[0;34m\u001b[0m\u001b[0m\n\u001b[0;32m---> 59\u001b[0;31m         stats = self.bt.run(\n\u001b[0m\u001b[1;32m     60\u001b[0m             \u001b[0mdata\u001b[0m\u001b[0;34m=\u001b[0m\u001b[0mpre_process_stock\u001b[0m\u001b[0;34m(\u001b[0m\u001b[0mpd\u001b[0m\u001b[0;34m.\u001b[0m\u001b[0mread_csv\u001b[0m\u001b[0;34m(\u001b[0m\u001b[0mstock_path\u001b[0m\u001b[0;34m)\u001b[0m\u001b[0;34m)\u001b[0m\u001b[0;34m,\u001b[0m \u001b[0mstrategy\u001b[0m\u001b[0;34m=\u001b[0m\u001b[0mstrategy\u001b[0m\u001b[0;34m\u001b[0m\u001b[0;34m\u001b[0m\u001b[0m\n\u001b[1;32m     61\u001b[0m         )\n",
      "\u001b[0;32m~/Workspace/PythonProjects/just-trade-it/t_nachine/backtester/core/backtest.py\u001b[0m in \u001b[0;36mrun\u001b[0;34m(self, data, strategy, **kwargs)\u001b[0m\n\u001b[1;32m     90\u001b[0m \u001b[0;34m\u001b[0m\u001b[0m\n\u001b[1;32m     91\u001b[0m                 \u001b[0;31m# Next tick, a moment before bar close\u001b[0m\u001b[0;34m\u001b[0m\u001b[0;34m\u001b[0m\u001b[0;34m\u001b[0m\u001b[0m\n\u001b[0;32m---> 92\u001b[0;31m                 \u001b[0mstrategy\u001b[0m\u001b[0;34m.\u001b[0m\u001b[0mnext\u001b[0m\u001b[0;34m(\u001b[0m\u001b[0;34m)\u001b[0m\u001b[0;34m\u001b[0m\u001b[0;34m\u001b[0m\u001b[0m\n\u001b[0m\u001b[1;32m     93\u001b[0m             \u001b[0;32melse\u001b[0m\u001b[0;34m:\u001b[0m\u001b[0;34m\u001b[0m\u001b[0;34m\u001b[0m\u001b[0m\n\u001b[1;32m     94\u001b[0m                 \u001b[0;31m# Close any remaining open trades so they produce some stats\u001b[0m\u001b[0;34m\u001b[0m\u001b[0;34m\u001b[0m\u001b[0;34m\u001b[0m\u001b[0m\n",
      "\u001b[0;32m~/Workspace/PythonProjects/just-trade-it/t_nachine/strategies/bouncing.py\u001b[0m in \u001b[0;36mnext\u001b[0;34m(self)\u001b[0m\n\u001b[1;32m    134\u001b[0m             \u001b[0;32mfor\u001b[0m \u001b[0msupport\u001b[0m \u001b[0;32min\u001b[0m \u001b[0msupports\u001b[0m\u001b[0;34m.\u001b[0m\u001b[0mvalues\u001b[0m\u001b[0;34m(\u001b[0m\u001b[0;34m)\u001b[0m\u001b[0;34m:\u001b[0m\u001b[0;34m\u001b[0m\u001b[0;34m\u001b[0m\u001b[0m\n\u001b[1;32m    135\u001b[0m \u001b[0;34m\u001b[0m\u001b[0m\n\u001b[0;32m--> 136\u001b[0;31m                 \u001b[0;32mif\u001b[0m \u001b[0mself\u001b[0m\u001b[0;34m.\u001b[0m\u001b[0mbuy_signal\u001b[0m\u001b[0;34m(\u001b[0m\u001b[0mcandle0\u001b[0m\u001b[0;34m,\u001b[0m \u001b[0mcandle1\u001b[0m\u001b[0;34m,\u001b[0m \u001b[0mcandle2\u001b[0m\u001b[0;34m,\u001b[0m \u001b[0msupport\u001b[0m\u001b[0;34m)\u001b[0m\u001b[0;34m:\u001b[0m\u001b[0;34m\u001b[0m\u001b[0;34m\u001b[0m\u001b[0m\n\u001b[0m\u001b[1;32m    137\u001b[0m                     \u001b[0;31m# entries and exits and number of shares\u001b[0m\u001b[0;34m\u001b[0m\u001b[0;34m\u001b[0m\u001b[0;34m\u001b[0m\u001b[0m\n\u001b[1;32m    138\u001b[0m                     \u001b[0mstop\u001b[0m \u001b[0;34m=\u001b[0m \u001b[0mself\u001b[0m\u001b[0;34m.\u001b[0m\u001b[0mrisk_manager\u001b[0m\u001b[0;34m.\u001b[0m\u001b[0mentry_price\u001b[0m\u001b[0;34m(\u001b[0m\u001b[0mcandle0\u001b[0m\u001b[0;34m.\u001b[0m\u001b[0mhigh\u001b[0m\u001b[0;34m)\u001b[0m\u001b[0;34m\u001b[0m\u001b[0;34m\u001b[0m\u001b[0m\n",
      "\u001b[0;32m~/Workspace/PythonProjects/just-trade-it/t_nachine/strategies/bouncing.py\u001b[0m in \u001b[0;36mbuy_signal\u001b[0;34m(self, candle0, candle1, candle2, support)\u001b[0m\n\u001b[1;32m    102\u001b[0m             \u001b[0mcandle\u001b[0m\u001b[0;34m=\u001b[0m\u001b[0mcandle1\u001b[0m\u001b[0;34m,\u001b[0m \u001b[0mpre_candle\u001b[0m\u001b[0;34m=\u001b[0m\u001b[0mcandle2\u001b[0m\u001b[0;34m,\u001b[0m \u001b[0msupport\u001b[0m\u001b[0;34m=\u001b[0m\u001b[0msupport\u001b[0m\u001b[0;34m\u001b[0m\u001b[0;34m\u001b[0m\u001b[0m\n\u001b[1;32m    103\u001b[0m         )\n\u001b[0;32m--> 104\u001b[0;31m         \u001b[0mis_uptrend\u001b[0m \u001b[0;34m=\u001b[0m \u001b[0mself\u001b[0m\u001b[0;34m.\u001b[0m\u001b[0muptrend\u001b[0m\u001b[0;34m(\u001b[0m\u001b[0;34m)\u001b[0m\u001b[0;34m\u001b[0m\u001b[0;34m\u001b[0m\u001b[0m\n\u001b[0m\u001b[1;32m    105\u001b[0m         \u001b[0mis_confirmed\u001b[0m \u001b[0;34m=\u001b[0m \u001b[0mBouncing\u001b[0m\u001b[0;34m.\u001b[0m\u001b[0mconfirmed\u001b[0m\u001b[0;34m(\u001b[0m\u001b[0mcandle0\u001b[0m\u001b[0;34m,\u001b[0m \u001b[0mcandle1\u001b[0m\u001b[0;34m)\u001b[0m\u001b[0;34m\u001b[0m\u001b[0;34m\u001b[0m\u001b[0m\n\u001b[1;32m    106\u001b[0m \u001b[0;34m\u001b[0m\u001b[0m\n",
      "\u001b[0;32m~/Workspace/PythonProjects/just-trade-it/t_nachine/strategies/bouncing.py\u001b[0m in \u001b[0;36muptrend\u001b[0;34m(self)\u001b[0m\n\u001b[1;32m     60\u001b[0m         )\n\u001b[1;32m     61\u001b[0m         ema18_above_ema50 = np.mean(\n\u001b[0;32m---> 62\u001b[0;31m             \u001b[0;34m[\u001b[0m\u001b[0mself\u001b[0m\u001b[0;34m.\u001b[0m\u001b[0mema18\u001b[0m\u001b[0;34m[\u001b[0m\u001b[0mi\u001b[0m\u001b[0;34m]\u001b[0m \u001b[0;34m>=\u001b[0m \u001b[0mself\u001b[0m\u001b[0;34m.\u001b[0m\u001b[0mema50\u001b[0m\u001b[0;34m[\u001b[0m\u001b[0mi\u001b[0m\u001b[0;34m]\u001b[0m \u001b[0;32mfor\u001b[0m \u001b[0mi\u001b[0m \u001b[0;32min\u001b[0m \u001b[0mrange\u001b[0m\u001b[0;34m(\u001b[0m\u001b[0;34m-\u001b[0m\u001b[0mint\u001b[0m\u001b[0;34m(\u001b[0m\u001b[0mself\u001b[0m\u001b[0;34m.\u001b[0m\u001b[0mup_days\u001b[0m \u001b[0;34m/\u001b[0m \u001b[0;36m2\u001b[0m\u001b[0;34m)\u001b[0m\u001b[0;34m,\u001b[0m \u001b[0;34m-\u001b[0m\u001b[0;36m3\u001b[0m\u001b[0;34m)\u001b[0m\u001b[0;34m]\u001b[0m\u001b[0;34m\u001b[0m\u001b[0;34m\u001b[0m\u001b[0m\n\u001b[0m\u001b[1;32m     63\u001b[0m         ) >= 0.9 and all([self.ema18[i] > self.ema50[i] for i in range(-3, 0)])\n\u001b[1;32m     64\u001b[0m \u001b[0;34m\u001b[0m\u001b[0m\n",
      "\u001b[0;32m~/Workspace/PythonProjects/just-trade-it/t_nachine/strategies/bouncing.py\u001b[0m in \u001b[0;36m<listcomp>\u001b[0;34m(.0)\u001b[0m\n\u001b[1;32m     60\u001b[0m         )\n\u001b[1;32m     61\u001b[0m         ema18_above_ema50 = np.mean(\n\u001b[0;32m---> 62\u001b[0;31m             \u001b[0;34m[\u001b[0m\u001b[0mself\u001b[0m\u001b[0;34m.\u001b[0m\u001b[0mema18\u001b[0m\u001b[0;34m[\u001b[0m\u001b[0mi\u001b[0m\u001b[0;34m]\u001b[0m \u001b[0;34m>=\u001b[0m \u001b[0mself\u001b[0m\u001b[0;34m.\u001b[0m\u001b[0mema50\u001b[0m\u001b[0;34m[\u001b[0m\u001b[0mi\u001b[0m\u001b[0;34m]\u001b[0m \u001b[0;32mfor\u001b[0m \u001b[0mi\u001b[0m \u001b[0;32min\u001b[0m \u001b[0mrange\u001b[0m\u001b[0;34m(\u001b[0m\u001b[0;34m-\u001b[0m\u001b[0mint\u001b[0m\u001b[0;34m(\u001b[0m\u001b[0mself\u001b[0m\u001b[0;34m.\u001b[0m\u001b[0mup_days\u001b[0m \u001b[0;34m/\u001b[0m \u001b[0;36m2\u001b[0m\u001b[0;34m)\u001b[0m\u001b[0;34m,\u001b[0m \u001b[0;34m-\u001b[0m\u001b[0;36m3\u001b[0m\u001b[0;34m)\u001b[0m\u001b[0;34m]\u001b[0m\u001b[0;34m\u001b[0m\u001b[0;34m\u001b[0m\u001b[0m\n\u001b[0m\u001b[1;32m     63\u001b[0m         ) >= 0.9 and all([self.ema18[i] > self.ema50[i] for i in range(-3, 0)])\n\u001b[1;32m     64\u001b[0m \u001b[0;34m\u001b[0m\u001b[0m\n",
      "\u001b[0;31mKeyboardInterrupt\u001b[0m: "
     ]
    }
   ],
   "source": [
    "results = bt.run(strategy=Bouncing, stock_path=\"archive/Stocks\")"
   ]
  },
  {
   "cell_type": "code",
   "execution_count": 56,
   "id": "0b6740ff-90cb-4c79-a5fa-acec2a9c1ebb",
   "metadata": {},
   "outputs": [],
   "source": [
    "results.drop_duplicates(inplace=True)"
   ]
  },
  {
   "cell_type": "code",
   "execution_count": 67,
   "id": "b1f9e053-859d-46ad-882a-59beea91a112",
   "metadata": {},
   "outputs": [
    {
     "data": {
      "text/plain": [
       "(59041, 15)"
      ]
     },
     "execution_count": 67,
     "metadata": {},
     "output_type": "execute_result"
    }
   ],
   "source": [
    "results.shape"
   ]
  },
  {
   "cell_type": "code",
   "execution_count": 64,
   "id": "25d9342a-24d4-4669-bcfa-2b2791b12c45",
   "metadata": {},
   "outputs": [],
   "source": [
    "results.EntryBar = results.EntryBar.astype(int)\n",
    "results.ExitBar = results.ExitBar.astype(int)\n",
    "results.Size = results.Size.astype(int)"
   ]
  },
  {
   "cell_type": "code",
   "execution_count": 60,
   "id": "1771f6b5-bdc5-495b-8ed7-38f06d8751f2",
   "metadata": {},
   "outputs": [],
   "source": [
    "bt.log_results(backtest_results=results, backtest_name=\"bounce\")"
   ]
  },
  {
   "cell_type": "markdown",
   "id": "7cf401d0-a7a4-4d3f-a21b-97cc57087959",
   "metadata": {},
   "source": [
    "###  Extreme Rsi"
   ]
  },
  {
   "cell_type": "code",
   "execution_count": 4,
   "id": "7cf51a49-2094-432d-92ad-7b975d4f0071",
   "metadata": {},
   "outputs": [
    {
     "name": "stderr",
     "output_type": "stream",
     "text": [
      "100%|███████████████████████████████████████| 7124/7124 [20:21<00:00,  5.83it/s]\n"
     ]
    }
   ],
   "source": [
    "extreme_results = bt.run(strategy=ExtremeRSI, stock_path=\"archive/Stocks/\")"
   ]
  },
  {
   "cell_type": "code",
   "execution_count": 6,
   "id": "51e68011-0541-45cc-a113-2a25e12a092f",
   "metadata": {},
   "outputs": [],
   "source": [
    "extreme_results.Volume = extreme_results.Volume.astype(int)\n",
    "extreme_results.EntryBar = extreme_results.EntryBar.astype(int)\n",
    "extreme_results.ExitBar = extreme_results.ExitBar.astype(int)\n",
    "extreme_results.Size = extreme_results.Size.astype(int)"
   ]
  },
  {
   "cell_type": "code",
   "execution_count": 8,
   "id": "ea2a5bf3-e46d-4bc9-bfd2-7906e5192e58",
   "metadata": {},
   "outputs": [],
   "source": [
    "bt.log_results(backtest_results=extreme_results, backtest_name=\"extreme_rsi\")"
   ]
  },
  {
   "cell_type": "markdown",
   "id": "dbda680c-a5b1-482a-bdbe-c2c4782f36a7",
   "metadata": {},
   "source": [
    "## Build Dataset "
   ]
  },
  {
   "cell_type": "code",
   "execution_count": 369,
   "id": "fa1fd7e5-91eb-4077-bafe-54b6baabd3ce",
   "metadata": {},
   "outputs": [],
   "source": [
    "def STOCHASTICS(data, period, k):\n",
    "    close, low, high = data.Close, data.Low, data.High\n",
    "    l_period = low.rolling(window=period).min()\n",
    "    h_period = high.rolling(window=period).max()\n",
    "    per_k = 100*(close - l_period) / (h_period - l_period)\n",
    "    per_k = per_k.rolling(window = k).mean()\n",
    "    return per_k\n",
    "\n",
    "\n",
    "def RSI(price, n=14)  -> pd.Series:\n",
    "    prices = price\n",
    "    deltas = np.diff(prices)\n",
    "    seed = deltas[:n+1]\n",
    "    up = seed[seed >= 0].sum()/n\n",
    "    down = -seed[seed < 0].sum()/n\n",
    "    rs = up/down\n",
    "    rsi = np.zeros_like(prices)\n",
    "    rsi[:n] = 100. - 100./(1.+rs)\n",
    "    for i in range(n, len(prices)):\n",
    "        delta = deltas[i-1]  # The diff is 1 shorter\n",
    "        if delta > 0:\n",
    "            upval = delta\n",
    "            downval = 0.\n",
    "        else:\n",
    "            upval = 0.\n",
    "            downval = -delta\n",
    "        up = (up*(n-1) + upval)/n\n",
    "        down = (down*(n-1) + downval)/n\n",
    "        rs = up/down\n",
    "        rsi[i] = 100. - 100./(1.+rs)\n",
    "    return pd.Series(rsi)"
   ]
  },
  {
   "cell_type": "code",
   "execution_count": 372,
   "id": "4c9c63b9-febc-45d3-b091-2ae9eba51fe9",
   "metadata": {},
   "outputs": [],
   "source": [
    "FEATURES = ['stochs', 'rsi', 'macd50_100', 'macd50_100_signal', 'bullish']\n",
    "HISTORY = 10\n"
   ]
  },
  {
   "cell_type": "code",
   "execution_count": 373,
   "id": "b4954d48-76bd-45d9-8c35-c354fd4a4119",
   "metadata": {},
   "outputs": [
    {
     "data": {
      "text/plain": [
       "5"
      ]
     },
     "execution_count": 373,
     "metadata": {},
     "output_type": "execute_result"
    }
   ],
   "source": [
    "len(FEATURES)"
   ]
  },
  {
   "cell_type": "code",
   "execution_count": 429,
   "id": "5ae6758f-aada-4617-9bdb-a982f1e685d9",
   "metadata": {},
   "outputs": [
    {
     "name": "stderr",
     "output_type": "stream",
     "text": [
      "100%|███████████████████████████████████████| 5426/5426 [15:42<00:00,  5.76it/s]\n"
     ]
    }
   ],
   "source": [
    "X, Y = build_features(path=path, bt_results=enriched_btr)"
   ]
  },
  {
   "cell_type": "code",
   "execution_count": 430,
   "id": "087e657c-fd77-45b1-94d6-59cad1aa01ac",
   "metadata": {},
   "outputs": [],
   "source": [
    "for j in range(len(FEATURES)):\n",
    "    \n",
    "    for i in range(HISTORY):\n",
    "        X.rename(columns={j + i * len(FEATURES): FEATURES[j] + f\"_{i}\"}, inplace=True)"
   ]
  },
  {
   "cell_type": "code",
   "execution_count": 431,
   "id": "2230395d-4a58-475a-a8b9-1d2970b4edc9",
   "metadata": {},
   "outputs": [],
   "source": [
    "Y.rename(columns={0: \"label\"}, inplace=True)"
   ]
  },
  {
   "cell_type": "code",
   "execution_count": 432,
   "id": "6e029c46-7613-47b3-bb58-684b8444316d",
   "metadata": {},
   "outputs": [],
   "source": [
    "X.to_csv('bounce_features.csv', index=False)"
   ]
  },
  {
   "cell_type": "code",
   "execution_count": 433,
   "id": "6d2b0953-5943-4b4a-bf99-22b1ea70c563",
   "metadata": {},
   "outputs": [],
   "source": [
    "Y.to_csv('bounce_labels.csv', index=False)\n"
   ]
  },
  {
   "cell_type": "markdown",
   "id": "b1184d41-4a7b-4e8a-9c54-fab6aef9d156",
   "metadata": {},
   "source": [
    "## Read data "
   ]
  },
  {
   "cell_type": "code",
   "execution_count": 596,
   "id": "92ffbe41-0bd7-48eb-be66-7259d5291015",
   "metadata": {},
   "outputs": [],
   "source": [
    "X = pd.read_csv('bounce_features.csv')\n",
    "Y = pd.read_csv('bounce_labels.csv')"
   ]
  },
  {
   "cell_type": "code",
   "execution_count": 597,
   "id": "a2bdfa0d-a4a1-4b43-93ed-a4411b20112f",
   "metadata": {},
   "outputs": [
    {
     "data": {
      "text/plain": [
       "((59019, 53), (59019, 4))"
      ]
     },
     "execution_count": 597,
     "metadata": {},
     "output_type": "execute_result"
    }
   ],
   "source": [
    "X.shape, Y.shape"
   ]
  },
  {
   "cell_type": "code",
   "execution_count": 598,
   "id": "2edca41a-6b28-4da9-9f7d-c7465eaf2179",
   "metadata": {},
   "outputs": [],
   "source": [
    "X_sorted = X.sort_values(by=['EntryTime'])\n",
    "Y_sorted = Y.sort_values(by=['EntryTime'])"
   ]
  },
  {
   "cell_type": "code",
   "execution_count": 599,
   "id": "63afe684-cb9f-466d-b6ac-5fba19e822b2",
   "metadata": {},
   "outputs": [],
   "source": [
    "X_sorted['EntryTime'] = pd.to_datetime(X_sorted['EntryTime'])\n",
    "X_sorted['ExitTime'] = pd.to_datetime(X_sorted['ExitTime'])\n",
    "\n",
    "Y_sorted['EntryTime'] = pd.to_datetime(Y_sorted['EntryTime'])\n",
    "Y_sorted['ExitTime'] = pd.to_datetime(Y_sorted['ExitTime'])"
   ]
  },
  {
   "cell_type": "code",
   "execution_count": 600,
   "id": "c0b9e535-d103-4682-8c40-c13b89164d7e",
   "metadata": {},
   "outputs": [],
   "source": [
    "X_sorted['EntryYear'] = X_sorted['EntryTime'].dt.year\n",
    "X_sorted['ExitYear'] = X_sorted['ExitTime'].dt.year\n",
    "\n",
    "Y_sorted['EntryYear'] = Y_sorted['EntryTime'].dt.year\n",
    "Y_sorted['ExitYear'] = Y_sorted['ExitTime'].dt.year"
   ]
  },
  {
   "cell_type": "code",
   "execution_count": null,
   "id": "7a7c2939-633e-413b-b62c-5e4103d117ab",
   "metadata": {},
   "outputs": [],
   "source": []
  },
  {
   "cell_type": "code",
   "execution_count": 601,
   "id": "af71b467-8084-4228-b293-c34c9d518d1b",
   "metadata": {},
   "outputs": [],
   "source": [
    "# train before 2015\n",
    "\n",
    "X_train = X_sorted[X_sorted.EntryYear <= 2015].drop(columns=['EntryTime', 'EntryYear', 'ExitTime', 'ExitYear', 'Symbol'])\n",
    "X_test = X_sorted[X_sorted.EntryYear > 2015].drop(columns=['EntryTime', 'EntryYear', 'ExitTime', 'ExitYear', 'Symbol'])\n",
    "\n",
    "Y_train = Y_sorted[Y_sorted.EntryYear <= 2015]['label']\n",
    "Y_test = Y_sorted[Y_sorted.EntryYear > 2015][\"label\"]"
   ]
  },
  {
   "cell_type": "code",
   "execution_count": 602,
   "id": "e3dd6cbe-acad-464d-abef-20357899f0ee",
   "metadata": {},
   "outputs": [
    {
     "data": {
      "text/plain": [
       "((48508,), (48508, 50), (10511, 50), (10511,))"
      ]
     },
     "execution_count": 602,
     "metadata": {},
     "output_type": "execute_result"
    }
   ],
   "source": [
    "Y_train.shape, X_train.shape, X_test.shape, Y_test.shape"
   ]
  },
  {
   "cell_type": "code",
   "execution_count": 603,
   "id": "4bdb0941-9180-41fe-ad11-7f33bbb88e38",
   "metadata": {},
   "outputs": [],
   "source": [
    "cols2use = [col for col in X_train.columns if \"macd\" not in col]"
   ]
  },
  {
   "cell_type": "code",
   "execution_count": 610,
   "id": "ae8ae7e0-3fdb-4b80-a4e7-6c16c3358936",
   "metadata": {},
   "outputs": [],
   "source": [
    "from sklearn.metrics import recall_score, precision_score\n",
    "\n",
    "def evalute(model, x_train, x_test):\n",
    "    \n",
    "    y_pred_train = model.predict(x_train)\n",
    "    y_pred_test = model.predict(x_test)\n",
    "    pr_train = precision_score(y_pred_train,Y_train)\n",
    "    pr_test = precision_score(y_pred_test,Y_test)\n",
    "    re_train = recall_score(y_pred_train,Y_train)\n",
    "    re_test = recall_score(y_pred_test, Y_test)\n",
    "\n",
    "    print('Train Precision is:', pr_train*100)\n",
    "    print('Test Precision is:', pr_test*100)\n",
    "    print('Train Recall is:', re_train*100)\n",
    "    print('Test Recall is:', re_test*100)"
   ]
  },
  {
   "cell_type": "code",
   "execution_count": 611,
   "id": "7c3ae50a-4862-4dc2-acb4-435c789f9fca",
   "metadata": {},
   "outputs": [],
   "source": [
    "from lightgbm import LGBMClassifier"
   ]
  },
  {
   "cell_type": "code",
   "execution_count": 621,
   "id": "0bfc9067-cdb5-4141-8d46-751b7dc49da4",
   "metadata": {},
   "outputs": [],
   "source": [
    "clf = LGBMClassifier(random_state = 2,\n",
    "                     n_estimators = 500,\n",
    "                     learning_rate=0.6,\n",
    "                    )"
   ]
  },
  {
   "cell_type": "code",
   "execution_count": 622,
   "id": "ba1ad6a6-f4a5-44d5-b284-8cf80b7271f3",
   "metadata": {},
   "outputs": [
    {
     "data": {
      "text/plain": [
       "LGBMClassifier(learning_rate=0.6, n_estimators=500, random_state=2)"
      ]
     },
     "execution_count": 622,
     "metadata": {},
     "output_type": "execute_result"
    }
   ],
   "source": [
    "clf.fit(X_train, Y_train)"
   ]
  },
  {
   "cell_type": "code",
   "execution_count": 623,
   "id": "0adc9d72-e5c3-4674-978e-f721df78add7",
   "metadata": {},
   "outputs": [
    {
     "name": "stdout",
     "output_type": "stream",
     "text": [
      "Train Precision is: 98.31823360277762\n",
      "Test Precision is: 30.014292520247736\n",
      "Train Recall is: 99.72486656028174\n",
      "Test Recall is: 40.723981900452486\n"
     ]
    }
   ],
   "source": [
    "evalute(clf, X_train, X_test)"
   ]
  },
  {
   "cell_type": "code",
   "execution_count": null,
   "id": "51e3ca68-e1a4-404f-b768-446a5230bbb5",
   "metadata": {},
   "outputs": [],
   "source": []
  },
  {
   "cell_type": "code",
   "execution_count": null,
   "id": "427ab239-f791-43e8-8fc2-b6eec1151069",
   "metadata": {},
   "outputs": [],
   "source": []
  },
  {
   "cell_type": "code",
   "execution_count": null,
   "id": "df79745c-3711-4739-a17a-8b0bdc4f9cca",
   "metadata": {},
   "outputs": [],
   "source": []
  },
  {
   "cell_type": "code",
   "execution_count": null,
   "id": "5f4f85ea-5dbe-4761-a1e4-ea1f399effef",
   "metadata": {},
   "outputs": [],
   "source": []
  },
  {
   "cell_type": "code",
   "execution_count": null,
   "id": "c199bc0f-a114-4e5b-8530-82442e98991c",
   "metadata": {},
   "outputs": [],
   "source": []
  },
  {
   "cell_type": "code",
   "execution_count": null,
   "id": "30563f59-adec-4c14-9f9d-4ec841f3f972",
   "metadata": {},
   "outputs": [],
   "source": []
  },
  {
   "cell_type": "code",
   "execution_count": null,
   "id": "d3aaa05a-a5f0-431d-a95f-f2d790b26ba6",
   "metadata": {},
   "outputs": [],
   "source": []
  },
  {
   "cell_type": "code",
   "execution_count": null,
   "id": "524dc4af-ca95-4588-bf5d-773b54a44bfc",
   "metadata": {},
   "outputs": [],
   "source": []
  },
  {
   "cell_type": "code",
   "execution_count": 543,
   "id": "6c62df63-5c01-4d77-a691-0959ba0a5766",
   "metadata": {},
   "outputs": [],
   "source": [
    "sample_df = pd.read_csv('yahoo.csv')"
   ]
  },
  {
   "cell_type": "markdown",
   "id": "af0b1fc6-645a-4408-a944-1f307709540d",
   "metadata": {},
   "source": [
    "## Backtest From 2018"
   ]
  },
  {
   "cell_type": "code",
   "execution_count": 145,
   "id": "68875476-ef2d-4020-be49-cb30b747853d",
   "metadata": {},
   "outputs": [],
   "source": [
    "bt = Backtest()"
   ]
  },
  {
   "cell_type": "code",
   "execution_count": 545,
   "id": "315977ef-81a9-412a-915d-cf9e0798f661",
   "metadata": {},
   "outputs": [],
   "source": [
    "ress = pd.DataFrame()\n",
    "\n",
    "for s in sample_df.Symbol.unique():\n",
    "    try:\n",
    "        data = sample_df[sample_df.Symbol == s]\n",
    "        data = data[data['Date']>pd.to_datetime('2018-01-01')]\n",
    "        data.set_index('Date', inplace=True)\n",
    "        res = bt.run(strategy=Bouncing, data=data)._trades\n",
    "        res['Symbol'] = [s for _ in range(len(res))]\n",
    "        ress = ress.append(res)\n",
    "    \n",
    "    except:\n",
    "        pass"
   ]
  },
  {
   "cell_type": "code",
   "execution_count": 546,
   "id": "446eaa0c-bdf0-46bf-ade8-b540110e624c",
   "metadata": {},
   "outputs": [
    {
     "data": {
      "text/html": [
       "<div>\n",
       "<style scoped>\n",
       "    .dataframe tbody tr th:only-of-type {\n",
       "        vertical-align: middle;\n",
       "    }\n",
       "\n",
       "    .dataframe tbody tr th {\n",
       "        vertical-align: top;\n",
       "    }\n",
       "\n",
       "    .dataframe thead th {\n",
       "        text-align: right;\n",
       "    }\n",
       "</style>\n",
       "<table border=\"1\" class=\"dataframe\">\n",
       "  <thead>\n",
       "    <tr style=\"text-align: right;\">\n",
       "      <th></th>\n",
       "    </tr>\n",
       "  </thead>\n",
       "  <tbody>\n",
       "  </tbody>\n",
       "</table>\n",
       "</div>"
      ],
      "text/plain": [
       "Empty DataFrame\n",
       "Columns: []\n",
       "Index: []"
      ]
     },
     "execution_count": 546,
     "metadata": {},
     "output_type": "execute_result"
    }
   ],
   "source": [
    "ress"
   ]
  },
  {
   "cell_type": "code",
   "execution_count": 180,
   "id": "a31e5a98-9080-4f0f-be5c-c7225fc00f29",
   "metadata": {},
   "outputs": [
    {
     "data": {
      "text/plain": [
       "0.3754361479413817"
      ]
     },
     "execution_count": 180,
     "metadata": {},
     "output_type": "execute_result"
    }
   ],
   "source": [
    "(ress.PnL >= 0).mean()"
   ]
  },
  {
   "cell_type": "code",
   "execution_count": 181,
   "id": "f080df0b-82cf-473e-9c1e-d819586950ef",
   "metadata": {},
   "outputs": [],
   "source": [
    "ress.drop_duplicates(inplace=True)"
   ]
  },
  {
   "cell_type": "code",
   "execution_count": 200,
   "id": "1156f649-cc90-4c4a-9895-d759e0400382",
   "metadata": {},
   "outputs": [
    {
     "data": {
      "text/plain": [
       "3853"
      ]
     },
     "execution_count": 200,
     "metadata": {},
     "output_type": "execute_result"
    }
   ],
   "source": [
    "len(ress)"
   ]
  },
  {
   "cell_type": "code",
   "execution_count": 215,
   "id": "9150a2f1-82a5-4573-a1d0-5b5983c9050b",
   "metadata": {},
   "outputs": [],
   "source": [
    "X = np.array(np.zeros((1,history * len(features))))\n",
    "Y = np.array(np.zeros(1,))"
   ]
  },
  {
   "cell_type": "code",
   "execution_count": 216,
   "id": "e70f04e2-f146-4904-b3d4-744f5cb23ff4",
   "metadata": {},
   "outputs": [
    {
     "name": "stderr",
     "output_type": "stream",
     "text": [
      "100%|█████████████████████████████████████████| 856/856 [07:15<00:00,  1.97it/s]\n"
     ]
    }
   ],
   "source": [
    "stock_names = ress.Symbol.unique()\n",
    "\n",
    "for symbol in tqdm(stock_names):\n",
    "    trades = ress[ress.Symbol == symbol]\n",
    "    df = sample_df[sample_df.Symbol == symbol]\n",
    "    df.index = range(len(df))\n",
    "    ## supports \n",
    "    for i in [18,50,100, 150, 200]:\n",
    "        df['EMA' + str(i)] = df['Close'].ewm(span = i, adjust = False).mean()\n",
    "\n",
    "    df['stochs'] = STOCHASTICS(df, 5, 3)/100\n",
    "    df['rsi'] = RSI(df['Close'], n = 2)/100\n",
    "    df['macd50_100'] = df['EMA50'] - df['EMA100'] \n",
    "    \n",
    "    for f in  ['Open','High','Low','Close']:\n",
    "        df[f] = (df[f].pct_change(1)).cumsum()\n",
    "        df.dropna(inplace = True)\n",
    "\n",
    "    ## supports \n",
    "    for i in [18,50,100, 150, 200]:\n",
    "        df['EMA' + str(i)] = df['Close'].ewm(span = i, adjust = False).mean()\n",
    "    \n",
    "    \n",
    "    for i, t in trades.iterrows():\n",
    "        try:\n",
    "        \n",
    "            df_history = df.iloc[int(t.EntryBar) - history: int(t.EntryBar)]\n",
    "            X = np.append(X, df_history[features].to_numpy().reshape((1, history * len(features))), axis = 0)\n",
    "            Y = np.append(Y, t.PnL>0)\n",
    "        \n",
    "        except:\n",
    "            pass "
   ]
  },
  {
   "cell_type": "code",
   "execution_count": 217,
   "id": "83934f00-2037-4959-bccc-dbf36ab52ce4",
   "metadata": {},
   "outputs": [
    {
     "data": {
      "text/plain": [
       "((3835, 80), (3835,))"
      ]
     },
     "execution_count": 217,
     "metadata": {},
     "output_type": "execute_result"
    }
   ],
   "source": [
    "X = X[1:]\n",
    "Y = Y[1:]\n",
    "X.shape, Y.shape"
   ]
  },
  {
   "cell_type": "code",
   "execution_count": 218,
   "id": "5fac3a01-941d-4686-bbb4-f98641d94c40",
   "metadata": {},
   "outputs": [],
   "source": [
    "X_df = pd.DataFrame(X)\n",
    "Y_df = pd.DataFrame(Y)"
   ]
  },
  {
   "cell_type": "code",
   "execution_count": 219,
   "id": "4ef869f2-6b60-443b-9d3a-655c1b29fbe6",
   "metadata": {},
   "outputs": [],
   "source": [
    "X_df = X_df.replace([np.inf, -np.inf], np.nan)"
   ]
  },
  {
   "cell_type": "code",
   "execution_count": 220,
   "id": "48a45599-6b78-405e-9b26-95c3e147cafe",
   "metadata": {},
   "outputs": [],
   "source": [
    "Y_df = Y_df.iloc[X_df.index]"
   ]
  },
  {
   "cell_type": "code",
   "execution_count": 221,
   "id": "d913539b-83a7-47ca-9189-87216425222f",
   "metadata": {},
   "outputs": [
    {
     "data": {
      "text/plain": [
       "array([0., 0., 1., ..., 0., 1., 0.])"
      ]
     },
     "execution_count": 221,
     "metadata": {},
     "output_type": "execute_result"
    }
   ],
   "source": [
    "clf.predict(X_df)"
   ]
  },
  {
   "cell_type": "code",
   "execution_count": 229,
   "id": "9dc73257-a16b-4a29-ae4b-9adacc5857c6",
   "metadata": {},
   "outputs": [
    {
     "data": {
      "text/plain": [
       "(0.2364394993045897, 0.396732788798133)"
      ]
     },
     "execution_count": 229,
     "metadata": {},
     "output_type": "execute_result"
    }
   ],
   "source": [
    "recall_score(Y_df, clf.predict(X_df)), precision_score(Y_df, clf.predict(X_df))"
   ]
  },
  {
   "cell_type": "markdown",
   "id": "041a5f0d-8129-476f-8372-0f3429de0151",
   "metadata": {},
   "source": [
    "## Checks up"
   ]
  },
  {
   "cell_type": "code",
   "execution_count": 91,
   "id": "4da34fdc-b591-48e2-94ef-cf4e2c98de6b",
   "metadata": {},
   "outputs": [
    {
     "data": {
      "text/plain": [
       "'bcs_d.us.txt'"
      ]
     },
     "execution_count": 91,
     "metadata": {},
     "output_type": "execute_result"
    }
   ],
   "source": [
    "symbol = np.random.choice(stock_names)\n",
    "symbol"
   ]
  },
  {
   "cell_type": "code",
   "execution_count": 92,
   "id": "b8808afe-3d2d-4779-afa2-e12740dab117",
   "metadata": {},
   "outputs": [],
   "source": [
    "trades = enriched_btr[enriched_btr.Symbol == symbol]\n",
    "df = pd.read_csv(f\"{path}/{symbol}\")\n",
    "\n"
   ]
  },
  {
   "cell_type": "code",
   "execution_count": 93,
   "id": "e1f3e33f-d861-4b34-97d3-8a2badd87b90",
   "metadata": {},
   "outputs": [
    {
     "data": {
      "text/plain": [
       "4"
      ]
     },
     "execution_count": 93,
     "metadata": {},
     "output_type": "execute_result"
    }
   ],
   "source": [
    "len(trades)"
   ]
  }
 ],
 "metadata": {
  "kernelspec": {
   "display_name": "Python 3 (ipykernel)",
   "language": "python",
   "name": "python3"
  },
  "language_info": {
   "codemirror_mode": {
    "name": "ipython",
    "version": 3
   },
   "file_extension": ".py",
   "mimetype": "text/x-python",
   "name": "python",
   "nbconvert_exporter": "python",
   "pygments_lexer": "ipython3",
   "version": "3.8.10"
  }
 },
 "nbformat": 4,
 "nbformat_minor": 5
}
